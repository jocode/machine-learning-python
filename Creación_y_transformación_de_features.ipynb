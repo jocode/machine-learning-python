{
  "nbformat": 4,
  "nbformat_minor": 0,
  "metadata": {
    "colab": {
      "name": "Creación y transformación de features.ipynb",
      "provenance": [],
      "mount_file_id": "1B6e3eqXThRZSUuSp7R7XrzDxfiSX_JqM",
      "authorship_tag": "ABX9TyPiMJXeNDjwK/ZCMKSw7Yar"
    },
    "kernelspec": {
      "name": "python3",
      "display_name": "Python 3"
    }
  },
  "cells": [
    {
      "cell_type": "markdown",
      "metadata": {
        "id": "2GCdd98_EPLs",
        "colab_type": "text"
      },
      "source": [
        "# Escalamiento de los datos"
      ]
    },
    {
      "cell_type": "code",
      "metadata": {
        "id": "c1jmIzlMEGw2",
        "colab_type": "code",
        "colab": {}
      },
      "source": [
        "%matplotlib inline\n",
        "import numpy as np\n",
        "import pandas as pd\n",
        "import matplotlib.pyplot as plt"
      ],
      "execution_count": 0,
      "outputs": []
    },
    {
      "cell_type": "markdown",
      "metadata": {
        "id": "M_9Hc3-_Esy6",
        "colab_type": "text"
      },
      "source": [
        "> Diversos algoritmos son sensibles a la escala en la que viene cada feature. **Re-escalarlos** puede traer significativas mejoras de rendimiento.\n",
        "\n",
        "\n",
        "Existen distintas estrategias de escalamiento de tus features, pero **la más común es la estandarización** donde convertimos la variable para que la distribución de esta siga una distribución que es Gaussiana de media 0 y de desviación estandar 1."
      ]
    },
    {
      "cell_type": "code",
      "metadata": {
        "id": "7Qju-4uwEy46",
        "colab_type": "code",
        "colab": {}
      },
      "source": [
        "from sklearn.model_selection import train_test_split\n",
        "\n",
        "X = pd.read_csv('drive/My Drive/Colab Notebooks/datasets/machine_learning_python/intermediate_results/X.csv')\n",
        "y = X['worldwide_gross']\n",
        "X = X.drop('worldwide_gross', axis=1)\n",
        "X_train, X_test, y_train, y_test = train_test_split(X, y)"
      ],
      "execution_count": 0,
      "outputs": []
    },
    {
      "cell_type": "code",
      "metadata": {
        "id": "WeTcjskVFRuD",
        "colab_type": "code",
        "colab": {
          "base_uri": "https://localhost:8080/",
          "height": 34
        },
        "outputId": "1291c104-a304-4881-a0a5-5b2520ffbfd1"
      },
      "source": [
        "from sklearn.preprocessing import StandardScaler\n",
        "\n",
        "scaler = StandardScaler()\n",
        "scaler.fit(X_train)"
      ],
      "execution_count": 4,
      "outputs": [
        {
          "output_type": "execute_result",
          "data": {
            "text/plain": [
              "StandardScaler(copy=True, with_mean=True, with_std=True)"
            ]
          },
          "metadata": {
            "tags": []
          },
          "execution_count": 4
        }
      ]
    },
    {
      "cell_type": "code",
      "metadata": {
        "id": "5qOvpvuAFenD",
        "colab_type": "code",
        "colab": {
          "base_uri": "https://localhost:8080/",
          "height": 51
        },
        "outputId": "8d80fa6c-6934-4fad-d758-3d55fbdf0db9"
      },
      "source": [
        "scaler.mean_"
      ],
      "execution_count": 5,
      "outputs": [
        {
          "output_type": "execute_result",
          "data": {
            "text/plain": [
              "array([3.36892195e+07, 2.00217053e+03, 2.13230735e+00, 1.08280715e+02,\n",
              "       1.03218418e+04, 3.79926408e+07, 6.46052632e+00, 4.90935746e+07])"
            ]
          },
          "metadata": {
            "tags": []
          },
          "execution_count": 5
        }
      ]
    },
    {
      "cell_type": "code",
      "metadata": {
        "id": "BcJ26vOWFiEQ",
        "colab_type": "code",
        "colab": {
          "base_uri": "https://localhost:8080/",
          "height": 51
        },
        "outputId": "5a3e0901-d7fb-4fcd-ddc4-1d788087de5a"
      },
      "source": [
        "# Desviación estándar de cada feature\n",
        "scaler.scale_"
      ],
      "execution_count": 6,
      "outputs": [
        {
          "output_type": "execute_result",
          "data": {
            "text/plain": [
              "array([4.12401191e+07, 1.19305015e+01, 7.61938031e-01, 2.24599838e+01,\n",
              "       2.00395939e+04, 7.55028813e+07, 1.05964029e+00, 6.52379435e+07])"
            ]
          },
          "metadata": {
            "tags": []
          },
          "execution_count": 6
        }
      ]
    },
    {
      "cell_type": "code",
      "metadata": {
        "id": "du5U-GJAFuJ1",
        "colab_type": "code",
        "colab": {
          "base_uri": "https://localhost:8080/",
          "height": 238
        },
        "outputId": "63e08158-c9c7-4fff-81d8-e7b6869cac84"
      },
      "source": [
        "X.values"
      ],
      "execution_count": 9,
      "outputs": [
        {
          "output_type": "execute_result",
          "data": {
            "text/plain": [
              "array([[4.25000000e+08, 2.00900000e+03, 1.78000000e+00, ...,\n",
              "        2.37000000e+08, 7.90000000e+00, 7.60505847e+08],\n",
              "       [3.06000000e+08, 2.00213073e+03, 2.12697615e+00, ...,\n",
              "        4.04553863e+07, 7.10000000e+00, 4.83193329e+07],\n",
              "       [3.00000000e+08, 2.00700000e+03, 2.35000000e+00, ...,\n",
              "        3.00000000e+08, 7.10000000e+00, 3.09404152e+08],\n",
              "       ...,\n",
              "       [7.00000000e+03, 2.00500000e+03, 2.12697615e+00, ...,\n",
              "        3.25000000e+03, 7.80000000e+00, 4.83193329e+07],\n",
              "       [3.96700000e+03, 2.01200000e+03, 2.35000000e+00, ...,\n",
              "        4.04553863e+07, 6.30000000e+00, 1.04430000e+04],\n",
              "       [1.10000000e+03, 2.00400000e+03, 1.85000000e+00, ...,\n",
              "        1.10000000e+03, 6.60000000e+00, 8.52220000e+04]])"
            ]
          },
          "metadata": {
            "tags": []
          },
          "execution_count": 9
        }
      ]
    },
    {
      "cell_type": "code",
      "metadata": {
        "id": "lyK1X-JdFkmI",
        "colab_type": "code",
        "colab": {
          "base_uri": "https://localhost:8080/",
          "height": 238
        },
        "outputId": "d977f887-8739-4839-b48a-a3e0ad759230"
      },
      "source": [
        "# X transformado\n",
        "scaler.transform(X_train)"
      ],
      "execution_count": 7,
      "outputs": [
        {
          "output_type": "execute_result",
          "data": {
            "text/plain": [
              "array([[ 1.60791923e+00,  6.56256986e-01,  2.85709129e-01, ...,\n",
              "         8.21258183e-01,  2.25995262e-01,  1.07493277e+00],\n",
              "       [ 1.04528808e-01, -9.81119748e-02, -3.70512216e-01, ...,\n",
              "         9.74685532e-05, -9.06464511e-01, -4.03487743e-01],\n",
              "       [ 1.24419574e+00,  7.40075760e-01, -3.70512216e-01, ...,\n",
              "         8.21258183e-01,  6.03481853e-01, -4.06677988e-02],\n",
              "       ...,\n",
              "       [ 2.74266436e-01, -5.17205842e-01,  2.85709129e-01, ...,\n",
              "         9.28091622e-02, -4.34606273e-01, -4.44399563e-01],\n",
              "       [-1.98574100e-01,  2.37163119e-01, -3.70512216e-01, ...,\n",
              "        -3.04526668e-01,  9.80968444e-01, -2.38024051e-01],\n",
              "       [ 1.12295458e+00, -1.42932014e-02,  2.85709129e-01, ...,\n",
              "         5.56367630e-01,  5.09110205e-01,  3.69750089e-01]])"
            ]
          },
          "metadata": {
            "tags": []
          },
          "execution_count": 7
        }
      ]
    },
    {
      "cell_type": "code",
      "metadata": {
        "id": "IRNSV0SPFr5V",
        "colab_type": "code",
        "colab": {}
      },
      "source": [
        "X_train_scaled, X_test_scaled = (scaler.transform(X_train), scaler.transform(X_test))"
      ],
      "execution_count": 0,
      "outputs": []
    },
    {
      "cell_type": "code",
      "metadata": {
        "id": "a10B0UvuGHj1",
        "colab_type": "code",
        "colab": {
          "base_uri": "https://localhost:8080/",
          "height": 68
        },
        "outputId": "db8e5e6c-1168-4981-e41e-8298b28f0774"
      },
      "source": [
        "from sklearn.linear_model import Lasso\n",
        "\n",
        "model = Lasso()\n",
        "model_scaled = Lasso()\n",
        "\n",
        "model.fit(X_train, y_train)\n",
        "model_scaled.fit(X_train_scaled, y_train)"
      ],
      "execution_count": 11,
      "outputs": [
        {
          "output_type": "execute_result",
          "data": {
            "text/plain": [
              "Lasso(alpha=1.0, copy_X=True, fit_intercept=True, max_iter=1000,\n",
              "      normalize=False, positive=False, precompute=False, random_state=None,\n",
              "      selection='cyclic', tol=0.0001, warm_start=False)"
            ]
          },
          "metadata": {
            "tags": []
          },
          "execution_count": 11
        }
      ]
    },
    {
      "cell_type": "code",
      "metadata": {
        "id": "MaRZZnMrGjcG",
        "colab_type": "code",
        "colab": {
          "base_uri": "https://localhost:8080/",
          "height": 51
        },
        "outputId": "1e364526-a17e-43bd-e4af-7c7e81cf896f"
      },
      "source": [
        "print(model.score(X_test, y_test))\n",
        "print(model_scaled.score(X_test_scaled, y_test))"
      ],
      "execution_count": 12,
      "outputs": [
        {
          "output_type": "stream",
          "text": [
            "0.7712814192844308\n",
            "0.7712814223855115\n"
          ],
          "name": "stdout"
        }
      ]
    },
    {
      "cell_type": "markdown",
      "metadata": {
        "id": "iEh2cCGqG9gf",
        "colab_type": "text"
      },
      "source": [
        "\n",
        "> Los modelos de regresión no se ven afectados por el escalamiento de las features. Los de clasificación sí."
      ]
    },
    {
      "cell_type": "markdown",
      "metadata": {
        "id": "0TY91z6DHF2N",
        "colab_type": "text"
      },
      "source": [
        "# Simplificar las transformaciones con pipelines\n",
        "\n",
        "Para hacer tu código más reproducible, y para evitar tener que aplicar multiples veces una misma transformación te recomendamos utilizar  `sklearn.pipeline.make_pipeline`  que permite encadenar transformaciones a tus modelos."
      ]
    },
    {
      "cell_type": "code",
      "metadata": {
        "id": "j0hiH52zG4Q7",
        "colab_type": "code",
        "colab": {
          "base_uri": "https://localhost:8080/",
          "height": 170
        },
        "outputId": "aa6528d4-afcd-4126-a126-f290c51bd238"
      },
      "source": [
        "from sklearn.pipeline import make_pipeline\n",
        "model_scaled = make_pipeline(StandardScaler(),\n",
        "                             Lasso())\n",
        "\n",
        "model_scaled.fit(X_train, y_train)"
      ],
      "execution_count": 13,
      "outputs": [
        {
          "output_type": "execute_result",
          "data": {
            "text/plain": [
              "Pipeline(memory=None,\n",
              "         steps=[('standardscaler',\n",
              "                 StandardScaler(copy=True, with_mean=True, with_std=True)),\n",
              "                ('lasso',\n",
              "                 Lasso(alpha=1.0, copy_X=True, fit_intercept=True,\n",
              "                       max_iter=1000, normalize=False, positive=False,\n",
              "                       precompute=False, random_state=None, selection='cyclic',\n",
              "                       tol=0.0001, warm_start=False))],\n",
              "         verbose=False)"
            ]
          },
          "metadata": {
            "tags": []
          },
          "execution_count": 13
        }
      ]
    },
    {
      "cell_type": "code",
      "metadata": {
        "id": "pDHCghpwHbUi",
        "colab_type": "code",
        "colab": {
          "base_uri": "https://localhost:8080/",
          "height": 34
        },
        "outputId": "f85c5c40-c80c-42d6-8094-d69887d8ee5b"
      },
      "source": [
        "print(model_scaled.score(X_test, y_test))"
      ],
      "execution_count": 14,
      "outputs": [
        {
          "output_type": "stream",
          "text": [
            "0.7712814223855115\n"
          ],
          "name": "stdout"
        }
      ]
    },
    {
      "cell_type": "markdown",
      "metadata": {
        "id": "xyiV5ThhHl6-",
        "colab_type": "text"
      },
      "source": [
        "# Crear nuevas features de forma automática"
      ]
    },
    {
      "cell_type": "code",
      "metadata": {
        "id": "3DSQOvoeHhUw",
        "colab_type": "code",
        "colab": {
          "base_uri": "https://localhost:8080/",
          "height": 68
        },
        "outputId": "a806ba87-3c30-4217-cebd-ce0aa3b77f30"
      },
      "source": [
        "A = np.arange(6).reshape(3,2)\n",
        "A"
      ],
      "execution_count": 15,
      "outputs": [
        {
          "output_type": "execute_result",
          "data": {
            "text/plain": [
              "array([[0, 1],\n",
              "       [2, 3],\n",
              "       [4, 5]])"
            ]
          },
          "metadata": {
            "tags": []
          },
          "execution_count": 15
        }
      ]
    },
    {
      "cell_type": "code",
      "metadata": {
        "id": "u5IFrJ-MHryf",
        "colab_type": "code",
        "colab": {
          "base_uri": "https://localhost:8080/",
          "height": 68
        },
        "outputId": "fcd023fb-28d0-4dca-b85b-9095d7539a02"
      },
      "source": [
        "from sklearn.preprocessing import PolynomialFeatures\n",
        "\n",
        "transformer = PolynomialFeatures(2)\n",
        "transformer.fit(A)\n",
        "transformer.transform(A)\n",
        "\n",
        "# transformer.fit_transform(A)  # => Hace las 2 acciones,entrena y transforma"
      ],
      "execution_count": 16,
      "outputs": [
        {
          "output_type": "execute_result",
          "data": {
            "text/plain": [
              "array([[ 1.,  0.,  1.,  0.,  0.,  1.],\n",
              "       [ 1.,  2.,  3.,  4.,  6.,  9.],\n",
              "       [ 1.,  4.,  5., 16., 20., 25.]])"
            ]
          },
          "metadata": {
            "tags": []
          },
          "execution_count": 16
        }
      ]
    },
    {
      "cell_type": "markdown",
      "metadata": {
        "id": "k70eNltFICDQ",
        "colab_type": "text"
      },
      "source": [
        "`PolynomialFeatures` transforma una matriz $(A1,A2)$ a $(1,A1,A2,A1^2,A1\\cdot A2,A2^2)$"
      ]
    },
    {
      "cell_type": "code",
      "metadata": {
        "id": "HKXnzmg5H8uL",
        "colab_type": "code",
        "colab": {
          "base_uri": "https://localhost:8080/",
          "height": 34
        },
        "outputId": "6c210b4c-9b17-4628-eb2d-f0bebe65a246"
      },
      "source": [
        "X.shape"
      ],
      "execution_count": 17,
      "outputs": [
        {
          "output_type": "execute_result",
          "data": {
            "text/plain": [
              "(4104, 8)"
            ]
          },
          "metadata": {
            "tags": []
          },
          "execution_count": 17
        }
      ]
    },
    {
      "cell_type": "code",
      "metadata": {
        "id": "TDKclb0MIVmD",
        "colab_type": "code",
        "colab": {
          "base_uri": "https://localhost:8080/",
          "height": 34
        },
        "outputId": "e6fd6569-2c20-4f37-e820-8e405482470e"
      },
      "source": [
        "transformer = PolynomialFeatures(2)\n",
        "\n",
        "# El transformador de ScikitLearn genera mas features a partir de la dimensión polinómica\n",
        "transformer.fit_transform(X).shape"
      ],
      "execution_count": 19,
      "outputs": [
        {
          "output_type": "execute_result",
          "data": {
            "text/plain": [
              "(4104, 45)"
            ]
          },
          "metadata": {
            "tags": []
          },
          "execution_count": 19
        }
      ]
    },
    {
      "cell_type": "code",
      "metadata": {
        "id": "hwPCrNrYIaxT",
        "colab_type": "code",
        "colab": {
          "base_uri": "https://localhost:8080/",
          "height": 88
        },
        "outputId": "96e533ba-1231-4161-fa27-3fa429900449"
      },
      "source": [
        "# Usando los features que crea ScikitLearn\n",
        "model_poly = make_pipeline(PolynomialFeatures(2),\n",
        "                           Lasso())\n",
        "\n",
        "model_poly.fit(X_train, y_train)\n",
        "model_poly.score(X_test, y_test)"
      ],
      "execution_count": 20,
      "outputs": [
        {
          "output_type": "stream",
          "text": [
            "/usr/local/lib/python3.6/dist-packages/sklearn/linear_model/_coordinate_descent.py:476: ConvergenceWarning: Objective did not converge. You might want to increase the number of iterations. Duality gap: 4.865903739246003e+18, tolerance: 9727882124860768.0\n",
            "  positive)\n"
          ],
          "name": "stderr"
        },
        {
          "output_type": "execute_result",
          "data": {
            "text/plain": [
              "0.7637791729096762"
            ]
          },
          "metadata": {
            "tags": []
          },
          "execution_count": 20
        }
      ]
    },
    {
      "cell_type": "code",
      "metadata": {
        "id": "rdm0G78tI0yq",
        "colab_type": "code",
        "colab": {
          "base_uri": "https://localhost:8080/",
          "height": 34
        },
        "outputId": "09017cbb-7478-42f3-83ae-c06f7aa1bcac"
      },
      "source": [
        "# Usando los datos normales\n",
        "model = Lasso()\n",
        "model.fit(X_train,y_train)\n",
        "model.score(X_test,y_test)"
      ],
      "execution_count": 21,
      "outputs": [
        {
          "output_type": "execute_result",
          "data": {
            "text/plain": [
              "0.7712814192844308"
            ]
          },
          "metadata": {
            "tags": []
          },
          "execution_count": 21
        }
      ]
    },
    {
      "cell_type": "markdown",
      "metadata": {
        "id": "cFJ79HjbJpL-",
        "colab_type": "text"
      },
      "source": [
        "# Crear features categóricas\n",
        "\n",
        "> En terminos de Machine Learning a las features que pueden tomar un número finito de valores se les llama categóricas. Ejemplos para esto són: género, páis, grado académico, etc.\n",
        "\n",
        "\n",
        "Un mapeo del tipo $\\{Perú, Chile, Colombia, Venezuela\\} \\rightarrow \\{1, 2, 3, 4\\}$ tiene el problema de asignarle un ordén a los valores posibles de la categoría. Este orden impacta de distintas maneras los algoritmos de Machine Learning, por ejemplo aquellos que dependen de la topología de $R^n$ y de la función de distancia entre puntos en este espacio, considerarán que ciertas categorías se encuentran más cercanas unas de otras, siendo que esto es generado puramente artificialmente por el encoding, y no por las datos per se.\n",
        "\n",
        "Para no introducir información falsa o erronéa en nuestro modelos existen formas más inteligentes de encodear nuestros datos.\n",
        "\n",
        "**Encoding one-hot**\n",
        "\n",
        "Este encoding consiste en asignarle una columna a cada categoría y rellenarla con 0 y 1 de la forma siguiente:"
      ]
    },
    {
      "cell_type": "code",
      "metadata": {
        "id": "1CM9wU9zJEOq",
        "colab_type": "code",
        "colab": {
          "base_uri": "https://localhost:8080/",
          "height": 173
        },
        "outputId": "7fb091d7-51fb-4a88-bab7-20d138b04859"
      },
      "source": [
        "d = pd.DataFrame([['Chile','Colombia','Colombia','Venezuela'],['hombre','mujer','hombre','mujer']])\n",
        "d = d.T\n",
        "d.columns = pd.Index(['pais','genero'])\n",
        "d"
      ],
      "execution_count": 22,
      "outputs": [
        {
          "output_type": "execute_result",
          "data": {
            "text/html": [
              "<div>\n",
              "<style scoped>\n",
              "    .dataframe tbody tr th:only-of-type {\n",
              "        vertical-align: middle;\n",
              "    }\n",
              "\n",
              "    .dataframe tbody tr th {\n",
              "        vertical-align: top;\n",
              "    }\n",
              "\n",
              "    .dataframe thead th {\n",
              "        text-align: right;\n",
              "    }\n",
              "</style>\n",
              "<table border=\"1\" class=\"dataframe\">\n",
              "  <thead>\n",
              "    <tr style=\"text-align: right;\">\n",
              "      <th></th>\n",
              "      <th>pais</th>\n",
              "      <th>genero</th>\n",
              "    </tr>\n",
              "  </thead>\n",
              "  <tbody>\n",
              "    <tr>\n",
              "      <th>0</th>\n",
              "      <td>Chile</td>\n",
              "      <td>hombre</td>\n",
              "    </tr>\n",
              "    <tr>\n",
              "      <th>1</th>\n",
              "      <td>Colombia</td>\n",
              "      <td>mujer</td>\n",
              "    </tr>\n",
              "    <tr>\n",
              "      <th>2</th>\n",
              "      <td>Colombia</td>\n",
              "      <td>hombre</td>\n",
              "    </tr>\n",
              "    <tr>\n",
              "      <th>3</th>\n",
              "      <td>Venezuela</td>\n",
              "      <td>mujer</td>\n",
              "    </tr>\n",
              "  </tbody>\n",
              "</table>\n",
              "</div>"
            ],
            "text/plain": [
              "        pais  genero\n",
              "0      Chile  hombre\n",
              "1   Colombia   mujer\n",
              "2   Colombia  hombre\n",
              "3  Venezuela   mujer"
            ]
          },
          "metadata": {
            "tags": []
          },
          "execution_count": 22
        }
      ]
    },
    {
      "cell_type": "code",
      "metadata": {
        "id": "16ixuNXvKBs-",
        "colab_type": "code",
        "colab": {
          "base_uri": "https://localhost:8080/",
          "height": 173
        },
        "outputId": "7c2d04ce-665a-4302-976e-abb1cf544121"
      },
      "source": [
        "pd.get_dummies(d)"
      ],
      "execution_count": 23,
      "outputs": [
        {
          "output_type": "execute_result",
          "data": {
            "text/html": [
              "<div>\n",
              "<style scoped>\n",
              "    .dataframe tbody tr th:only-of-type {\n",
              "        vertical-align: middle;\n",
              "    }\n",
              "\n",
              "    .dataframe tbody tr th {\n",
              "        vertical-align: top;\n",
              "    }\n",
              "\n",
              "    .dataframe thead th {\n",
              "        text-align: right;\n",
              "    }\n",
              "</style>\n",
              "<table border=\"1\" class=\"dataframe\">\n",
              "  <thead>\n",
              "    <tr style=\"text-align: right;\">\n",
              "      <th></th>\n",
              "      <th>pais_Chile</th>\n",
              "      <th>pais_Colombia</th>\n",
              "      <th>pais_Venezuela</th>\n",
              "      <th>genero_hombre</th>\n",
              "      <th>genero_mujer</th>\n",
              "    </tr>\n",
              "  </thead>\n",
              "  <tbody>\n",
              "    <tr>\n",
              "      <th>0</th>\n",
              "      <td>1</td>\n",
              "      <td>0</td>\n",
              "      <td>0</td>\n",
              "      <td>1</td>\n",
              "      <td>0</td>\n",
              "    </tr>\n",
              "    <tr>\n",
              "      <th>1</th>\n",
              "      <td>0</td>\n",
              "      <td>1</td>\n",
              "      <td>0</td>\n",
              "      <td>0</td>\n",
              "      <td>1</td>\n",
              "    </tr>\n",
              "    <tr>\n",
              "      <th>2</th>\n",
              "      <td>0</td>\n",
              "      <td>1</td>\n",
              "      <td>0</td>\n",
              "      <td>1</td>\n",
              "      <td>0</td>\n",
              "    </tr>\n",
              "    <tr>\n",
              "      <th>3</th>\n",
              "      <td>0</td>\n",
              "      <td>0</td>\n",
              "      <td>1</td>\n",
              "      <td>0</td>\n",
              "      <td>1</td>\n",
              "    </tr>\n",
              "  </tbody>\n",
              "</table>\n",
              "</div>"
            ],
            "text/plain": [
              "   pais_Chile  pais_Colombia  pais_Venezuela  genero_hombre  genero_mujer\n",
              "0           1              0               0              1             0\n",
              "1           0              1               0              0             1\n",
              "2           0              1               0              1             0\n",
              "3           0              0               1              0             1"
            ]
          },
          "metadata": {
            "tags": []
          },
          "execution_count": 23
        }
      ]
    },
    {
      "cell_type": "markdown",
      "metadata": {
        "id": "fAozbuijKeCR",
        "colab_type": "text"
      },
      "source": [
        "Sklearn también ofrece un objeto OneHotEncoder pero es un poco más díficil de utilizar, así que por criterios pedagogicos hemos elegido pd.get_dummies. Sin embargo el objeto de sklearn tiene la ventaja de ser pipeable, por lo que es bueno considerarlo para ciertos casos de uso.\n",
        "\n",
        "Cuantas columnas generaríamos con un one-hot encoding de nuestras features categóricas?"
      ]
    },
    {
      "cell_type": "code",
      "metadata": {
        "id": "tJNqceOVKSKW",
        "colab_type": "code",
        "colab": {}
      },
      "source": [
        "movies_obj = pd.read_csv('drive/My Drive/Colab Notebooks/datasets/machine_learning_python/movies_obj.csv')"
      ],
      "execution_count": 0,
      "outputs": []
    },
    {
      "cell_type": "code",
      "metadata": {
        "id": "bd1VOSZLOfVA",
        "colab_type": "code",
        "colab": {
          "base_uri": "https://localhost:8080/",
          "height": 221
        },
        "outputId": "a819dd79-f8bd-4a2a-a222-7a1ac6650599"
      },
      "source": [
        "movies_obj.apply(pd.Series.nunique).sort_values()"
      ],
      "execution_count": 27,
      "outputs": [
        {
          "output_type": "execute_result",
          "data": {
            "text/plain": [
              "color                2\n",
              "content_rating      18\n",
              "language            47\n",
              "country             65\n",
              "genres             914\n",
              "actor_1_name      2097\n",
              "director_name     2398\n",
              "actor_2_name      3032\n",
              "actor_3_name      3521\n",
              "plot_keywords     4760\n",
              "movie_title       4917\n",
              "dtype: int64"
            ]
          },
          "metadata": {
            "tags": []
          },
          "execution_count": 27
        }
      ]
    },
    {
      "cell_type": "markdown",
      "metadata": {
        "id": "qNO-U0ilOwVc",
        "colab_type": "text"
      },
      "source": [
        "\n",
        "Las features más informativas son las del casting. Si embargo haciendo un one-hot encoding de estas estaríamos aumentando la dimensión por 2000 y algo!!\n",
        "\n",
        "# Encoding Binario\n",
        "\n",
        "Esta técnica no es canónica por lo que tendremos que buscarla en otra librería. Sin embargo el autor tuvo la buena idea de hacer su API compatible con la de sklearn, así que no tendremos ninguna dificultad en usarla.\n",
        "\n",
        "$$ Categoria \\rightarrow Numero \\rightarrow Binario \\rightarrow Columnas $$"
      ]
    },
    {
      "cell_type": "code",
      "metadata": {
        "id": "rn0GHQAwPaRw",
        "colab_type": "code",
        "colab": {
          "base_uri": "https://localhost:8080/",
          "height": 204
        },
        "outputId": "a8e2530c-efd2-47ae-a06f-12950c30d386"
      },
      "source": [
        "!pip install category_encoders"
      ],
      "execution_count": 29,
      "outputs": [
        {
          "output_type": "stream",
          "text": [
            "Requirement already satisfied: category_encoders in /usr/local/lib/python3.6/dist-packages (2.1.0)\n",
            "Requirement already satisfied: numpy>=1.11.3 in /usr/local/lib/python3.6/dist-packages (from category_encoders) (1.18.2)\n",
            "Requirement already satisfied: pandas>=0.21.1 in /usr/local/lib/python3.6/dist-packages (from category_encoders) (1.0.3)\n",
            "Requirement already satisfied: scikit-learn>=0.20.0 in /usr/local/lib/python3.6/dist-packages (from category_encoders) (0.22.2.post1)\n",
            "Requirement already satisfied: statsmodels>=0.6.1 in /usr/local/lib/python3.6/dist-packages (from category_encoders) (0.10.2)\n",
            "Requirement already satisfied: patsy>=0.4.1 in /usr/local/lib/python3.6/dist-packages (from category_encoders) (0.5.1)\n",
            "Requirement already satisfied: scipy>=0.19.0 in /usr/local/lib/python3.6/dist-packages (from category_encoders) (1.4.1)\n",
            "Requirement already satisfied: pytz>=2017.2 in /usr/local/lib/python3.6/dist-packages (from pandas>=0.21.1->category_encoders) (2018.9)\n",
            "Requirement already satisfied: python-dateutil>=2.6.1 in /usr/local/lib/python3.6/dist-packages (from pandas>=0.21.1->category_encoders) (2.8.1)\n",
            "Requirement already satisfied: joblib>=0.11 in /usr/local/lib/python3.6/dist-packages (from scikit-learn>=0.20.0->category_encoders) (0.14.1)\n",
            "Requirement already satisfied: six in /usr/local/lib/python3.6/dist-packages (from patsy>=0.4.1->category_encoders) (1.12.0)\n"
          ],
          "name": "stdout"
        }
      ]
    },
    {
      "cell_type": "code",
      "metadata": {
        "id": "MPRO0UVzPkYY",
        "colab_type": "code",
        "colab": {}
      },
      "source": [
        "categoricals = pd.read_csv('drive/My Drive/Colab Notebooks/datasets/machine_learning_python/categoricals.csv').set_index('Unnamed: 0')"
      ],
      "execution_count": 0,
      "outputs": []
    },
    {
      "cell_type": "code",
      "metadata": {
        "id": "8VG8-IOTP7Zm",
        "colab_type": "code",
        "colab": {
          "base_uri": "https://localhost:8080/",
          "height": 111
        },
        "outputId": "1f727a5b-cffc-472a-f455-8870895f83e7"
      },
      "source": [
        "categoricals.head(1)"
      ],
      "execution_count": 36,
      "outputs": [
        {
          "output_type": "execute_result",
          "data": {
            "text/html": [
              "<div>\n",
              "<style scoped>\n",
              "    .dataframe tbody tr th:only-of-type {\n",
              "        vertical-align: middle;\n",
              "    }\n",
              "\n",
              "    .dataframe tbody tr th {\n",
              "        vertical-align: top;\n",
              "    }\n",
              "\n",
              "    .dataframe thead th {\n",
              "        text-align: right;\n",
              "    }\n",
              "</style>\n",
              "<table border=\"1\" class=\"dataframe\">\n",
              "  <thead>\n",
              "    <tr style=\"text-align: right;\">\n",
              "      <th></th>\n",
              "      <th>actor_1_name</th>\n",
              "      <th>director_name</th>\n",
              "    </tr>\n",
              "    <tr>\n",
              "      <th>Unnamed: 0</th>\n",
              "      <th></th>\n",
              "      <th></th>\n",
              "    </tr>\n",
              "  </thead>\n",
              "  <tbody>\n",
              "    <tr>\n",
              "      <th>0</th>\n",
              "      <td>CCH Pounder</td>\n",
              "      <td>James Cameron</td>\n",
              "    </tr>\n",
              "  </tbody>\n",
              "</table>\n",
              "</div>"
            ],
            "text/plain": [
              "           actor_1_name  director_name\n",
              "Unnamed: 0                            \n",
              "0           CCH Pounder  James Cameron"
            ]
          },
          "metadata": {
            "tags": []
          },
          "execution_count": 36
        }
      ]
    },
    {
      "cell_type": "code",
      "metadata": {
        "id": "Pyed0nBGS8Se",
        "colab_type": "code",
        "colab": {}
      },
      "source": [
        "categoricals = categoricals.reset_index(drop=True).fillna(0)"
      ],
      "execution_count": 0,
      "outputs": []
    },
    {
      "cell_type": "code",
      "metadata": {
        "id": "t86Fhv1TS_j-",
        "colab_type": "code",
        "colab": {}
      },
      "source": [
        "X_binenc = pd.concat([X, categoricals], axis=1)"
      ],
      "execution_count": 0,
      "outputs": []
    },
    {
      "cell_type": "code",
      "metadata": {
        "id": "aMz51441TvmQ",
        "colab_type": "code",
        "colab": {
          "base_uri": "https://localhost:8080/",
          "height": 238
        },
        "outputId": "157f5d57-df76-4fc3-ba72-48e7b420177e"
      },
      "source": [
        "X_binenc.head()"
      ],
      "execution_count": 64,
      "outputs": [
        {
          "output_type": "execute_result",
          "data": {
            "text/html": [
              "<div>\n",
              "<style scoped>\n",
              "    .dataframe tbody tr th:only-of-type {\n",
              "        vertical-align: middle;\n",
              "    }\n",
              "\n",
              "    .dataframe tbody tr th {\n",
              "        vertical-align: top;\n",
              "    }\n",
              "\n",
              "    .dataframe thead th {\n",
              "        text-align: right;\n",
              "    }\n",
              "</style>\n",
              "<table border=\"1\" class=\"dataframe\">\n",
              "  <thead>\n",
              "    <tr style=\"text-align: right;\">\n",
              "      <th></th>\n",
              "      <th>production_budget</th>\n",
              "      <th>title_year</th>\n",
              "      <th>aspect_ratio</th>\n",
              "      <th>duration</th>\n",
              "      <th>cast_total_facebook_likes</th>\n",
              "      <th>budget</th>\n",
              "      <th>imdb_score</th>\n",
              "      <th>gross</th>\n",
              "      <th>actor_1_name</th>\n",
              "      <th>director_name</th>\n",
              "    </tr>\n",
              "  </thead>\n",
              "  <tbody>\n",
              "    <tr>\n",
              "      <th>0</th>\n",
              "      <td>425000000.0</td>\n",
              "      <td>2009.000000</td>\n",
              "      <td>1.780000</td>\n",
              "      <td>178.000000</td>\n",
              "      <td>4834.0</td>\n",
              "      <td>2.370000e+08</td>\n",
              "      <td>7.9</td>\n",
              "      <td>7.605058e+08</td>\n",
              "      <td>CCH Pounder</td>\n",
              "      <td>James Cameron</td>\n",
              "    </tr>\n",
              "    <tr>\n",
              "      <th>1</th>\n",
              "      <td>306000000.0</td>\n",
              "      <td>2002.130733</td>\n",
              "      <td>2.126976</td>\n",
              "      <td>108.577186</td>\n",
              "      <td>143.0</td>\n",
              "      <td>4.045539e+07</td>\n",
              "      <td>7.1</td>\n",
              "      <td>4.831933e+07</td>\n",
              "      <td>Doug Walker</td>\n",
              "      <td>Doug Walker</td>\n",
              "    </tr>\n",
              "    <tr>\n",
              "      <th>2</th>\n",
              "      <td>300000000.0</td>\n",
              "      <td>2007.000000</td>\n",
              "      <td>2.350000</td>\n",
              "      <td>169.000000</td>\n",
              "      <td>48350.0</td>\n",
              "      <td>3.000000e+08</td>\n",
              "      <td>7.1</td>\n",
              "      <td>3.094042e+08</td>\n",
              "      <td>Johnny Depp</td>\n",
              "      <td>Gore Verbinski</td>\n",
              "    </tr>\n",
              "    <tr>\n",
              "      <th>3</th>\n",
              "      <td>300000000.0</td>\n",
              "      <td>2015.000000</td>\n",
              "      <td>2.350000</td>\n",
              "      <td>148.000000</td>\n",
              "      <td>11700.0</td>\n",
              "      <td>2.450000e+08</td>\n",
              "      <td>6.8</td>\n",
              "      <td>2.000742e+08</td>\n",
              "      <td>Christoph Waltz</td>\n",
              "      <td>Sam Mendes</td>\n",
              "    </tr>\n",
              "    <tr>\n",
              "      <th>4</th>\n",
              "      <td>275000000.0</td>\n",
              "      <td>2012.000000</td>\n",
              "      <td>2.350000</td>\n",
              "      <td>164.000000</td>\n",
              "      <td>106759.0</td>\n",
              "      <td>2.500000e+08</td>\n",
              "      <td>8.5</td>\n",
              "      <td>4.481306e+08</td>\n",
              "      <td>Tom Hardy</td>\n",
              "      <td>Christopher Nolan</td>\n",
              "    </tr>\n",
              "  </tbody>\n",
              "</table>\n",
              "</div>"
            ],
            "text/plain": [
              "   production_budget   title_year  ...     actor_1_name      director_name\n",
              "0        425000000.0  2009.000000  ...      CCH Pounder      James Cameron\n",
              "1        306000000.0  2002.130733  ...      Doug Walker        Doug Walker\n",
              "2        300000000.0  2007.000000  ...      Johnny Depp     Gore Verbinski\n",
              "3        300000000.0  2015.000000  ...  Christoph Waltz         Sam Mendes\n",
              "4        275000000.0  2012.000000  ...        Tom Hardy  Christopher Nolan\n",
              "\n",
              "[5 rows x 10 columns]"
            ]
          },
          "metadata": {
            "tags": []
          },
          "execution_count": 64
        }
      ]
    },
    {
      "cell_type": "code",
      "metadata": {
        "id": "rtE0EMrSTxqE",
        "colab_type": "code",
        "colab": {}
      },
      "source": [
        "import category_encoders as ce\n",
        "encoder = ce.BinaryEncoder(cols=['actor_1_name','director_name'])"
      ],
      "execution_count": 0,
      "outputs": []
    },
    {
      "cell_type": "code",
      "metadata": {
        "id": "p6Zl5NXET86q",
        "colab_type": "code",
        "colab": {
          "base_uri": "https://localhost:8080/",
          "height": 34
        },
        "outputId": "dbbc2b1f-0db7-457e-9b64-4ba5a7893ab4"
      },
      "source": [
        "encoder.fit_transform(X_binenc).shape"
      ],
      "execution_count": 66,
      "outputs": [
        {
          "output_type": "execute_result",
          "data": {
            "text/plain": [
              "(4104, 32)"
            ]
          },
          "metadata": {
            "tags": []
          },
          "execution_count": 66
        }
      ]
    },
    {
      "cell_type": "code",
      "metadata": {
        "id": "1e9yHSgJVAk6",
        "colab_type": "code",
        "colab": {}
      },
      "source": [
        "X_binenc = encoder.fit_transform(X_binenc)"
      ],
      "execution_count": 0,
      "outputs": []
    },
    {
      "cell_type": "code",
      "metadata": {
        "id": "oiXvu2TvUBY_",
        "colab_type": "code",
        "colab": {}
      },
      "source": [
        "Xb_train, Xb_test, y_train, y_test = train_test_split(X_binenc, y)"
      ],
      "execution_count": 0,
      "outputs": []
    },
    {
      "cell_type": "code",
      "metadata": {
        "id": "dfd8JTJ4UQI3",
        "colab_type": "code",
        "colab": {}
      },
      "source": [
        "model_binenc = Lasso()\n",
        "model = Lasso()"
      ],
      "execution_count": 0,
      "outputs": []
    },
    {
      "cell_type": "code",
      "metadata": {
        "id": "huLy8aW8VQ9J",
        "colab_type": "code",
        "colab": {
          "base_uri": "https://localhost:8080/",
          "height": 156
        },
        "outputId": "840e6030-3f34-45a8-9523-c535bd9e943a"
      },
      "source": [
        "model_binenc.fit(Xb_train,y_train)\n",
        "model.fit(X_train,y_train)"
      ],
      "execution_count": 70,
      "outputs": [
        {
          "output_type": "stream",
          "text": [
            "/usr/local/lib/python3.6/dist-packages/sklearn/linear_model/_coordinate_descent.py:476: ConvergenceWarning: Objective did not converge. You might want to increase the number of iterations. Duality gap: 2.117813713808982e+18, tolerance: 8763783009743717.0\n",
            "  positive)\n",
            "/usr/local/lib/python3.6/dist-packages/sklearn/linear_model/_coordinate_descent.py:476: ConvergenceWarning: Objective did not converge. You might want to increase the number of iterations. Duality gap: 1.6463411890329846e+18, tolerance: 8763783009743717.0\n",
            "  positive)\n"
          ],
          "name": "stderr"
        },
        {
          "output_type": "execute_result",
          "data": {
            "text/plain": [
              "Lasso(alpha=1.0, copy_X=True, fit_intercept=True, max_iter=1000,\n",
              "      normalize=False, positive=False, precompute=False, random_state=None,\n",
              "      selection='cyclic', tol=0.0001, warm_start=False)"
            ]
          },
          "metadata": {
            "tags": []
          },
          "execution_count": 70
        }
      ]
    },
    {
      "cell_type": "code",
      "metadata": {
        "id": "ljlTkxA9VTgR",
        "colab_type": "code",
        "colab": {
          "base_uri": "https://localhost:8080/",
          "height": 51
        },
        "outputId": "8401777a-63ef-48cb-ca39-c6e5779a7d06"
      },
      "source": [
        "print(model_binenc.score(Xb_test,y_test))\n",
        "print(model.score(X_test,y_test))"
      ],
      "execution_count": 71,
      "outputs": [
        {
          "output_type": "stream",
          "text": [
            "0.7963666057248362\n",
            "-0.02248399803996981\n"
          ],
          "name": "stdout"
        }
      ]
    },
    {
      "cell_type": "markdown",
      "metadata": {
        "id": "TTShK7XoWSq0",
        "colab_type": "text"
      },
      "source": [
        "\n",
        "Aumentamos el rendimiento de nuestro algoritmo pero no de forma significativa. Mantengamos entonces la dimensionalidad de nuestro espacio de features baja, y vamos a buscar modelos más complejos"
      ]
    },
    {
      "cell_type": "markdown",
      "metadata": {
        "id": "bsdG4qxdWVaK",
        "colab_type": "text"
      },
      "source": [
        "# Conocimiento experto\n",
        "\n",
        "> Una grán parte del diseño de las features pasa por un **conocimiento espécifico del dominio en el que se esta trabajando**.\n",
        "Por ejemplo para analizar una imagen nuestro cerebro no se concentra en los millones de pixeles de una imagen, pero sólo en algunos relevantes como los de los contornos. Durante un buen tiempo **los sistemas de visión de computadores encodeaban features que traducían este conocimiento experto (contornos).**\n",
        "Una de las únicas formas de obtener este conocimiento de forma sistemática es ir a bucear en repositorios de papers de Machine Learning como Arxiv, y estudiar la investigación que se ha hecho sobre el dominio específico."
      ]
    },
    {
      "cell_type": "markdown",
      "metadata": {
        "id": "SSufeE5HWk5a",
        "colab_type": "text"
      },
      "source": [
        "# Más datos de calidad\n",
        "\n",
        "\n",
        "\n",
        "---\n",
        "\n",
        "\n",
        "\n",
        "Nada le gana conseguir más datos que sean encodeables en features de calidad.\n",
        "\n",
        "***Píramide de Maslow del Machine Learning***\n",
        "\n",
        "![Maslow](https://github.com/JuanPabloMF/machine-learning-platzi/raw/8c90f12d2f94ba2b58d725d2eb232a8d654cfc22/img/maslow.png)\n",
        "\n",
        "Contamos con la base de datos de ganancias de las péliculas el primer fin de semana de exhibición, así como la cantidad de cines en la que fue estrenada."
      ]
    },
    {
      "cell_type": "code",
      "metadata": {
        "id": "Qk_3UOuaVX2x",
        "colab_type": "code",
        "colab": {
          "base_uri": "https://localhost:8080/",
          "height": 419
        },
        "outputId": "ea2c15fc-d34a-442e-a09d-c5ff6662fb23"
      },
      "source": [
        "pd.read_csv('drive/My Drive/Colab Notebooks/datasets/machine_learning_python/opening_df.csv')"
      ],
      "execution_count": 73,
      "outputs": [
        {
          "output_type": "execute_result",
          "data": {
            "text/html": [
              "<div>\n",
              "<style scoped>\n",
              "    .dataframe tbody tr th:only-of-type {\n",
              "        vertical-align: middle;\n",
              "    }\n",
              "\n",
              "    .dataframe tbody tr th {\n",
              "        vertical-align: top;\n",
              "    }\n",
              "\n",
              "    .dataframe thead th {\n",
              "        text-align: right;\n",
              "    }\n",
              "</style>\n",
              "<table border=\"1\" class=\"dataframe\">\n",
              "  <thead>\n",
              "    <tr style=\"text-align: right;\">\n",
              "      <th></th>\n",
              "      <th>Unnamed: 0</th>\n",
              "      <th>movie_title</th>\n",
              "      <th>opening_gross</th>\n",
              "      <th>screens</th>\n",
              "    </tr>\n",
              "  </thead>\n",
              "  <tbody>\n",
              "    <tr>\n",
              "      <th>0</th>\n",
              "      <td>0</td>\n",
              "      <td>10 Days in a Madhouse</td>\n",
              "      <td>2451.0</td>\n",
              "      <td>10.0</td>\n",
              "    </tr>\n",
              "    <tr>\n",
              "      <th>1</th>\n",
              "      <td>1</td>\n",
              "      <td>10 Things I Hate About You</td>\n",
              "      <td>8330681.0</td>\n",
              "      <td>2271.0</td>\n",
              "    </tr>\n",
              "    <tr>\n",
              "      <th>2</th>\n",
              "      <td>2</td>\n",
              "      <td>102 Dalmatians</td>\n",
              "      <td>19883351.0</td>\n",
              "      <td>2704.0</td>\n",
              "    </tr>\n",
              "    <tr>\n",
              "      <th>3</th>\n",
              "      <td>3</td>\n",
              "      <td>12 Rounds</td>\n",
              "      <td>5329240.0</td>\n",
              "      <td>2331.0</td>\n",
              "    </tr>\n",
              "    <tr>\n",
              "      <th>4</th>\n",
              "      <td>4</td>\n",
              "      <td>12 Years a Slave</td>\n",
              "      <td>923715.0</td>\n",
              "      <td>19.0</td>\n",
              "    </tr>\n",
              "    <tr>\n",
              "      <th>...</th>\n",
              "      <td>...</td>\n",
              "      <td>...</td>\n",
              "      <td>...</td>\n",
              "      <td>...</td>\n",
              "    </tr>\n",
              "    <tr>\n",
              "      <th>2267</th>\n",
              "      <td>2271</td>\n",
              "      <td>Zombieland</td>\n",
              "      <td>24733155.0</td>\n",
              "      <td>3036.0</td>\n",
              "    </tr>\n",
              "    <tr>\n",
              "      <th>2268</th>\n",
              "      <td>2272</td>\n",
              "      <td>Zookeeper</td>\n",
              "      <td>20065617.0</td>\n",
              "      <td>3482.0</td>\n",
              "    </tr>\n",
              "    <tr>\n",
              "      <th>2269</th>\n",
              "      <td>2273</td>\n",
              "      <td>Zoolander 2</td>\n",
              "      <td>15650000.0</td>\n",
              "      <td>3394.0</td>\n",
              "    </tr>\n",
              "    <tr>\n",
              "      <th>2270</th>\n",
              "      <td>2274</td>\n",
              "      <td>Zoom</td>\n",
              "      <td>4510408.0</td>\n",
              "      <td>NaN</td>\n",
              "    </tr>\n",
              "    <tr>\n",
              "      <th>2271</th>\n",
              "      <td>2275</td>\n",
              "      <td>Æon Flux</td>\n",
              "      <td>12661112.0</td>\n",
              "      <td>NaN</td>\n",
              "    </tr>\n",
              "  </tbody>\n",
              "</table>\n",
              "<p>2272 rows × 4 columns</p>\n",
              "</div>"
            ],
            "text/plain": [
              "      Unnamed: 0                  movie_title  opening_gross  screens\n",
              "0              0       10 Days in a Madhouse          2451.0     10.0\n",
              "1              1  10 Things I Hate About You       8330681.0   2271.0\n",
              "2              2              102 Dalmatians      19883351.0   2704.0\n",
              "3              3                   12 Rounds       5329240.0   2331.0\n",
              "4              4            12 Years a Slave        923715.0     19.0\n",
              "...          ...                          ...            ...      ...\n",
              "2267        2271                  Zombieland      24733155.0   3036.0\n",
              "2268        2272                   Zookeeper      20065617.0   3482.0\n",
              "2269        2273                 Zoolander 2      15650000.0   3394.0\n",
              "2270        2274                        Zoom       4510408.0      NaN\n",
              "2271        2275                    Æon Flux      12661112.0      NaN\n",
              "\n",
              "[2272 rows x 4 columns]"
            ]
          },
          "metadata": {
            "tags": []
          },
          "execution_count": 73
        }
      ]
    },
    {
      "cell_type": "markdown",
      "metadata": {
        "id": "Zwx3XNYSYLZ2",
        "colab_type": "text"
      },
      "source": [
        "Puedes mejorar considerablemente nuestra predicción?"
      ]
    }
  ]
}