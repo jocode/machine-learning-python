{
  "nbformat": 4,
  "nbformat_minor": 0,
  "metadata": {
    "colab": {
      "name": "Preparación de los datos.ipynb",
      "provenance": [],
      "collapsed_sections": [],
      "authorship_tag": "ABX9TyPsIjZWFC0GU/SlH/7oAQwA",
      "include_colab_link": true
    },
    "kernelspec": {
      "name": "python3",
      "display_name": "Python 3"
    }
  },
  "cells": [
    {
      "cell_type": "markdown",
      "metadata": {
        "id": "view-in-github",
        "colab_type": "text"
      },
      "source": [
        "<a href=\"https://colab.research.google.com/github/jocode/machine-learning-python/blob/master/Preparaci%C3%B3n_de_los_datos.ipynb\" target=\"_parent\"><img src=\"https://colab.research.google.com/assets/colab-badge.svg\" alt=\"Open In Colab\"/></a>"
      ]
    },
    {
      "cell_type": "code",
      "metadata": {
        "id": "mjZqOynaOpuc",
        "colab_type": "code",
        "colab": {}
      },
      "source": [
        "# Importamos las librerías\n",
        "import numpy as np\n",
        "import pandas as pd   # Pandas funciona casi igual de numpy y extiende las funcionalidades\n",
        "import matplotlib.pyplot as plt\n",
        "import seaborn as sb   # Es una sobrecapa de matplotlib que permite hacer gráficos estadísticos"
      ],
      "execution_count": 0,
      "outputs": []
    },
    {
      "cell_type": "code",
      "metadata": {
        "id": "eSAvJSxlPWbX",
        "colab_type": "code",
        "colab": {}
      },
      "source": [
        "# Esta línea permite que los gráficos sean renderizados directamente en nuestro Notebook\n",
        "## Carguemos en un pandas dataframe nuestra base de datos\n",
        "%matplotlib inline"
      ],
      "execution_count": 0,
      "outputs": []
    },
    {
      "cell_type": "markdown",
      "metadata": {
        "id": "gXJGrbq-QFdn",
        "colab_type": "text"
      },
      "source": [
        "# Carguemos en un pandas datarame nuestra base de datos\n",
        "\n",
        "**`pd.read_csv`** es el método que nos permite importar los datos desde un CSV y cargarlos en un **DataFrame**, que es la estructura de base de Pandas.\n",
        "\n"
      ]
    },
    {
      "cell_type": "code",
      "metadata": {
        "id": "wqliwasUQLlV",
        "colab_type": "code",
        "colab": {
          "base_uri": "https://localhost:8080/",
          "height": 34
        },
        "outputId": "1a7fd0d2-762f-492f-f86b-5f4c4c92bb9a"
      },
      "source": [
        "# Cargar el dataset desde drive\n",
        "from google.colab import drive\n",
        "drive.mount('/content/drive')"
      ],
      "execution_count": 191,
      "outputs": [
        {
          "output_type": "stream",
          "text": [
            "Drive already mounted at /content/drive; to attempt to forcibly remount, call drive.mount(\"/content/drive\", force_remount=True).\n"
          ],
          "name": "stdout"
        }
      ]
    },
    {
      "cell_type": "code",
      "metadata": {
        "id": "oBZWgtsjSRqn",
        "colab_type": "code",
        "colab": {}
      },
      "source": [
        "movies = pd.read_csv('drive/My Drive/Colab Notebooks/datasets/machine_learning_python/peliculas.csv', encoding='utf-8')"
      ],
      "execution_count": 0,
      "outputs": []
    },
    {
      "cell_type": "code",
      "metadata": {
        "id": "GYOb3elJTY-U",
        "colab_type": "code",
        "colab": {
          "base_uri": "https://localhost:8080/",
          "height": 34
        },
        "outputId": "432c9ccc-1e3d-4114-a6c3-7adf2b003a83"
      },
      "source": [
        "type(movies)"
      ],
      "execution_count": 193,
      "outputs": [
        {
          "output_type": "execute_result",
          "data": {
            "text/plain": [
              "pandas.core.frame.DataFrame"
            ]
          },
          "metadata": {
            "tags": []
          },
          "execution_count": 193
        }
      ]
    },
    {
      "cell_type": "code",
      "metadata": {
        "id": "nsoTxh5nUZg_",
        "colab_type": "code",
        "colab": {
          "base_uri": "https://localhost:8080/",
          "height": 360
        },
        "outputId": "a310c965-68c4-4fdc-be42-a3dcf6f1accc"
      },
      "source": [
        "movies.head()"
      ],
      "execution_count": 194,
      "outputs": [
        {
          "output_type": "execute_result",
          "data": {
            "text/html": [
              "<div>\n",
              "<style scoped>\n",
              "    .dataframe tbody tr th:only-of-type {\n",
              "        vertical-align: middle;\n",
              "    }\n",
              "\n",
              "    .dataframe tbody tr th {\n",
              "        vertical-align: top;\n",
              "    }\n",
              "\n",
              "    .dataframe thead th {\n",
              "        text-align: right;\n",
              "    }\n",
              "</style>\n",
              "<table border=\"1\" class=\"dataframe\">\n",
              "  <thead>\n",
              "    <tr style=\"text-align: right;\">\n",
              "      <th></th>\n",
              "      <th>movie_title</th>\n",
              "      <th>title_year</th>\n",
              "      <th>color</th>\n",
              "      <th>aspect_ratio</th>\n",
              "      <th>duration</th>\n",
              "      <th>language</th>\n",
              "      <th>country</th>\n",
              "      <th>duration.1</th>\n",
              "      <th>genres</th>\n",
              "      <th>content_rating</th>\n",
              "      <th>plot_keywords</th>\n",
              "      <th>director_name</th>\n",
              "      <th>actor_1_name</th>\n",
              "      <th>actor_2_name</th>\n",
              "      <th>actor_3_name</th>\n",
              "      <th>cast_total_facebook_likes</th>\n",
              "      <th>budget</th>\n",
              "      <th>imdb_score</th>\n",
              "      <th>gross</th>\n",
              "    </tr>\n",
              "  </thead>\n",
              "  <tbody>\n",
              "    <tr>\n",
              "      <th>0</th>\n",
              "      <td>Avatar</td>\n",
              "      <td>2009.0</td>\n",
              "      <td>Color</td>\n",
              "      <td>1.78</td>\n",
              "      <td>178.0</td>\n",
              "      <td>English</td>\n",
              "      <td>USA</td>\n",
              "      <td>178.0</td>\n",
              "      <td>Action|Adventure|Fantasy|Sci-Fi</td>\n",
              "      <td>PG-13</td>\n",
              "      <td>avatar|future|marine|native|paraplegic</td>\n",
              "      <td>James Cameron</td>\n",
              "      <td>CCH Pounder</td>\n",
              "      <td>Joel David Moore</td>\n",
              "      <td>Wes Studi</td>\n",
              "      <td>4834</td>\n",
              "      <td>237000000.0</td>\n",
              "      <td>7.9</td>\n",
              "      <td>760505847.0</td>\n",
              "    </tr>\n",
              "    <tr>\n",
              "      <th>1</th>\n",
              "      <td>Pirates of the Caribbean: At World's End</td>\n",
              "      <td>2007.0</td>\n",
              "      <td>Color</td>\n",
              "      <td>2.35</td>\n",
              "      <td>169.0</td>\n",
              "      <td>English</td>\n",
              "      <td>USA</td>\n",
              "      <td>169.0</td>\n",
              "      <td>Action|Adventure|Fantasy</td>\n",
              "      <td>PG-13</td>\n",
              "      <td>goddess|marriage ceremony|marriage proposal|pi...</td>\n",
              "      <td>Gore Verbinski</td>\n",
              "      <td>Johnny Depp</td>\n",
              "      <td>Orlando Bloom</td>\n",
              "      <td>Jack Davenport</td>\n",
              "      <td>48350</td>\n",
              "      <td>300000000.0</td>\n",
              "      <td>7.1</td>\n",
              "      <td>309404152.0</td>\n",
              "    </tr>\n",
              "    <tr>\n",
              "      <th>2</th>\n",
              "      <td>Spectre</td>\n",
              "      <td>2015.0</td>\n",
              "      <td>Color</td>\n",
              "      <td>2.35</td>\n",
              "      <td>148.0</td>\n",
              "      <td>English</td>\n",
              "      <td>UK</td>\n",
              "      <td>148.0</td>\n",
              "      <td>Action|Adventure|Thriller</td>\n",
              "      <td>PG-13</td>\n",
              "      <td>bomb|espionage|sequel|spy|terrorist</td>\n",
              "      <td>Sam Mendes</td>\n",
              "      <td>Christoph Waltz</td>\n",
              "      <td>Rory Kinnear</td>\n",
              "      <td>Stephanie Sigman</td>\n",
              "      <td>11700</td>\n",
              "      <td>245000000.0</td>\n",
              "      <td>6.8</td>\n",
              "      <td>200074175.0</td>\n",
              "    </tr>\n",
              "    <tr>\n",
              "      <th>3</th>\n",
              "      <td>The Dark Knight Rises</td>\n",
              "      <td>2012.0</td>\n",
              "      <td>Color</td>\n",
              "      <td>2.35</td>\n",
              "      <td>164.0</td>\n",
              "      <td>English</td>\n",
              "      <td>USA</td>\n",
              "      <td>164.0</td>\n",
              "      <td>Action|Thriller</td>\n",
              "      <td>PG-13</td>\n",
              "      <td>deception|imprisonment|lawlessness|police offi...</td>\n",
              "      <td>Christopher Nolan</td>\n",
              "      <td>Tom Hardy</td>\n",
              "      <td>Christian Bale</td>\n",
              "      <td>Joseph Gordon-Levitt</td>\n",
              "      <td>106759</td>\n",
              "      <td>250000000.0</td>\n",
              "      <td>8.5</td>\n",
              "      <td>448130642.0</td>\n",
              "    </tr>\n",
              "    <tr>\n",
              "      <th>4</th>\n",
              "      <td>Star Wars: Episode VII - The Force Awakens    ...</td>\n",
              "      <td>NaN</td>\n",
              "      <td>NaN</td>\n",
              "      <td>NaN</td>\n",
              "      <td>NaN</td>\n",
              "      <td>NaN</td>\n",
              "      <td>NaN</td>\n",
              "      <td>NaN</td>\n",
              "      <td>Documentary</td>\n",
              "      <td>NaN</td>\n",
              "      <td>NaN</td>\n",
              "      <td>Doug Walker</td>\n",
              "      <td>Doug Walker</td>\n",
              "      <td>Rob Walker</td>\n",
              "      <td>NaN</td>\n",
              "      <td>143</td>\n",
              "      <td>NaN</td>\n",
              "      <td>7.1</td>\n",
              "      <td>NaN</td>\n",
              "    </tr>\n",
              "  </tbody>\n",
              "</table>\n",
              "</div>"
            ],
            "text/plain": [
              "                                         movie_title  ...        gross\n",
              "0                                            Avatar   ...  760505847.0\n",
              "1          Pirates of the Caribbean: At World's End   ...  309404152.0\n",
              "2                                           Spectre   ...  200074175.0\n",
              "3                             The Dark Knight Rises   ...  448130642.0\n",
              "4  Star Wars: Episode VII - The Force Awakens    ...  ...          NaN\n",
              "\n",
              "[5 rows x 19 columns]"
            ]
          },
          "metadata": {
            "tags": []
          },
          "execution_count": 194
        }
      ]
    },
    {
      "cell_type": "code",
      "metadata": {
        "id": "0SUgDud8Udxt",
        "colab_type": "code",
        "colab": {
          "base_uri": "https://localhost:8080/",
          "height": 34
        },
        "outputId": "7b7509b5-6bf6-480a-e347-bf6f7b820818"
      },
      "source": [
        "# Cuantas líneas y columnas tiene nuestro dataframe\n",
        "### Un dataframe es una estructura de datos que se compone de los elementos siguientes\n",
        "movies.shape"
      ],
      "execution_count": 195,
      "outputs": [
        {
          "output_type": "execute_result",
          "data": {
            "text/plain": [
              "(5043, 19)"
            ]
          },
          "metadata": {
            "tags": []
          },
          "execution_count": 195
        }
      ]
    },
    {
      "cell_type": "code",
      "metadata": {
        "id": "F3stBEwlU9NX",
        "colab_type": "code",
        "colab": {
          "base_uri": "https://localhost:8080/",
          "height": 119
        },
        "outputId": "e4dd64ce-b58d-45cb-f914-9edda263248d"
      },
      "source": [
        "# Visualizar las columnas\n",
        "movies.columns"
      ],
      "execution_count": 196,
      "outputs": [
        {
          "output_type": "execute_result",
          "data": {
            "text/plain": [
              "Index(['movie_title', 'title_year', 'color', 'aspect_ratio', 'duration',\n",
              "       'language', 'country', 'duration.1', 'genres', 'content_rating',\n",
              "       'plot_keywords', 'director_name', 'actor_1_name', 'actor_2_name',\n",
              "       'actor_3_name', 'cast_total_facebook_likes', 'budget', 'imdb_score',\n",
              "       'gross'],\n",
              "      dtype='object')"
            ]
          },
          "metadata": {
            "tags": []
          },
          "execution_count": 196
        }
      ]
    },
    {
      "cell_type": "code",
      "metadata": {
        "id": "z72rS8EqVQh_",
        "colab_type": "code",
        "colab": {
          "base_uri": "https://localhost:8080/",
          "height": 34
        },
        "outputId": "d7def6b9-4bbe-4f9a-f7e8-88d7d8be13a5"
      },
      "source": [
        "# La cantidad de filas del array\n",
        "movies.index"
      ],
      "execution_count": 197,
      "outputs": [
        {
          "output_type": "execute_result",
          "data": {
            "text/plain": [
              "RangeIndex(start=0, stop=5043, step=1)"
            ]
          },
          "metadata": {
            "tags": []
          },
          "execution_count": 197
        }
      ]
    },
    {
      "cell_type": "code",
      "metadata": {
        "id": "L3_OgmP_VXf5",
        "colab_type": "code",
        "colab": {
          "base_uri": "https://localhost:8080/",
          "height": 119
        },
        "outputId": "a1785689-354c-47e6-94df-cb9196642376"
      },
      "source": [
        "columna1 = movies['movie_title']\n",
        "columna1.head()"
      ],
      "execution_count": 198,
      "outputs": [
        {
          "output_type": "execute_result",
          "data": {
            "text/plain": [
              "0                                              Avatar \n",
              "1            Pirates of the Caribbean: At World's End \n",
              "2                                             Spectre \n",
              "3                               The Dark Knight Rises \n",
              "4    Star Wars: Episode VII - The Force Awakens    ...\n",
              "Name: movie_title, dtype: object"
            ]
          },
          "metadata": {
            "tags": []
          },
          "execution_count": 198
        }
      ]
    },
    {
      "cell_type": "code",
      "metadata": {
        "id": "5rCs4ziRVnEr",
        "colab_type": "code",
        "colab": {
          "base_uri": "https://localhost:8080/",
          "height": 357
        },
        "outputId": "9ca7e919-1bb9-4a27-946f-0332709f5590"
      },
      "source": [
        "# Acceder al registro o la fila de la película en la posición número 10 (Se obtienen los features)\n",
        "linea = movies.loc[10, :]\n",
        "linea"
      ],
      "execution_count": 199,
      "outputs": [
        {
          "output_type": "execute_result",
          "data": {
            "text/plain": [
              "movie_title                                Batman v Superman: Dawn of Justice \n",
              "title_year                                                                2016\n",
              "color                                                                    Color\n",
              "aspect_ratio                                                              2.35\n",
              "duration                                                                   183\n",
              "language                                                               English\n",
              "country                                                                    USA\n",
              "duration.1                                                                 183\n",
              "genres                                                 Action|Adventure|Sci-Fi\n",
              "content_rating                                                           PG-13\n",
              "plot_keywords                based on comic book|batman|sequel to a reboot|...\n",
              "director_name                                                      Zack Snyder\n",
              "actor_1_name                                                      Henry Cavill\n",
              "actor_2_name                                                      Lauren Cohan\n",
              "actor_3_name                                                    Alan D. Purwin\n",
              "cast_total_facebook_likes                                                24450\n",
              "budget                                                                 2.5e+08\n",
              "imdb_score                                                                 6.9\n",
              "gross                                                              3.30249e+08\n",
              "Name: 10, dtype: object"
            ]
          },
          "metadata": {
            "tags": []
          },
          "execution_count": 199
        }
      ]
    },
    {
      "cell_type": "code",
      "metadata": {
        "id": "JhNYyajGV2N_",
        "colab_type": "code",
        "colab": {
          "base_uri": "https://localhost:8080/",
          "height": 119
        },
        "outputId": "548a1258-9e93-41e4-9e36-56838c7f928c"
      },
      "source": [
        "# Obtiene la columna movie_title\n",
        "movies.loc[:,'movie_title'].head()"
      ],
      "execution_count": 200,
      "outputs": [
        {
          "output_type": "execute_result",
          "data": {
            "text/plain": [
              "0                                              Avatar \n",
              "1            Pirates of the Caribbean: At World's End \n",
              "2                                             Spectre \n",
              "3                               The Dark Knight Rises \n",
              "4    Star Wars: Episode VII - The Force Awakens    ...\n",
              "Name: movie_title, dtype: object"
            ]
          },
          "metadata": {
            "tags": []
          },
          "execution_count": 200
        }
      ]
    },
    {
      "cell_type": "markdown",
      "metadata": {
        "id": "1PLOFFIve2G7",
        "colab_type": "text"
      },
      "source": [
        "# Intentemos inspeccionar nuestros datos y entenderlos mejor"
      ]
    },
    {
      "cell_type": "code",
      "metadata": {
        "id": "3WxkzChle8eG",
        "colab_type": "code",
        "colab": {
          "base_uri": "https://localhost:8080/",
          "height": 459
        },
        "outputId": "5e3929b4-0813-4d98-8aa9-f0538353b4d5"
      },
      "source": [
        "movies.info()"
      ],
      "execution_count": 201,
      "outputs": [
        {
          "output_type": "stream",
          "text": [
            "<class 'pandas.core.frame.DataFrame'>\n",
            "RangeIndex: 5043 entries, 0 to 5042\n",
            "Data columns (total 19 columns):\n",
            " #   Column                     Non-Null Count  Dtype  \n",
            "---  ------                     --------------  -----  \n",
            " 0   movie_title                5043 non-null   object \n",
            " 1   title_year                 4935 non-null   float64\n",
            " 2   color                      5024 non-null   object \n",
            " 3   aspect_ratio               4714 non-null   float64\n",
            " 4   duration                   5028 non-null   float64\n",
            " 5   language                   5031 non-null   object \n",
            " 6   country                    5038 non-null   object \n",
            " 7   duration.1                 5028 non-null   float64\n",
            " 8   genres                     5043 non-null   object \n",
            " 9   content_rating             4740 non-null   object \n",
            " 10  plot_keywords              4890 non-null   object \n",
            " 11  director_name              4939 non-null   object \n",
            " 12  actor_1_name               5036 non-null   object \n",
            " 13  actor_2_name               5030 non-null   object \n",
            " 14  actor_3_name               5020 non-null   object \n",
            " 15  cast_total_facebook_likes  5043 non-null   int64  \n",
            " 16  budget                     4551 non-null   float64\n",
            " 17  imdb_score                 5043 non-null   float64\n",
            " 18  gross                      4159 non-null   float64\n",
            "dtypes: float64(7), int64(1), object(11)\n",
            "memory usage: 748.7+ KB\n"
          ],
          "name": "stdout"
        }
      ]
    },
    {
      "cell_type": "markdown",
      "metadata": {
        "id": "zB6lXNVIfYvb",
        "colab_type": "text"
      },
      "source": [
        "A diferencia de Numpy, Pandas permite cargar no solo datos numericos pero tambien **datos de texto** que vemos por ejemplo en las columnas de actores y **mezclar distintos tipos de datos**.\n",
        "- `int64` y `float64` corresponden a los mismos dtypes de Numpy\n",
        "- `object` es el dtype que permite manejar datos de texto"
      ]
    },
    {
      "cell_type": "code",
      "metadata": {
        "id": "SoPJ-2Wne-tn",
        "colab_type": "code",
        "colab": {
          "base_uri": "https://localhost:8080/",
          "height": 357
        },
        "outputId": "a0ff3670-a536-42f7-c2d7-5db2e3773fa6"
      },
      "source": [
        "# Columnas númericas y columnas de texto\n",
        "#movies.dtypes\n",
        "movies.dtypes == float\n",
        "\n",
        "# type(movies.dtypes)  # pandas.core.series.Series"
      ],
      "execution_count": 202,
      "outputs": [
        {
          "output_type": "execute_result",
          "data": {
            "text/plain": [
              "movie_title                  False\n",
              "title_year                    True\n",
              "color                        False\n",
              "aspect_ratio                  True\n",
              "duration                      True\n",
              "language                     False\n",
              "country                      False\n",
              "duration.1                    True\n",
              "genres                       False\n",
              "content_rating               False\n",
              "plot_keywords                False\n",
              "director_name                False\n",
              "actor_1_name                 False\n",
              "actor_2_name                 False\n",
              "actor_3_name                 False\n",
              "cast_total_facebook_likes    False\n",
              "budget                        True\n",
              "imdb_score                    True\n",
              "gross                         True\n",
              "dtype: bool"
            ]
          },
          "metadata": {
            "tags": []
          },
          "execution_count": 202
        }
      ]
    },
    {
      "cell_type": "code",
      "metadata": {
        "id": "L0l4GblDfrIR",
        "colab_type": "code",
        "colab": {
          "base_uri": "https://localhost:8080/",
          "height": 357
        },
        "outputId": "70683621-9b31-4a46-c225-3b1d70af43c9"
      },
      "source": [
        "movies.dtypes == int"
      ],
      "execution_count": 203,
      "outputs": [
        {
          "output_type": "execute_result",
          "data": {
            "text/plain": [
              "movie_title                  False\n",
              "title_year                   False\n",
              "color                        False\n",
              "aspect_ratio                 False\n",
              "duration                     False\n",
              "language                     False\n",
              "country                      False\n",
              "duration.1                   False\n",
              "genres                       False\n",
              "content_rating               False\n",
              "plot_keywords                False\n",
              "director_name                False\n",
              "actor_1_name                 False\n",
              "actor_2_name                 False\n",
              "actor_3_name                 False\n",
              "cast_total_facebook_likes     True\n",
              "budget                       False\n",
              "imdb_score                   False\n",
              "gross                        False\n",
              "dtype: bool"
            ]
          },
          "metadata": {
            "tags": []
          },
          "execution_count": 203
        }
      ]
    },
    {
      "cell_type": "code",
      "metadata": {
        "id": "AIwDKUSHgQd5",
        "colab_type": "code",
        "colab": {
          "base_uri": "https://localhost:8080/",
          "height": 357
        },
        "outputId": "d2691cf5-f710-4701-ad86-72c0572dac9c"
      },
      "source": [
        "(movies.dtypes == float) | (movies.dtypes == int)"
      ],
      "execution_count": 204,
      "outputs": [
        {
          "output_type": "execute_result",
          "data": {
            "text/plain": [
              "movie_title                  False\n",
              "title_year                    True\n",
              "color                        False\n",
              "aspect_ratio                  True\n",
              "duration                      True\n",
              "language                     False\n",
              "country                      False\n",
              "duration.1                    True\n",
              "genres                       False\n",
              "content_rating               False\n",
              "plot_keywords                False\n",
              "director_name                False\n",
              "actor_1_name                 False\n",
              "actor_2_name                 False\n",
              "actor_3_name                 False\n",
              "cast_total_facebook_likes     True\n",
              "budget                        True\n",
              "imdb_score                    True\n",
              "gross                         True\n",
              "dtype: bool"
            ]
          },
          "metadata": {
            "tags": []
          },
          "execution_count": 204
        }
      ]
    },
    {
      "cell_type": "code",
      "metadata": {
        "id": "wM9xSnlXghJl",
        "colab_type": "code",
        "colab": {
          "base_uri": "https://localhost:8080/",
          "height": 357
        },
        "outputId": "458244b6-e429-4dca-ae32-a42413d42a04"
      },
      "source": [
        "# Serie de booleanos\n",
        "movies.dtypes == object  # Object es como pandas maneja las columnas de texto"
      ],
      "execution_count": 205,
      "outputs": [
        {
          "output_type": "execute_result",
          "data": {
            "text/plain": [
              "movie_title                   True\n",
              "title_year                   False\n",
              "color                         True\n",
              "aspect_ratio                 False\n",
              "duration                     False\n",
              "language                      True\n",
              "country                       True\n",
              "duration.1                   False\n",
              "genres                        True\n",
              "content_rating                True\n",
              "plot_keywords                 True\n",
              "director_name                 True\n",
              "actor_1_name                  True\n",
              "actor_2_name                  True\n",
              "actor_3_name                  True\n",
              "cast_total_facebook_likes    False\n",
              "budget                       False\n",
              "imdb_score                   False\n",
              "gross                        False\n",
              "dtype: bool"
            ]
          },
          "metadata": {
            "tags": []
          },
          "execution_count": 205
        }
      ]
    },
    {
      "cell_type": "code",
      "metadata": {
        "id": "P0HZRXiKgyTI",
        "colab_type": "code",
        "colab": {
          "base_uri": "https://localhost:8080/",
          "height": 357
        },
        "outputId": "5ad6fd61-2f3f-4753-fa3b-12f2e5409170"
      },
      "source": [
        "# Lista de columnas con texto y de columnas con números\n",
        "numericas = (movies.dtypes == float) | (movies.dtypes == int)\n",
        "numericas"
      ],
      "execution_count": 206,
      "outputs": [
        {
          "output_type": "execute_result",
          "data": {
            "text/plain": [
              "movie_title                  False\n",
              "title_year                    True\n",
              "color                        False\n",
              "aspect_ratio                  True\n",
              "duration                      True\n",
              "language                     False\n",
              "country                      False\n",
              "duration.1                    True\n",
              "genres                       False\n",
              "content_rating               False\n",
              "plot_keywords                False\n",
              "director_name                False\n",
              "actor_1_name                 False\n",
              "actor_2_name                 False\n",
              "actor_3_name                 False\n",
              "cast_total_facebook_likes     True\n",
              "budget                        True\n",
              "imdb_score                    True\n",
              "gross                         True\n",
              "dtype: bool"
            ]
          },
          "metadata": {
            "tags": []
          },
          "execution_count": 206
        }
      ]
    },
    {
      "cell_type": "code",
      "metadata": {
        "id": "ILKGogbXhC2k",
        "colab_type": "code",
        "colab": {
          "base_uri": "https://localhost:8080/",
          "height": 119
        },
        "outputId": "146ee67e-3eb1-4c0b-d605-f0f9407a3c9c"
      },
      "source": [
        "numericas.index"
      ],
      "execution_count": 207,
      "outputs": [
        {
          "output_type": "execute_result",
          "data": {
            "text/plain": [
              "Index(['movie_title', 'title_year', 'color', 'aspect_ratio', 'duration',\n",
              "       'language', 'country', 'duration.1', 'genres', 'content_rating',\n",
              "       'plot_keywords', 'director_name', 'actor_1_name', 'actor_2_name',\n",
              "       'actor_3_name', 'cast_total_facebook_likes', 'budget', 'imdb_score',\n",
              "       'gross'],\n",
              "      dtype='object')"
            ]
          },
          "metadata": {
            "tags": []
          },
          "execution_count": 207
        }
      ]
    },
    {
      "cell_type": "code",
      "metadata": {
        "id": "E-zJoxNGhEMW",
        "colab_type": "code",
        "colab": {
          "base_uri": "https://localhost:8080/",
          "height": 340
        },
        "outputId": "6c174e54-b649-4da5-f747-64edcdc7c00c"
      },
      "source": [
        "for item in numericas.index:\n",
        "  print(item)"
      ],
      "execution_count": 208,
      "outputs": [
        {
          "output_type": "stream",
          "text": [
            "movie_title\n",
            "title_year\n",
            "color\n",
            "aspect_ratio\n",
            "duration\n",
            "language\n",
            "country\n",
            "duration.1\n",
            "genres\n",
            "content_rating\n",
            "plot_keywords\n",
            "director_name\n",
            "actor_1_name\n",
            "actor_2_name\n",
            "actor_3_name\n",
            "cast_total_facebook_likes\n",
            "budget\n",
            "imdb_score\n",
            "gross\n"
          ],
          "name": "stdout"
        }
      ]
    },
    {
      "cell_type": "code",
      "metadata": {
        "id": "qaf0hCjUi_fr",
        "colab_type": "code",
        "colab": {
          "base_uri": "https://localhost:8080/",
          "height": 340
        },
        "outputId": "20bef7e2-6448-4c0f-977a-fa4e151bfc66"
      },
      "source": [
        "for item in numericas:\n",
        "  print(item)"
      ],
      "execution_count": 209,
      "outputs": [
        {
          "output_type": "stream",
          "text": [
            "False\n",
            "True\n",
            "False\n",
            "True\n",
            "True\n",
            "False\n",
            "False\n",
            "True\n",
            "False\n",
            "False\n",
            "False\n",
            "False\n",
            "False\n",
            "False\n",
            "False\n",
            "True\n",
            "True\n",
            "True\n",
            "True\n"
          ],
          "name": "stdout"
        }
      ]
    },
    {
      "cell_type": "code",
      "metadata": {
        "id": "9VKYCloShKGn",
        "colab_type": "code",
        "colab": {
          "base_uri": "https://localhost:8080/",
          "height": 153
        },
        "outputId": "aa3a70e0-3f34-4001-86d2-3e4a2a5949d7"
      },
      "source": [
        "# Se crea una lista con los nombres de las columnas que contienen sólo números\n",
        "columnas_numericas = [columna for columna in numericas.index if numericas[columna]]\n",
        "columnas_numericas # Imprime las columnas númericas"
      ],
      "execution_count": 210,
      "outputs": [
        {
          "output_type": "execute_result",
          "data": {
            "text/plain": [
              "['title_year',\n",
              " 'aspect_ratio',\n",
              " 'duration',\n",
              " 'duration.1',\n",
              " 'cast_total_facebook_likes',\n",
              " 'budget',\n",
              " 'imdb_score',\n",
              " 'gross']"
            ]
          },
          "metadata": {
            "tags": []
          },
          "execution_count": 210
        }
      ]
    },
    {
      "cell_type": "code",
      "metadata": {
        "id": "8T4IW5WLh0ZC",
        "colab_type": "code",
        "colab": {
          "base_uri": "https://localhost:8080/",
          "height": 357
        },
        "outputId": "2467e72e-66b3-4254-e280-dd054db0c807"
      },
      "source": [
        "# Se guardan la columnas que continen sólo texto\n",
        "texto = (movies.dtypes == object)\n",
        "texto"
      ],
      "execution_count": 211,
      "outputs": [
        {
          "output_type": "execute_result",
          "data": {
            "text/plain": [
              "movie_title                   True\n",
              "title_year                   False\n",
              "color                         True\n",
              "aspect_ratio                 False\n",
              "duration                     False\n",
              "language                      True\n",
              "country                       True\n",
              "duration.1                   False\n",
              "genres                        True\n",
              "content_rating                True\n",
              "plot_keywords                 True\n",
              "director_name                 True\n",
              "actor_1_name                  True\n",
              "actor_2_name                  True\n",
              "actor_3_name                  True\n",
              "cast_total_facebook_likes    False\n",
              "budget                       False\n",
              "imdb_score                   False\n",
              "gross                        False\n",
              "dtype: bool"
            ]
          },
          "metadata": {
            "tags": []
          },
          "execution_count": 211
        }
      ]
    },
    {
      "cell_type": "code",
      "metadata": {
        "id": "mnaLaKDsiKtP",
        "colab_type": "code",
        "colab": {
          "base_uri": "https://localhost:8080/",
          "height": 204
        },
        "outputId": "427b3a54-5db4-4717-c4ef-3476b88c6356"
      },
      "source": [
        "# Se crea una lista con los nombres de las columnas que contienen sólo texto\n",
        "columnas_texto = [columna for columna in texto.index if texto[columna]]\n",
        "columnas_texto"
      ],
      "execution_count": 212,
      "outputs": [
        {
          "output_type": "execute_result",
          "data": {
            "text/plain": [
              "['movie_title',\n",
              " 'color',\n",
              " 'language',\n",
              " 'country',\n",
              " 'genres',\n",
              " 'content_rating',\n",
              " 'plot_keywords',\n",
              " 'director_name',\n",
              " 'actor_1_name',\n",
              " 'actor_2_name',\n",
              " 'actor_3_name']"
            ]
          },
          "metadata": {
            "tags": []
          },
          "execution_count": 212
        }
      ]
    },
    {
      "cell_type": "code",
      "metadata": {
        "id": "SqS8RH-NjQyF",
        "colab_type": "code",
        "colab": {}
      },
      "source": [
        "# Mostramos las columnas numéricas del dataset\n",
        "movies_num = movies[columnas_numericas]"
      ],
      "execution_count": 0,
      "outputs": []
    },
    {
      "cell_type": "code",
      "metadata": {
        "id": "x1gmMgfMk0PZ",
        "colab_type": "code",
        "colab": {
          "base_uri": "https://localhost:8080/",
          "height": 297
        },
        "outputId": "75b5c7cf-672b-4edd-abdf-babb6f039074"
      },
      "source": [
        "# Estadísticas de las columnas numéricas\n",
        "movies_num.describe()\n",
        "# mean => Es el promedio\n",
        "# std => Desviación estandar\n",
        "# Los demás son los cuartiles"
      ],
      "execution_count": 214,
      "outputs": [
        {
          "output_type": "execute_result",
          "data": {
            "text/html": [
              "<div>\n",
              "<style scoped>\n",
              "    .dataframe tbody tr th:only-of-type {\n",
              "        vertical-align: middle;\n",
              "    }\n",
              "\n",
              "    .dataframe tbody tr th {\n",
              "        vertical-align: top;\n",
              "    }\n",
              "\n",
              "    .dataframe thead th {\n",
              "        text-align: right;\n",
              "    }\n",
              "</style>\n",
              "<table border=\"1\" class=\"dataframe\">\n",
              "  <thead>\n",
              "    <tr style=\"text-align: right;\">\n",
              "      <th></th>\n",
              "      <th>title_year</th>\n",
              "      <th>aspect_ratio</th>\n",
              "      <th>duration</th>\n",
              "      <th>duration.1</th>\n",
              "      <th>cast_total_facebook_likes</th>\n",
              "      <th>budget</th>\n",
              "      <th>imdb_score</th>\n",
              "      <th>gross</th>\n",
              "    </tr>\n",
              "  </thead>\n",
              "  <tbody>\n",
              "    <tr>\n",
              "      <th>count</th>\n",
              "      <td>4935.000000</td>\n",
              "      <td>4714.000000</td>\n",
              "      <td>5028.000000</td>\n",
              "      <td>5028.000000</td>\n",
              "      <td>5043.000000</td>\n",
              "      <td>4.551000e+03</td>\n",
              "      <td>5043.000000</td>\n",
              "      <td>4.159000e+03</td>\n",
              "    </tr>\n",
              "    <tr>\n",
              "      <th>mean</th>\n",
              "      <td>2002.470517</td>\n",
              "      <td>2.220403</td>\n",
              "      <td>107.201074</td>\n",
              "      <td>107.201074</td>\n",
              "      <td>9699.063851</td>\n",
              "      <td>3.975262e+07</td>\n",
              "      <td>6.442138</td>\n",
              "      <td>4.846841e+07</td>\n",
              "    </tr>\n",
              "    <tr>\n",
              "      <th>std</th>\n",
              "      <td>12.474599</td>\n",
              "      <td>1.385113</td>\n",
              "      <td>25.197441</td>\n",
              "      <td>25.197441</td>\n",
              "      <td>18163.799124</td>\n",
              "      <td>2.061149e+08</td>\n",
              "      <td>1.125116</td>\n",
              "      <td>6.845299e+07</td>\n",
              "    </tr>\n",
              "    <tr>\n",
              "      <th>min</th>\n",
              "      <td>1916.000000</td>\n",
              "      <td>1.180000</td>\n",
              "      <td>7.000000</td>\n",
              "      <td>7.000000</td>\n",
              "      <td>0.000000</td>\n",
              "      <td>2.180000e+02</td>\n",
              "      <td>1.600000</td>\n",
              "      <td>1.620000e+02</td>\n",
              "    </tr>\n",
              "    <tr>\n",
              "      <th>25%</th>\n",
              "      <td>1999.000000</td>\n",
              "      <td>1.850000</td>\n",
              "      <td>93.000000</td>\n",
              "      <td>93.000000</td>\n",
              "      <td>1411.000000</td>\n",
              "      <td>6.000000e+06</td>\n",
              "      <td>5.800000</td>\n",
              "      <td>5.340988e+06</td>\n",
              "    </tr>\n",
              "    <tr>\n",
              "      <th>50%</th>\n",
              "      <td>2005.000000</td>\n",
              "      <td>2.350000</td>\n",
              "      <td>103.000000</td>\n",
              "      <td>103.000000</td>\n",
              "      <td>3090.000000</td>\n",
              "      <td>2.000000e+07</td>\n",
              "      <td>6.600000</td>\n",
              "      <td>2.551750e+07</td>\n",
              "    </tr>\n",
              "    <tr>\n",
              "      <th>75%</th>\n",
              "      <td>2011.000000</td>\n",
              "      <td>2.350000</td>\n",
              "      <td>118.000000</td>\n",
              "      <td>118.000000</td>\n",
              "      <td>13756.500000</td>\n",
              "      <td>4.500000e+07</td>\n",
              "      <td>7.200000</td>\n",
              "      <td>6.230944e+07</td>\n",
              "    </tr>\n",
              "    <tr>\n",
              "      <th>max</th>\n",
              "      <td>2016.000000</td>\n",
              "      <td>16.000000</td>\n",
              "      <td>511.000000</td>\n",
              "      <td>511.000000</td>\n",
              "      <td>656730.000000</td>\n",
              "      <td>1.221550e+10</td>\n",
              "      <td>9.500000</td>\n",
              "      <td>7.605058e+08</td>\n",
              "    </tr>\n",
              "  </tbody>\n",
              "</table>\n",
              "</div>"
            ],
            "text/plain": [
              "        title_year  aspect_ratio  ...   imdb_score         gross\n",
              "count  4935.000000   4714.000000  ...  5043.000000  4.159000e+03\n",
              "mean   2002.470517      2.220403  ...     6.442138  4.846841e+07\n",
              "std      12.474599      1.385113  ...     1.125116  6.845299e+07\n",
              "min    1916.000000      1.180000  ...     1.600000  1.620000e+02\n",
              "25%    1999.000000      1.850000  ...     5.800000  5.340988e+06\n",
              "50%    2005.000000      2.350000  ...     6.600000  2.551750e+07\n",
              "75%    2011.000000      2.350000  ...     7.200000  6.230944e+07\n",
              "max    2016.000000     16.000000  ...     9.500000  7.605058e+08\n",
              "\n",
              "[8 rows x 8 columns]"
            ]
          },
          "metadata": {
            "tags": []
          },
          "execution_count": 214
        }
      ]
    },
    {
      "cell_type": "code",
      "metadata": {
        "id": "9Z7RNfmIlNeG",
        "colab_type": "code",
        "colab": {
          "base_uri": "https://localhost:8080/",
          "height": 285
        },
        "outputId": "ef2c74cc-b0e9-43fc-c3ad-43181b0e7f4d"
      },
      "source": [
        "movies_num['duration'].hist()"
      ],
      "execution_count": 215,
      "outputs": [
        {
          "output_type": "execute_result",
          "data": {
            "text/plain": [
              "<matplotlib.axes._subplots.AxesSubplot at 0x7f181b45d780>"
            ]
          },
          "metadata": {
            "tags": []
          },
          "execution_count": 215
        },
        {
          "output_type": "display_data",
          "data": {
            "image/png": "[encoded data removed]",
            "text/plain": [
              "<Figure size 432x288 with 1 Axes>"
            ]
          },
          "metadata": {
            "tags": [],
            "needs_background": "light"
          }
        }
      ]
    },
    {
      "cell_type": "code",
      "metadata": {
        "id": "7tMdiRw2ly9t",
        "colab_type": "code",
        "colab": {
          "base_uri": "https://localhost:8080/",
          "height": 282
        },
        "outputId": "98d49341-65b4-4ba3-ef43-22c97ea0926b"
      },
      "source": [
        "movies_num['imdb_score'].hist()"
      ],
      "execution_count": 216,
      "outputs": [
        {
          "output_type": "execute_result",
          "data": {
            "text/plain": [
              "<matplotlib.axes._subplots.AxesSubplot at 0x7f181b36e6d8>"
            ]
          },
          "metadata": {
            "tags": []
          },
          "execution_count": 216
        },
        {
          "output_type": "display_data",
          "data": {
            "image/png": "[encoded data removed]",
            "text/plain": [
              "<Figure size 432x288 with 1 Axes>"
            ]
          },
          "metadata": {
            "tags": [],
            "needs_background": "light"
          }
        }
      ]
    },
    {
      "cell_type": "code",
      "metadata": {
        "id": "rB1iJFICmBDf",
        "colab_type": "code",
        "colab": {
          "base_uri": "https://localhost:8080/",
          "height": 295
        },
        "outputId": "5c83503d-e47c-4137-bc0f-3b4f3401b59e"
      },
      "source": [
        "movies_num['budget'].hist()"
      ],
      "execution_count": 217,
      "outputs": [
        {
          "output_type": "execute_result",
          "data": {
            "text/plain": [
              "<matplotlib.axes._subplots.AxesSubplot at 0x7f181b2f9c50>"
            ]
          },
          "metadata": {
            "tags": []
          },
          "execution_count": 217
        },
        {
          "output_type": "display_data",
          "data": {
            "image/png": "[encoded data removed]",
            "text/plain": [
              "<Figure size 432x288 with 1 Axes>"
            ]
          },
          "metadata": {
            "tags": [],
            "needs_background": "light"
          }
        }
      ]
    },
    {
      "cell_type": "markdown",
      "metadata": {
        "id": "mfldbnoSmfkR",
        "colab_type": "text"
      },
      "source": [
        "Para poder debuggear esta situación utilizaremos una tecnica muy tipica de pandas que se llama **`boolean filtering`**. Basicamente construimos una serie de booleanos con el mismo indice que nuestro dataframe (la serie clasicamente la llamaremos mask)."
      ]
    },
    {
      "cell_type": "code",
      "metadata": {
        "id": "1GcTBbaTmPjF",
        "colab_type": "code",
        "colab": {
          "base_uri": "https://localhost:8080/",
          "height": 221
        },
        "outputId": "d00697ff-7c85-4fda-c89e-86aa09dcd61e"
      },
      "source": [
        "# Películas con presupuesto mayores a 1 billon\n",
        "## con .value_counts()    Podemos saber la cantidad de películas con ese presupuesto\n",
        "mask = (movies_num['budget'] > 1e9)\n",
        "mask"
      ],
      "execution_count": 218,
      "outputs": [
        {
          "output_type": "execute_result",
          "data": {
            "text/plain": [
              "0       False\n",
              "1       False\n",
              "2       False\n",
              "3       False\n",
              "4       False\n",
              "        ...  \n",
              "5038    False\n",
              "5039    False\n",
              "5040    False\n",
              "5041    False\n",
              "5042    False\n",
              "Name: budget, Length: 5043, dtype: bool"
            ]
          },
          "metadata": {
            "tags": []
          },
          "execution_count": 218
        }
      ]
    },
    {
      "cell_type": "code",
      "metadata": {
        "id": "hXya343XnDwr",
        "colab_type": "code",
        "colab": {
          "base_uri": "https://localhost:8080/",
          "height": 374
        },
        "outputId": "69040988-bf7a-4dde-bf6e-afd1f26637b2"
      },
      "source": [
        "# Muestra todo el contenido de las películas con el presupuesto superior a 1 billon (1e9)\n",
        "movies[mask]\n",
        "# Esto sucede porque la persona que hizo tomó los datos, no consideró la moneda en la cual se habían hecho las películas\n"
      ],
      "execution_count": 219,
      "outputs": [
        {
          "output_type": "execute_result",
          "data": {
            "text/html": [
              "<div>\n",
              "<style scoped>\n",
              "    .dataframe tbody tr th:only-of-type {\n",
              "        vertical-align: middle;\n",
              "    }\n",
              "\n",
              "    .dataframe tbody tr th {\n",
              "        vertical-align: top;\n",
              "    }\n",
              "\n",
              "    .dataframe thead th {\n",
              "        text-align: right;\n",
              "    }\n",
              "</style>\n",
              "<table border=\"1\" class=\"dataframe\">\n",
              "  <thead>\n",
              "    <tr style=\"text-align: right;\">\n",
              "      <th></th>\n",
              "      <th>movie_title</th>\n",
              "      <th>title_year</th>\n",
              "      <th>color</th>\n",
              "      <th>aspect_ratio</th>\n",
              "      <th>duration</th>\n",
              "      <th>language</th>\n",
              "      <th>country</th>\n",
              "      <th>duration.1</th>\n",
              "      <th>genres</th>\n",
              "      <th>content_rating</th>\n",
              "      <th>plot_keywords</th>\n",
              "      <th>director_name</th>\n",
              "      <th>actor_1_name</th>\n",
              "      <th>actor_2_name</th>\n",
              "      <th>actor_3_name</th>\n",
              "      <th>cast_total_facebook_likes</th>\n",
              "      <th>budget</th>\n",
              "      <th>imdb_score</th>\n",
              "      <th>gross</th>\n",
              "    </tr>\n",
              "  </thead>\n",
              "  <tbody>\n",
              "    <tr>\n",
              "      <th>2323</th>\n",
              "      <td>Princess Mononoke</td>\n",
              "      <td>1997.0</td>\n",
              "      <td>Color</td>\n",
              "      <td>1.85</td>\n",
              "      <td>134.0</td>\n",
              "      <td>Japanese</td>\n",
              "      <td>Japan</td>\n",
              "      <td>134.0</td>\n",
              "      <td>Adventure|Animation|Fantasy</td>\n",
              "      <td>PG-13</td>\n",
              "      <td>anime|cult film|forest|princess|studio ghibli</td>\n",
              "      <td>Hayao Miyazaki</td>\n",
              "      <td>Minnie Driver</td>\n",
              "      <td>Jada Pinkett Smith</td>\n",
              "      <td>Billy Crudup</td>\n",
              "      <td>2710</td>\n",
              "      <td>2.400000e+09</td>\n",
              "      <td>8.4</td>\n",
              "      <td>2298191.0</td>\n",
              "    </tr>\n",
              "    <tr>\n",
              "      <th>2334</th>\n",
              "      <td>Steamboy</td>\n",
              "      <td>2004.0</td>\n",
              "      <td>Color</td>\n",
              "      <td>1.85</td>\n",
              "      <td>103.0</td>\n",
              "      <td>Japanese</td>\n",
              "      <td>Japan</td>\n",
              "      <td>103.0</td>\n",
              "      <td>Action|Adventure|Animation|Family|Sci-Fi|Thriller</td>\n",
              "      <td>PG-13</td>\n",
              "      <td>19th century|ball|boy|inventor|steam</td>\n",
              "      <td>Katsuhiro Ôtomo</td>\n",
              "      <td>William Hootkins</td>\n",
              "      <td>Robin Atkin Downes</td>\n",
              "      <td>Rosalind Ayres</td>\n",
              "      <td>991</td>\n",
              "      <td>2.127520e+09</td>\n",
              "      <td>6.9</td>\n",
              "      <td>410388.0</td>\n",
              "    </tr>\n",
              "    <tr>\n",
              "      <th>2988</th>\n",
              "      <td>The Host</td>\n",
              "      <td>2006.0</td>\n",
              "      <td>Color</td>\n",
              "      <td>1.85</td>\n",
              "      <td>110.0</td>\n",
              "      <td>Korean</td>\n",
              "      <td>South Korea</td>\n",
              "      <td>110.0</td>\n",
              "      <td>Comedy|Drama|Horror|Sci-Fi</td>\n",
              "      <td>R</td>\n",
              "      <td>daughter|han river|monster|river|seoul</td>\n",
              "      <td>Joon-ho Bong</td>\n",
              "      <td>Doona Bae</td>\n",
              "      <td>Kang-ho Song</td>\n",
              "      <td>Ah-sung Ko</td>\n",
              "      <td>1173</td>\n",
              "      <td>1.221550e+10</td>\n",
              "      <td>7.0</td>\n",
              "      <td>2201412.0</td>\n",
              "    </tr>\n",
              "    <tr>\n",
              "      <th>3005</th>\n",
              "      <td>Fateless</td>\n",
              "      <td>2005.0</td>\n",
              "      <td>Color</td>\n",
              "      <td>2.35</td>\n",
              "      <td>134.0</td>\n",
              "      <td>Hungarian</td>\n",
              "      <td>Hungary</td>\n",
              "      <td>134.0</td>\n",
              "      <td>Drama|Romance|War</td>\n",
              "      <td>R</td>\n",
              "      <td>bus|death|gay slur|hatred|jewish</td>\n",
              "      <td>Lajos Koltai</td>\n",
              "      <td>Marcell Nagy</td>\n",
              "      <td>Péter Fancsikai</td>\n",
              "      <td>Bálint Péntek</td>\n",
              "      <td>11</td>\n",
              "      <td>2.500000e+09</td>\n",
              "      <td>7.1</td>\n",
              "      <td>195888.0</td>\n",
              "    </tr>\n",
              "    <tr>\n",
              "      <th>3423</th>\n",
              "      <td>Akira</td>\n",
              "      <td>1988.0</td>\n",
              "      <td>Color</td>\n",
              "      <td>1.85</td>\n",
              "      <td>124.0</td>\n",
              "      <td>Japanese</td>\n",
              "      <td>Japan</td>\n",
              "      <td>124.0</td>\n",
              "      <td>Action|Animation|Sci-Fi</td>\n",
              "      <td>R</td>\n",
              "      <td>based on manga|biker gang|gifted child|post th...</td>\n",
              "      <td>Katsuhiro Ôtomo</td>\n",
              "      <td>Mitsuo Iwata</td>\n",
              "      <td>Takeshi Kusao</td>\n",
              "      <td>Tesshô Genda</td>\n",
              "      <td>28</td>\n",
              "      <td>1.100000e+09</td>\n",
              "      <td>8.1</td>\n",
              "      <td>439162.0</td>\n",
              "    </tr>\n",
              "    <tr>\n",
              "      <th>3859</th>\n",
              "      <td>Lady Vengeance</td>\n",
              "      <td>2005.0</td>\n",
              "      <td>Color</td>\n",
              "      <td>2.35</td>\n",
              "      <td>112.0</td>\n",
              "      <td>Korean</td>\n",
              "      <td>South Korea</td>\n",
              "      <td>112.0</td>\n",
              "      <td>Crime|Drama</td>\n",
              "      <td>R</td>\n",
              "      <td>cake|christian|lesbian sex|oral sex|pregnant s...</td>\n",
              "      <td>Chan-wook Park</td>\n",
              "      <td>Min-sik Choi</td>\n",
              "      <td>Yeong-ae Lee</td>\n",
              "      <td>Hye-jeong Kang</td>\n",
              "      <td>907</td>\n",
              "      <td>4.200000e+09</td>\n",
              "      <td>7.7</td>\n",
              "      <td>211667.0</td>\n",
              "    </tr>\n",
              "  </tbody>\n",
              "</table>\n",
              "</div>"
            ],
            "text/plain": [
              "             movie_title  title_year  ... imdb_score      gross\n",
              "2323  Princess Mononoke       1997.0  ...        8.4  2298191.0\n",
              "2334           Steamboy       2004.0  ...        6.9   410388.0\n",
              "2988           The Host       2006.0  ...        7.0  2201412.0\n",
              "3005           Fateless       2005.0  ...        7.1   195888.0\n",
              "3423              Akira       1988.0  ...        8.1   439162.0\n",
              "3859     Lady Vengeance       2005.0  ...        7.7   211667.0\n",
              "\n",
              "[6 rows x 19 columns]"
            ]
          },
          "metadata": {
            "tags": []
          },
          "execution_count": 219
        }
      ]
    },
    {
      "cell_type": "markdown",
      "metadata": {
        "id": "vaCutP8applH",
        "colab_type": "text"
      },
      "source": [
        "Tenemos un problema de limpieza de los datos. La BDD fue creada sin diferenciar:\n",
        "- La moneda en la que se ingresaba el presupuesto y el ingreso.\n",
        "- La zona (país/mundial) en la que se registro el ingreso"
      ]
    },
    {
      "cell_type": "code",
      "metadata": {
        "id": "1aYAHMECqjVp",
        "colab_type": "code",
        "colab": {}
      },
      "source": [
        "# Busco las películas mejor valoradas, con una calificacion 9 o superior\n",
        "mask_better = (movies['imdb_score'] >= 9)  # .value_counts()"
      ],
      "execution_count": 0,
      "outputs": []
    },
    {
      "cell_type": "code",
      "metadata": {
        "id": "1vkmVkHQrvfK",
        "colab_type": "code",
        "colab": {
          "base_uri": "https://localhost:8080/",
          "height": 552
        },
        "outputId": "f94677d0-5064-4c29-ef7a-5acf72e94899"
      },
      "source": [
        "movies[mask_better]"
      ],
      "execution_count": 221,
      "outputs": [
        {
          "output_type": "execute_result",
          "data": {
            "text/html": [
              "<div>\n",
              "<style scoped>\n",
              "    .dataframe tbody tr th:only-of-type {\n",
              "        vertical-align: middle;\n",
              "    }\n",
              "\n",
              "    .dataframe tbody tr th {\n",
              "        vertical-align: top;\n",
              "    }\n",
              "\n",
              "    .dataframe thead th {\n",
              "        text-align: right;\n",
              "    }\n",
              "</style>\n",
              "<table border=\"1\" class=\"dataframe\">\n",
              "  <thead>\n",
              "    <tr style=\"text-align: right;\">\n",
              "      <th></th>\n",
              "      <th>movie_title</th>\n",
              "      <th>title_year</th>\n",
              "      <th>color</th>\n",
              "      <th>aspect_ratio</th>\n",
              "      <th>duration</th>\n",
              "      <th>language</th>\n",
              "      <th>country</th>\n",
              "      <th>duration.1</th>\n",
              "      <th>genres</th>\n",
              "      <th>content_rating</th>\n",
              "      <th>plot_keywords</th>\n",
              "      <th>director_name</th>\n",
              "      <th>actor_1_name</th>\n",
              "      <th>actor_2_name</th>\n",
              "      <th>actor_3_name</th>\n",
              "      <th>cast_total_facebook_likes</th>\n",
              "      <th>budget</th>\n",
              "      <th>imdb_score</th>\n",
              "      <th>gross</th>\n",
              "    </tr>\n",
              "  </thead>\n",
              "  <tbody>\n",
              "    <tr>\n",
              "      <th>66</th>\n",
              "      <td>The Dark Knight</td>\n",
              "      <td>2008.0</td>\n",
              "      <td>Color</td>\n",
              "      <td>2.35</td>\n",
              "      <td>152.0</td>\n",
              "      <td>English</td>\n",
              "      <td>USA</td>\n",
              "      <td>152.0</td>\n",
              "      <td>Action|Crime|Drama|Thriller</td>\n",
              "      <td>PG-13</td>\n",
              "      <td>based on comic book|dc comics|psychopath|star ...</td>\n",
              "      <td>Christopher Nolan</td>\n",
              "      <td>Christian Bale</td>\n",
              "      <td>Heath Ledger</td>\n",
              "      <td>Morgan Freeman</td>\n",
              "      <td>57802</td>\n",
              "      <td>185000000.0</td>\n",
              "      <td>9.0</td>\n",
              "      <td>533316061.0</td>\n",
              "    </tr>\n",
              "    <tr>\n",
              "      <th>1937</th>\n",
              "      <td>The Shawshank Redemption</td>\n",
              "      <td>1994.0</td>\n",
              "      <td>Color</td>\n",
              "      <td>1.85</td>\n",
              "      <td>142.0</td>\n",
              "      <td>English</td>\n",
              "      <td>USA</td>\n",
              "      <td>142.0</td>\n",
              "      <td>Crime|Drama</td>\n",
              "      <td>R</td>\n",
              "      <td>escape from prison|first person narration|pris...</td>\n",
              "      <td>Frank Darabont</td>\n",
              "      <td>Morgan Freeman</td>\n",
              "      <td>Jeffrey DeMunn</td>\n",
              "      <td>Bob Gunton</td>\n",
              "      <td>13495</td>\n",
              "      <td>25000000.0</td>\n",
              "      <td>9.3</td>\n",
              "      <td>28341469.0</td>\n",
              "    </tr>\n",
              "    <tr>\n",
              "      <th>2765</th>\n",
              "      <td>Towering Inferno</td>\n",
              "      <td>NaN</td>\n",
              "      <td>Color</td>\n",
              "      <td>1.33</td>\n",
              "      <td>65.0</td>\n",
              "      <td>English</td>\n",
              "      <td>Canada</td>\n",
              "      <td>65.0</td>\n",
              "      <td>Comedy</td>\n",
              "      <td>NaN</td>\n",
              "      <td>NaN</td>\n",
              "      <td>John Blanchard</td>\n",
              "      <td>Martin Short</td>\n",
              "      <td>Andrea Martin</td>\n",
              "      <td>Joe Flaherty</td>\n",
              "      <td>1125</td>\n",
              "      <td>NaN</td>\n",
              "      <td>9.5</td>\n",
              "      <td>NaN</td>\n",
              "    </tr>\n",
              "    <tr>\n",
              "      <th>2824</th>\n",
              "      <td>Dekalog</td>\n",
              "      <td>NaN</td>\n",
              "      <td>Color</td>\n",
              "      <td>1.33</td>\n",
              "      <td>55.0</td>\n",
              "      <td>Polish</td>\n",
              "      <td>Poland</td>\n",
              "      <td>55.0</td>\n",
              "      <td>Drama</td>\n",
              "      <td>TV-MA</td>\n",
              "      <td>meaning of life|moral challenge|morality|searc...</td>\n",
              "      <td>NaN</td>\n",
              "      <td>Krystyna Janda</td>\n",
              "      <td>Olaf Lubaszenko</td>\n",
              "      <td>Olgierd Lukaszewicz</td>\n",
              "      <td>25</td>\n",
              "      <td>NaN</td>\n",
              "      <td>9.1</td>\n",
              "      <td>447093.0</td>\n",
              "    </tr>\n",
              "    <tr>\n",
              "      <th>2837</th>\n",
              "      <td>The Godfather: Part II</td>\n",
              "      <td>1974.0</td>\n",
              "      <td>Color</td>\n",
              "      <td>1.85</td>\n",
              "      <td>220.0</td>\n",
              "      <td>English</td>\n",
              "      <td>USA</td>\n",
              "      <td>220.0</td>\n",
              "      <td>Crime|Drama</td>\n",
              "      <td>R</td>\n",
              "      <td>1950s|corrupt politician|lake tahoe nevada|mel...</td>\n",
              "      <td>Francis Ford Coppola</td>\n",
              "      <td>Robert De Niro</td>\n",
              "      <td>Al Pacino</td>\n",
              "      <td>Robert Duvall</td>\n",
              "      <td>39960</td>\n",
              "      <td>13000000.0</td>\n",
              "      <td>9.0</td>\n",
              "      <td>57300000.0</td>\n",
              "    </tr>\n",
              "    <tr>\n",
              "      <th>3207</th>\n",
              "      <td>Dekalog</td>\n",
              "      <td>NaN</td>\n",
              "      <td>Color</td>\n",
              "      <td>1.33</td>\n",
              "      <td>55.0</td>\n",
              "      <td>Polish</td>\n",
              "      <td>Poland</td>\n",
              "      <td>55.0</td>\n",
              "      <td>Drama</td>\n",
              "      <td>TV-MA</td>\n",
              "      <td>meaning of life|moral challenge|morality|searc...</td>\n",
              "      <td>NaN</td>\n",
              "      <td>Krystyna Janda</td>\n",
              "      <td>Olaf Lubaszenko</td>\n",
              "      <td>Olgierd Lukaszewicz</td>\n",
              "      <td>25</td>\n",
              "      <td>NaN</td>\n",
              "      <td>9.1</td>\n",
              "      <td>447093.0</td>\n",
              "    </tr>\n",
              "    <tr>\n",
              "      <th>3466</th>\n",
              "      <td>The Godfather</td>\n",
              "      <td>1972.0</td>\n",
              "      <td>Color</td>\n",
              "      <td>1.85</td>\n",
              "      <td>175.0</td>\n",
              "      <td>English</td>\n",
              "      <td>USA</td>\n",
              "      <td>175.0</td>\n",
              "      <td>Crime|Drama</td>\n",
              "      <td>R</td>\n",
              "      <td>crime family|mafia|organized crime|patriarch|r...</td>\n",
              "      <td>Francis Ford Coppola</td>\n",
              "      <td>Al Pacino</td>\n",
              "      <td>Marlon Brando</td>\n",
              "      <td>Robert Duvall</td>\n",
              "      <td>28122</td>\n",
              "      <td>6000000.0</td>\n",
              "      <td>9.2</td>\n",
              "      <td>134821952.0</td>\n",
              "    </tr>\n",
              "    <tr>\n",
              "      <th>3481</th>\n",
              "      <td>Fargo</td>\n",
              "      <td>NaN</td>\n",
              "      <td>Color</td>\n",
              "      <td>1.78</td>\n",
              "      <td>53.0</td>\n",
              "      <td>English</td>\n",
              "      <td>USA</td>\n",
              "      <td>53.0</td>\n",
              "      <td>Crime|Drama|Thriller</td>\n",
              "      <td>TV-MA</td>\n",
              "      <td>anthology|death|insurance salesman|minnesota|p...</td>\n",
              "      <td>NaN</td>\n",
              "      <td>Kirsten Dunst</td>\n",
              "      <td>Adam Goldberg</td>\n",
              "      <td>Oliver Platt</td>\n",
              "      <td>19949</td>\n",
              "      <td>NaN</td>\n",
              "      <td>9.0</td>\n",
              "      <td>NaN</td>\n",
              "    </tr>\n",
              "    <tr>\n",
              "      <th>4409</th>\n",
              "      <td>Kickboxer: Vengeance</td>\n",
              "      <td>2016.0</td>\n",
              "      <td>NaN</td>\n",
              "      <td>NaN</td>\n",
              "      <td>90.0</td>\n",
              "      <td>NaN</td>\n",
              "      <td>USA</td>\n",
              "      <td>90.0</td>\n",
              "      <td>Action</td>\n",
              "      <td>NaN</td>\n",
              "      <td>NaN</td>\n",
              "      <td>John Stockwell</td>\n",
              "      <td>Matthew Ziff</td>\n",
              "      <td>T.J. Storm</td>\n",
              "      <td>Sam Medina</td>\n",
              "      <td>261818</td>\n",
              "      <td>17000000.0</td>\n",
              "      <td>9.1</td>\n",
              "      <td>NaN</td>\n",
              "    </tr>\n",
              "  </tbody>\n",
              "</table>\n",
              "</div>"
            ],
            "text/plain": [
              "                        movie_title  title_year  ... imdb_score        gross\n",
              "66                 The Dark Knight       2008.0  ...        9.0  533316061.0\n",
              "1937      The Shawshank Redemption       1994.0  ...        9.3   28341469.0\n",
              "2765  Towering Inferno                      NaN  ...        9.5          NaN\n",
              "2824           Dekalog                      NaN  ...        9.1     447093.0\n",
              "2837        The Godfather: Part II       1974.0  ...        9.0   57300000.0\n",
              "3207           Dekalog                      NaN  ...        9.1     447093.0\n",
              "3466                 The Godfather       1972.0  ...        9.2  134821952.0\n",
              "3481             Fargo                      NaN  ...        9.0          NaN\n",
              "4409          Kickboxer: Vengeance       2016.0  ...        9.1          NaN\n",
              "\n",
              "[9 rows x 19 columns]"
            ]
          },
          "metadata": {
            "tags": []
          },
          "execution_count": 221
        }
      ]
    },
    {
      "cell_type": "code",
      "metadata": {
        "id": "ALBRJYOVpBJv",
        "colab_type": "code",
        "colab": {
          "base_uri": "https://localhost:8080/",
          "height": 657
        },
        "outputId": "6a1bec8a-3ae9-472b-a2a6-920208f6f4ae"
      },
      "source": [
        "\n",
        "# Importar BBDD thenumbers.com\n",
        "\n",
        "## Ahora manejaremos los datos faltantes (nulos o NaN).\n",
        "\n",
        "pd.read_csv('drive/My Drive/Colab Notebooks/datasets/machine_learning_python/thenumbers.csv')"
      ],
      "execution_count": 222,
      "outputs": [
        {
          "output_type": "execute_result",
          "data": {
            "text/html": [
              "<div>\n",
              "<style scoped>\n",
              "    .dataframe tbody tr th:only-of-type {\n",
              "        vertical-align: middle;\n",
              "    }\n",
              "\n",
              "    .dataframe tbody tr th {\n",
              "        vertical-align: top;\n",
              "    }\n",
              "\n",
              "    .dataframe thead th {\n",
              "        text-align: right;\n",
              "    }\n",
              "</style>\n",
              "<table border=\"1\" class=\"dataframe\">\n",
              "  <thead>\n",
              "    <tr style=\"text-align: right;\">\n",
              "      <th></th>\n",
              "      <th>Unnamed: 0</th>\n",
              "      <th>movie_name</th>\n",
              "      <th>domestic_gross</th>\n",
              "      <th>movie_link</th>\n",
              "      <th>production_budget</th>\n",
              "      <th>release_date</th>\n",
              "      <th>worldwide_gross</th>\n",
              "      <th>movie_title</th>\n",
              "    </tr>\n",
              "  </thead>\n",
              "  <tbody>\n",
              "    <tr>\n",
              "      <th>0</th>\n",
              "      <td>0</td>\n",
              "      <td>Avatar</td>\n",
              "      <td>760507625</td>\n",
              "      <td>http://www.the-numbers.com/movie/Avatar#tab=su...</td>\n",
              "      <td>425000000</td>\n",
              "      <td>12/18/2009</td>\n",
              "      <td>2783918982</td>\n",
              "      <td>Avatar</td>\n",
              "    </tr>\n",
              "    <tr>\n",
              "      <th>1</th>\n",
              "      <td>1</td>\n",
              "      <td>Star Wars Ep. VII: The Force Awakens</td>\n",
              "      <td>936662225</td>\n",
              "      <td>http://www.the-numbers.com/movie/Star-Wars-Ep-...</td>\n",
              "      <td>306000000</td>\n",
              "      <td>12/18/2015</td>\n",
              "      <td>2058662225</td>\n",
              "      <td>Star Wars: Episode VII - The Force Awakens    ...</td>\n",
              "    </tr>\n",
              "    <tr>\n",
              "      <th>2</th>\n",
              "      <td>2</td>\n",
              "      <td>Pirates of the Caribbean: At World's End</td>\n",
              "      <td>309420425</td>\n",
              "      <td>http://www.the-numbers.com/movie/Pirates-of-th...</td>\n",
              "      <td>300000000</td>\n",
              "      <td>5/24/2007</td>\n",
              "      <td>963420425</td>\n",
              "      <td>Pirates of the Caribbean: At World's End</td>\n",
              "    </tr>\n",
              "    <tr>\n",
              "      <th>3</th>\n",
              "      <td>3</td>\n",
              "      <td>Spectre</td>\n",
              "      <td>200074175</td>\n",
              "      <td>http://www.the-numbers.com/movie/Spectre#tab=s...</td>\n",
              "      <td>300000000</td>\n",
              "      <td>11/6/2015</td>\n",
              "      <td>879620923</td>\n",
              "      <td>Spectre</td>\n",
              "    </tr>\n",
              "    <tr>\n",
              "      <th>4</th>\n",
              "      <td>4</td>\n",
              "      <td>The Dark Knight Rises</td>\n",
              "      <td>448139099</td>\n",
              "      <td>http://www.the-numbers.com/movie/Dark-Knight-R...</td>\n",
              "      <td>275000000</td>\n",
              "      <td>7/20/2012</td>\n",
              "      <td>1084439099</td>\n",
              "      <td>The Dark Knight Rises</td>\n",
              "    </tr>\n",
              "    <tr>\n",
              "      <th>...</th>\n",
              "      <td>...</td>\n",
              "      <td>...</td>\n",
              "      <td>...</td>\n",
              "      <td>...</td>\n",
              "      <td>...</td>\n",
              "      <td>...</td>\n",
              "      <td>...</td>\n",
              "      <td>...</td>\n",
              "    </tr>\n",
              "    <tr>\n",
              "      <th>4336</th>\n",
              "      <td>5157</td>\n",
              "      <td>The Mongol King</td>\n",
              "      <td>900</td>\n",
              "      <td>http://www.the-numbers.com/movie/Mongol-King-T...</td>\n",
              "      <td>7000</td>\n",
              "      <td>1/1/2004</td>\n",
              "      <td>900</td>\n",
              "      <td>The Mongol King</td>\n",
              "    </tr>\n",
              "    <tr>\n",
              "      <th>4337</th>\n",
              "      <td>5160</td>\n",
              "      <td>Signed Sealed Delivered</td>\n",
              "      <td>0</td>\n",
              "      <td>http://www.the-numbers.com/movie/Signed-Sealed...</td>\n",
              "      <td>5000</td>\n",
              "      <td>9/29/2015</td>\n",
              "      <td>0</td>\n",
              "      <td>Signed Sealed Delivered</td>\n",
              "    </tr>\n",
              "    <tr>\n",
              "      <th>4338</th>\n",
              "      <td>5161</td>\n",
              "      <td>Shanghai Calling</td>\n",
              "      <td>10443</td>\n",
              "      <td>http://www.the-numbers.com/movie/Shanghai-Call...</td>\n",
              "      <td>3967</td>\n",
              "      <td>2/15/2013</td>\n",
              "      <td>10443</td>\n",
              "      <td>Shanghai Calling</td>\n",
              "    </tr>\n",
              "    <tr>\n",
              "      <th>4339</th>\n",
              "      <td>5162</td>\n",
              "      <td>A Plague So Pleasant</td>\n",
              "      <td>0</td>\n",
              "      <td>http://www.the-numbers.com/movie/Plague-So-Ple...</td>\n",
              "      <td>1400</td>\n",
              "      <td>9/29/2015</td>\n",
              "      <td>0</td>\n",
              "      <td>A Plague So Pleasant</td>\n",
              "    </tr>\n",
              "    <tr>\n",
              "      <th>4340</th>\n",
              "      <td>5163</td>\n",
              "      <td>My Date With Drew</td>\n",
              "      <td>181041</td>\n",
              "      <td>http://www.the-numbers.com/movie/My-Date-With-...</td>\n",
              "      <td>1100</td>\n",
              "      <td>8/5/2005</td>\n",
              "      <td>181041</td>\n",
              "      <td>My Date with Drew</td>\n",
              "    </tr>\n",
              "  </tbody>\n",
              "</table>\n",
              "<p>4341 rows × 8 columns</p>\n",
              "</div>"
            ],
            "text/plain": [
              "      Unnamed: 0  ...                                        movie_title\n",
              "0              0  ...                                            Avatar \n",
              "1              1  ...  Star Wars: Episode VII - The Force Awakens    ...\n",
              "2              2  ...          Pirates of the Caribbean: At World's End \n",
              "3              3  ...                                           Spectre \n",
              "4              4  ...                             The Dark Knight Rises \n",
              "...          ...  ...                                                ...\n",
              "4336        5157  ...                                   The Mongol King \n",
              "4337        5160  ...                           Signed Sealed Delivered \n",
              "4338        5161  ...                                  Shanghai Calling \n",
              "4339        5162  ...                              A Plague So Pleasant \n",
              "4340        5163  ...                                 My Date with Drew \n",
              "\n",
              "[4341 rows x 8 columns]"
            ]
          },
          "metadata": {
            "tags": []
          },
          "execution_count": 222
        }
      ]
    },
    {
      "cell_type": "code",
      "metadata": {
        "id": "cEcrXizTusWm",
        "colab_type": "code",
        "colab": {}
      },
      "source": [
        "financials = pd.read_csv('drive/My Drive/Colab Notebooks/datasets/machine_learning_python/thenumbers.csv', encoding='utf-8')"
      ],
      "execution_count": 0,
      "outputs": []
    },
    {
      "cell_type": "code",
      "metadata": {
        "id": "qa7aKzkCvIEQ",
        "colab_type": "code",
        "colab": {}
      },
      "source": [
        "financials = financials[['movie_title', 'production_budget', 'worldwide_gross']]"
      ],
      "execution_count": 0,
      "outputs": []
    },
    {
      "cell_type": "code",
      "metadata": {
        "id": "eUiJJaNTvdBE",
        "colab_type": "code",
        "colab": {
          "base_uri": "https://localhost:8080/",
          "height": 34
        },
        "outputId": "972b50d6-9134-4dd8-e420-25719e3b83b4"
      },
      "source": [
        "financials.shape"
      ],
      "execution_count": 225,
      "outputs": [
        {
          "output_type": "execute_result",
          "data": {
            "text/plain": [
              "(4341, 3)"
            ]
          },
          "metadata": {
            "tags": []
          },
          "execution_count": 225
        }
      ]
    },
    {
      "cell_type": "code",
      "metadata": {
        "id": "LBdGMyGLvi_Z",
        "colab_type": "code",
        "colab": {
          "base_uri": "https://localhost:8080/",
          "height": 34
        },
        "outputId": "301e11bf-9a02-45b7-8df4-45907f204fb1"
      },
      "source": [
        "movies.shape"
      ],
      "execution_count": 226,
      "outputs": [
        {
          "output_type": "execute_result",
          "data": {
            "text/plain": [
              "(5043, 19)"
            ]
          },
          "metadata": {
            "tags": []
          },
          "execution_count": 226
        }
      ]
    },
    {
      "cell_type": "code",
      "metadata": {
        "id": "P8HiFmfMvrwb",
        "colab_type": "code",
        "colab": {
          "base_uri": "https://localhost:8080/",
          "height": 221
        },
        "outputId": "ac9bb08a-37a0-4af6-cfef-db35f2092698"
      },
      "source": [
        "movies['movie_title']"
      ],
      "execution_count": 227,
      "outputs": [
        {
          "output_type": "execute_result",
          "data": {
            "text/plain": [
              "0                                                 Avatar \n",
              "1               Pirates of the Caribbean: At World's End \n",
              "2                                                Spectre \n",
              "3                                  The Dark Knight Rises \n",
              "4       Star Wars: Episode VII - The Force Awakens    ...\n",
              "                              ...                        \n",
              "5038                             Signed Sealed Delivered \n",
              "5039                           The Following             \n",
              "5040                                A Plague So Pleasant \n",
              "5041                                    Shanghai Calling \n",
              "5042                                   My Date with Drew \n",
              "Name: movie_title, Length: 5043, dtype: object"
            ]
          },
          "metadata": {
            "tags": []
          },
          "execution_count": 227
        }
      ]
    },
    {
      "cell_type": "code",
      "metadata": {
        "id": "7mBKG_A4wFgd",
        "colab_type": "code",
        "colab": {}
      },
      "source": [
        "# Concatenamos los datos numéricos de (movies_num) con el (nombre de la película)\n",
        "movies_num = pd.concat([movies_num, movies['movie_title']], axis=1)\n",
        "# La concatenacion por defecto se hace línea por línea, para hacerla columna por columna, usamos (axis=1)"
      ],
      "execution_count": 0,
      "outputs": []
    },
    {
      "cell_type": "code",
      "metadata": {
        "id": "izpHhA3x0SzS",
        "colab_type": "code",
        "colab": {
          "base_uri": "https://localhost:8080/",
          "height": 436
        },
        "outputId": "696e9d7a-1661-4737-a4fa-24d479706d05"
      },
      "source": [
        "movies_num"
      ],
      "execution_count": 229,
      "outputs": [
        {
          "output_type": "execute_result",
          "data": {
            "text/html": [
              "<div>\n",
              "<style scoped>\n",
              "    .dataframe tbody tr th:only-of-type {\n",
              "        vertical-align: middle;\n",
              "    }\n",
              "\n",
              "    .dataframe tbody tr th {\n",
              "        vertical-align: top;\n",
              "    }\n",
              "\n",
              "    .dataframe thead th {\n",
              "        text-align: right;\n",
              "    }\n",
              "</style>\n",
              "<table border=\"1\" class=\"dataframe\">\n",
              "  <thead>\n",
              "    <tr style=\"text-align: right;\">\n",
              "      <th></th>\n",
              "      <th>title_year</th>\n",
              "      <th>aspect_ratio</th>\n",
              "      <th>duration</th>\n",
              "      <th>duration.1</th>\n",
              "      <th>cast_total_facebook_likes</th>\n",
              "      <th>budget</th>\n",
              "      <th>imdb_score</th>\n",
              "      <th>gross</th>\n",
              "      <th>movie_title</th>\n",
              "    </tr>\n",
              "  </thead>\n",
              "  <tbody>\n",
              "    <tr>\n",
              "      <th>0</th>\n",
              "      <td>2009.0</td>\n",
              "      <td>1.78</td>\n",
              "      <td>178.0</td>\n",
              "      <td>178.0</td>\n",
              "      <td>4834</td>\n",
              "      <td>237000000.0</td>\n",
              "      <td>7.9</td>\n",
              "      <td>760505847.0</td>\n",
              "      <td>Avatar</td>\n",
              "    </tr>\n",
              "    <tr>\n",
              "      <th>1</th>\n",
              "      <td>2007.0</td>\n",
              "      <td>2.35</td>\n",
              "      <td>169.0</td>\n",
              "      <td>169.0</td>\n",
              "      <td>48350</td>\n",
              "      <td>300000000.0</td>\n",
              "      <td>7.1</td>\n",
              "      <td>309404152.0</td>\n",
              "      <td>Pirates of the Caribbean: At World's End</td>\n",
              "    </tr>\n",
              "    <tr>\n",
              "      <th>2</th>\n",
              "      <td>2015.0</td>\n",
              "      <td>2.35</td>\n",
              "      <td>148.0</td>\n",
              "      <td>148.0</td>\n",
              "      <td>11700</td>\n",
              "      <td>245000000.0</td>\n",
              "      <td>6.8</td>\n",
              "      <td>200074175.0</td>\n",
              "      <td>Spectre</td>\n",
              "    </tr>\n",
              "    <tr>\n",
              "      <th>3</th>\n",
              "      <td>2012.0</td>\n",
              "      <td>2.35</td>\n",
              "      <td>164.0</td>\n",
              "      <td>164.0</td>\n",
              "      <td>106759</td>\n",
              "      <td>250000000.0</td>\n",
              "      <td>8.5</td>\n",
              "      <td>448130642.0</td>\n",
              "      <td>The Dark Knight Rises</td>\n",
              "    </tr>\n",
              "    <tr>\n",
              "      <th>4</th>\n",
              "      <td>NaN</td>\n",
              "      <td>NaN</td>\n",
              "      <td>NaN</td>\n",
              "      <td>NaN</td>\n",
              "      <td>143</td>\n",
              "      <td>NaN</td>\n",
              "      <td>7.1</td>\n",
              "      <td>NaN</td>\n",
              "      <td>Star Wars: Episode VII - The Force Awakens    ...</td>\n",
              "    </tr>\n",
              "    <tr>\n",
              "      <th>...</th>\n",
              "      <td>...</td>\n",
              "      <td>...</td>\n",
              "      <td>...</td>\n",
              "      <td>...</td>\n",
              "      <td>...</td>\n",
              "      <td>...</td>\n",
              "      <td>...</td>\n",
              "      <td>...</td>\n",
              "      <td>...</td>\n",
              "    </tr>\n",
              "    <tr>\n",
              "      <th>5038</th>\n",
              "      <td>2013.0</td>\n",
              "      <td>NaN</td>\n",
              "      <td>87.0</td>\n",
              "      <td>87.0</td>\n",
              "      <td>2283</td>\n",
              "      <td>NaN</td>\n",
              "      <td>7.7</td>\n",
              "      <td>NaN</td>\n",
              "      <td>Signed Sealed Delivered</td>\n",
              "    </tr>\n",
              "    <tr>\n",
              "      <th>5039</th>\n",
              "      <td>NaN</td>\n",
              "      <td>16.00</td>\n",
              "      <td>43.0</td>\n",
              "      <td>43.0</td>\n",
              "      <td>1753</td>\n",
              "      <td>NaN</td>\n",
              "      <td>7.5</td>\n",
              "      <td>NaN</td>\n",
              "      <td>The Following</td>\n",
              "    </tr>\n",
              "    <tr>\n",
              "      <th>5040</th>\n",
              "      <td>2013.0</td>\n",
              "      <td>NaN</td>\n",
              "      <td>76.0</td>\n",
              "      <td>76.0</td>\n",
              "      <td>0</td>\n",
              "      <td>1400.0</td>\n",
              "      <td>6.3</td>\n",
              "      <td>NaN</td>\n",
              "      <td>A Plague So Pleasant</td>\n",
              "    </tr>\n",
              "    <tr>\n",
              "      <th>5041</th>\n",
              "      <td>2012.0</td>\n",
              "      <td>2.35</td>\n",
              "      <td>100.0</td>\n",
              "      <td>100.0</td>\n",
              "      <td>2386</td>\n",
              "      <td>NaN</td>\n",
              "      <td>6.3</td>\n",
              "      <td>10443.0</td>\n",
              "      <td>Shanghai Calling</td>\n",
              "    </tr>\n",
              "    <tr>\n",
              "      <th>5042</th>\n",
              "      <td>2004.0</td>\n",
              "      <td>1.85</td>\n",
              "      <td>90.0</td>\n",
              "      <td>90.0</td>\n",
              "      <td>163</td>\n",
              "      <td>1100.0</td>\n",
              "      <td>6.6</td>\n",
              "      <td>85222.0</td>\n",
              "      <td>My Date with Drew</td>\n",
              "    </tr>\n",
              "  </tbody>\n",
              "</table>\n",
              "<p>5043 rows × 9 columns</p>\n",
              "</div>"
            ],
            "text/plain": [
              "      title_year  ...                                        movie_title\n",
              "0         2009.0  ...                                            Avatar \n",
              "1         2007.0  ...          Pirates of the Caribbean: At World's End \n",
              "2         2015.0  ...                                           Spectre \n",
              "3         2012.0  ...                             The Dark Knight Rises \n",
              "4            NaN  ...  Star Wars: Episode VII - The Force Awakens    ...\n",
              "...          ...  ...                                                ...\n",
              "5038      2013.0  ...                           Signed Sealed Delivered \n",
              "5039         NaN  ...                         The Following             \n",
              "5040      2013.0  ...                              A Plague So Pleasant \n",
              "5041      2012.0  ...                                  Shanghai Calling \n",
              "5042      2004.0  ...                                 My Date with Drew \n",
              "\n",
              "[5043 rows x 9 columns]"
            ]
          },
          "metadata": {
            "tags": []
          },
          "execution_count": 229
        }
      ]
    },
    {
      "cell_type": "code",
      "metadata": {
        "id": "l-d41Aj1xBcw",
        "colab_type": "code",
        "colab": {
          "base_uri": "https://localhost:8080/",
          "height": 643
        },
        "outputId": "ae7c2135-79ab-4114-c991-319b860391d1"
      },
      "source": [
        "# Se hace el merge con las 2 bases de datos  (financial) y (movies)\n",
        "pd.merge(financials, movies_num, on='movie_title', how='left')\n",
        "\n",
        "# La llave es movie_title  y el join será left (izquierdo), de esta manera sólo guardará las llaves que se encuentren en financials"
      ],
      "execution_count": 230,
      "outputs": [
        {
          "output_type": "execute_result",
          "data": {
            "text/html": [
              "<div>\n",
              "<style scoped>\n",
              "    .dataframe tbody tr th:only-of-type {\n",
              "        vertical-align: middle;\n",
              "    }\n",
              "\n",
              "    .dataframe tbody tr th {\n",
              "        vertical-align: top;\n",
              "    }\n",
              "\n",
              "    .dataframe thead th {\n",
              "        text-align: right;\n",
              "    }\n",
              "</style>\n",
              "<table border=\"1\" class=\"dataframe\">\n",
              "  <thead>\n",
              "    <tr style=\"text-align: right;\">\n",
              "      <th></th>\n",
              "      <th>movie_title</th>\n",
              "      <th>production_budget</th>\n",
              "      <th>worldwide_gross</th>\n",
              "      <th>title_year</th>\n",
              "      <th>aspect_ratio</th>\n",
              "      <th>duration</th>\n",
              "      <th>duration.1</th>\n",
              "      <th>cast_total_facebook_likes</th>\n",
              "      <th>budget</th>\n",
              "      <th>imdb_score</th>\n",
              "      <th>gross</th>\n",
              "    </tr>\n",
              "  </thead>\n",
              "  <tbody>\n",
              "    <tr>\n",
              "      <th>0</th>\n",
              "      <td>Avatar</td>\n",
              "      <td>425000000</td>\n",
              "      <td>2783918982</td>\n",
              "      <td>2009.0</td>\n",
              "      <td>1.78</td>\n",
              "      <td>178.0</td>\n",
              "      <td>178.0</td>\n",
              "      <td>4834</td>\n",
              "      <td>237000000.0</td>\n",
              "      <td>7.9</td>\n",
              "      <td>760505847.0</td>\n",
              "    </tr>\n",
              "    <tr>\n",
              "      <th>1</th>\n",
              "      <td>Star Wars: Episode VII - The Force Awakens    ...</td>\n",
              "      <td>306000000</td>\n",
              "      <td>2058662225</td>\n",
              "      <td>NaN</td>\n",
              "      <td>NaN</td>\n",
              "      <td>NaN</td>\n",
              "      <td>NaN</td>\n",
              "      <td>143</td>\n",
              "      <td>NaN</td>\n",
              "      <td>7.1</td>\n",
              "      <td>NaN</td>\n",
              "    </tr>\n",
              "    <tr>\n",
              "      <th>2</th>\n",
              "      <td>Pirates of the Caribbean: At World's End</td>\n",
              "      <td>300000000</td>\n",
              "      <td>963420425</td>\n",
              "      <td>2007.0</td>\n",
              "      <td>2.35</td>\n",
              "      <td>169.0</td>\n",
              "      <td>169.0</td>\n",
              "      <td>48350</td>\n",
              "      <td>300000000.0</td>\n",
              "      <td>7.1</td>\n",
              "      <td>309404152.0</td>\n",
              "    </tr>\n",
              "    <tr>\n",
              "      <th>3</th>\n",
              "      <td>Spectre</td>\n",
              "      <td>300000000</td>\n",
              "      <td>879620923</td>\n",
              "      <td>2015.0</td>\n",
              "      <td>2.35</td>\n",
              "      <td>148.0</td>\n",
              "      <td>148.0</td>\n",
              "      <td>11700</td>\n",
              "      <td>245000000.0</td>\n",
              "      <td>6.8</td>\n",
              "      <td>200074175.0</td>\n",
              "    </tr>\n",
              "    <tr>\n",
              "      <th>4</th>\n",
              "      <td>The Dark Knight Rises</td>\n",
              "      <td>275000000</td>\n",
              "      <td>1084439099</td>\n",
              "      <td>2012.0</td>\n",
              "      <td>2.35</td>\n",
              "      <td>164.0</td>\n",
              "      <td>164.0</td>\n",
              "      <td>106759</td>\n",
              "      <td>250000000.0</td>\n",
              "      <td>8.5</td>\n",
              "      <td>448130642.0</td>\n",
              "    </tr>\n",
              "    <tr>\n",
              "      <th>...</th>\n",
              "      <td>...</td>\n",
              "      <td>...</td>\n",
              "      <td>...</td>\n",
              "      <td>...</td>\n",
              "      <td>...</td>\n",
              "      <td>...</td>\n",
              "      <td>...</td>\n",
              "      <td>...</td>\n",
              "      <td>...</td>\n",
              "      <td>...</td>\n",
              "      <td>...</td>\n",
              "    </tr>\n",
              "    <tr>\n",
              "      <th>4380</th>\n",
              "      <td>The Mongol King</td>\n",
              "      <td>7000</td>\n",
              "      <td>900</td>\n",
              "      <td>2005.0</td>\n",
              "      <td>NaN</td>\n",
              "      <td>84.0</td>\n",
              "      <td>84.0</td>\n",
              "      <td>93</td>\n",
              "      <td>3250.0</td>\n",
              "      <td>7.8</td>\n",
              "      <td>NaN</td>\n",
              "    </tr>\n",
              "    <tr>\n",
              "      <th>4381</th>\n",
              "      <td>Signed Sealed Delivered</td>\n",
              "      <td>5000</td>\n",
              "      <td>0</td>\n",
              "      <td>2013.0</td>\n",
              "      <td>NaN</td>\n",
              "      <td>87.0</td>\n",
              "      <td>87.0</td>\n",
              "      <td>2283</td>\n",
              "      <td>NaN</td>\n",
              "      <td>7.7</td>\n",
              "      <td>NaN</td>\n",
              "    </tr>\n",
              "    <tr>\n",
              "      <th>4382</th>\n",
              "      <td>Shanghai Calling</td>\n",
              "      <td>3967</td>\n",
              "      <td>10443</td>\n",
              "      <td>2012.0</td>\n",
              "      <td>2.35</td>\n",
              "      <td>100.0</td>\n",
              "      <td>100.0</td>\n",
              "      <td>2386</td>\n",
              "      <td>NaN</td>\n",
              "      <td>6.3</td>\n",
              "      <td>10443.0</td>\n",
              "    </tr>\n",
              "    <tr>\n",
              "      <th>4383</th>\n",
              "      <td>A Plague So Pleasant</td>\n",
              "      <td>1400</td>\n",
              "      <td>0</td>\n",
              "      <td>2013.0</td>\n",
              "      <td>NaN</td>\n",
              "      <td>76.0</td>\n",
              "      <td>76.0</td>\n",
              "      <td>0</td>\n",
              "      <td>1400.0</td>\n",
              "      <td>6.3</td>\n",
              "      <td>NaN</td>\n",
              "    </tr>\n",
              "    <tr>\n",
              "      <th>4384</th>\n",
              "      <td>My Date with Drew</td>\n",
              "      <td>1100</td>\n",
              "      <td>181041</td>\n",
              "      <td>2004.0</td>\n",
              "      <td>1.85</td>\n",
              "      <td>90.0</td>\n",
              "      <td>90.0</td>\n",
              "      <td>163</td>\n",
              "      <td>1100.0</td>\n",
              "      <td>6.6</td>\n",
              "      <td>85222.0</td>\n",
              "    </tr>\n",
              "  </tbody>\n",
              "</table>\n",
              "<p>4385 rows × 11 columns</p>\n",
              "</div>"
            ],
            "text/plain": [
              "                                            movie_title  ...        gross\n",
              "0                                               Avatar   ...  760505847.0\n",
              "1     Star Wars: Episode VII - The Force Awakens    ...  ...          NaN\n",
              "2             Pirates of the Caribbean: At World's End   ...  309404152.0\n",
              "3                                              Spectre   ...  200074175.0\n",
              "4                                The Dark Knight Rises   ...  448130642.0\n",
              "...                                                 ...  ...          ...\n",
              "4380                                   The Mongol King   ...          NaN\n",
              "4381                           Signed Sealed Delivered   ...          NaN\n",
              "4382                                  Shanghai Calling   ...      10443.0\n",
              "4383                              A Plague So Pleasant   ...          NaN\n",
              "4384                                 My Date with Drew   ...      85222.0\n",
              "\n",
              "[4385 rows x 11 columns]"
            ]
          },
          "metadata": {
            "tags": []
          },
          "execution_count": 230
        }
      ]
    },
    {
      "cell_type": "code",
      "metadata": {
        "id": "HyI8Hy1lxxjG",
        "colab_type": "code",
        "colab": {}
      },
      "source": [
        "movies_v2 = pd.merge(financials, movies_num, on='movie_title', how='left')"
      ],
      "execution_count": 0,
      "outputs": []
    },
    {
      "cell_type": "code",
      "metadata": {
        "id": "uAAiIHhTyRcc",
        "colab_type": "code",
        "colab": {
          "base_uri": "https://localhost:8080/",
          "height": 34
        },
        "outputId": "646a4f1f-caa8-409d-eb0b-e0a87fbf4855"
      },
      "source": [
        "movies_v2.shape"
      ],
      "execution_count": 232,
      "outputs": [
        {
          "output_type": "execute_result",
          "data": {
            "text/plain": [
              "(4385, 11)"
            ]
          },
          "metadata": {
            "tags": []
          },
          "execution_count": 232
        }
      ]
    },
    {
      "cell_type": "markdown",
      "metadata": {
        "id": "Ulx4ifD_3YBe",
        "colab_type": "text"
      },
      "source": [
        "# Ahora solucionaremos el problema de los datos faltantes (nulos o NaN)\n",
        "\n",
        "\n",
        "Los datos faltantes generan problemas con muchos algoritmos de ML. Es por eso que existen distintas estrategias para lidiar con ellos."
      ]
    },
    {
      "cell_type": "code",
      "metadata": {
        "id": "pDVT92K94Fnv",
        "colab_type": "code",
        "colab": {
          "base_uri": "https://localhost:8080/",
          "height": 1000
        },
        "outputId": "70dd7d25-386f-46ea-fa70-592a4867be0c"
      },
      "source": [
        "# Vemos la documentacion de pandas Series.value_counts\n",
        "help(pd.Series.value_counts)"
      ],
      "execution_count": 233,
      "outputs": [
        {
          "output_type": "stream",
          "text": [
            "Help on function value_counts in module pandas.core.base:\n",
            "\n",
            "value_counts(self, normalize=False, sort=True, ascending=False, bins=None, dropna=True)\n",
            "    Return a Series containing counts of unique values.\n",
            "    \n",
            "    The resulting object will be in descending order so that the\n",
            "    first element is the most frequently-occurring element.\n",
            "    Excludes NA values by default.\n",
            "    \n",
            "    Parameters\n",
            "    ----------\n",
            "    normalize : bool, default False\n",
            "        If True then the object returned will contain the relative\n",
            "        frequencies of the unique values.\n",
            "    sort : bool, default True\n",
            "        Sort by frequencies.\n",
            "    ascending : bool, default False\n",
            "        Sort in ascending order.\n",
            "    bins : int, optional\n",
            "        Rather than count values, group them into half-open bins,\n",
            "        a convenience for ``pd.cut``, only works with numeric data.\n",
            "    dropna : bool, default True\n",
            "        Don't include counts of NaN.\n",
            "    \n",
            "    Returns\n",
            "    -------\n",
            "    Series\n",
            "    \n",
            "    See Also\n",
            "    --------\n",
            "    Series.count: Number of non-NA elements in a Series.\n",
            "    DataFrame.count: Number of non-NA elements in a DataFrame.\n",
            "    \n",
            "    Examples\n",
            "    --------\n",
            "    >>> index = pd.Index([3, 1, 2, 3, 4, np.nan])\n",
            "    >>> index.value_counts()\n",
            "    3.0    2\n",
            "    4.0    1\n",
            "    2.0    1\n",
            "    1.0    1\n",
            "    dtype: int64\n",
            "    \n",
            "    With `normalize` set to `True`, returns the relative frequency by\n",
            "    dividing all values by the sum of values.\n",
            "    \n",
            "    >>> s = pd.Series([3, 1, 2, 3, 4, np.nan])\n",
            "    >>> s.value_counts(normalize=True)\n",
            "    3.0    0.4\n",
            "    4.0    0.2\n",
            "    2.0    0.2\n",
            "    1.0    0.2\n",
            "    dtype: float64\n",
            "    \n",
            "    **bins**\n",
            "    \n",
            "    Bins can be useful for going from a continuous variable to a\n",
            "    categorical variable; instead of counting unique\n",
            "    apparitions of values, divide the index in the specified\n",
            "    number of half-open bins.\n",
            "    \n",
            "    >>> s.value_counts(bins=3)\n",
            "    (2.0, 3.0]      2\n",
            "    (0.996, 2.0]    2\n",
            "    (3.0, 4.0]      1\n",
            "    dtype: int64\n",
            "    \n",
            "    **dropna**\n",
            "    \n",
            "    With `dropna` set to `False` we can also see NaN index values.\n",
            "    \n",
            "    >>> s.value_counts(dropna=False)\n",
            "    3.0    2\n",
            "    NaN    1\n",
            "    4.0    1\n",
            "    2.0    1\n",
            "    1.0    1\n",
            "    dtype: int64\n",
            "\n"
          ],
          "name": "stdout"
        }
      ]
    },
    {
      "cell_type": "code",
      "metadata": {
        "id": "cd9fFxVY3s7i",
        "colab_type": "code",
        "colab": {
          "base_uri": "https://localhost:8080/",
          "height": 111
        },
        "outputId": "b9bbd4ab-18cb-4e8d-9385-f40971a82945"
      },
      "source": [
        "movies_v2.notnull().apply(pd.Series.value_counts)\n",
        "# Los false indican los datos faltantes\n",
        "# La función apply hace un for loop y con pd.Series.value_counts nos indica la cantidad de datos nulos y completos por cada columna"
      ],
      "execution_count": 234,
      "outputs": [
        {
          "output_type": "execute_result",
          "data": {
            "text/html": [
              "<div>\n",
              "<style scoped>\n",
              "    .dataframe tbody tr th:only-of-type {\n",
              "        vertical-align: middle;\n",
              "    }\n",
              "\n",
              "    .dataframe tbody tr th {\n",
              "        vertical-align: top;\n",
              "    }\n",
              "\n",
              "    .dataframe thead th {\n",
              "        text-align: right;\n",
              "    }\n",
              "</style>\n",
              "<table border=\"1\" class=\"dataframe\">\n",
              "  <thead>\n",
              "    <tr style=\"text-align: right;\">\n",
              "      <th></th>\n",
              "      <th>movie_title</th>\n",
              "      <th>production_budget</th>\n",
              "      <th>worldwide_gross</th>\n",
              "      <th>title_year</th>\n",
              "      <th>aspect_ratio</th>\n",
              "      <th>duration</th>\n",
              "      <th>duration.1</th>\n",
              "      <th>cast_total_facebook_likes</th>\n",
              "      <th>budget</th>\n",
              "      <th>imdb_score</th>\n",
              "      <th>gross</th>\n",
              "    </tr>\n",
              "  </thead>\n",
              "  <tbody>\n",
              "    <tr>\n",
              "      <th>False</th>\n",
              "      <td>NaN</td>\n",
              "      <td>NaN</td>\n",
              "      <td>NaN</td>\n",
              "      <td>27</td>\n",
              "      <td>274</td>\n",
              "      <td>13</td>\n",
              "      <td>13</td>\n",
              "      <td>NaN</td>\n",
              "      <td>335</td>\n",
              "      <td>NaN</td>\n",
              "      <td>671</td>\n",
              "    </tr>\n",
              "    <tr>\n",
              "      <th>True</th>\n",
              "      <td>4385.0</td>\n",
              "      <td>4385.0</td>\n",
              "      <td>4385.0</td>\n",
              "      <td>4358</td>\n",
              "      <td>4111</td>\n",
              "      <td>4372</td>\n",
              "      <td>4372</td>\n",
              "      <td>4385.0</td>\n",
              "      <td>4050</td>\n",
              "      <td>4385.0</td>\n",
              "      <td>3714</td>\n",
              "    </tr>\n",
              "  </tbody>\n",
              "</table>\n",
              "</div>"
            ],
            "text/plain": [
              "       movie_title  production_budget  ...  imdb_score  gross\n",
              "False          NaN                NaN  ...         NaN    671\n",
              "True        4385.0             4385.0  ...      4385.0   3714\n",
              "\n",
              "[2 rows x 11 columns]"
            ]
          },
          "metadata": {
            "tags": []
          },
          "execution_count": 234
        }
      ]
    },
    {
      "cell_type": "code",
      "metadata": {
        "id": "capg_Xa73u2Y",
        "colab_type": "code",
        "colab": {
          "base_uri": "https://localhost:8080/",
          "height": 111
        },
        "outputId": "dd75702b-c042-4165-b8e6-5d7bf7a81e90"
      },
      "source": [
        "(movies_v2 != 0).apply(pd.Series.value_counts)"
      ],
      "execution_count": 235,
      "outputs": [
        {
          "output_type": "execute_result",
          "data": {
            "text/html": [
              "<div>\n",
              "<style scoped>\n",
              "    .dataframe tbody tr th:only-of-type {\n",
              "        vertical-align: middle;\n",
              "    }\n",
              "\n",
              "    .dataframe tbody tr th {\n",
              "        vertical-align: top;\n",
              "    }\n",
              "\n",
              "    .dataframe thead th {\n",
              "        text-align: right;\n",
              "    }\n",
              "</style>\n",
              "<table border=\"1\" class=\"dataframe\">\n",
              "  <thead>\n",
              "    <tr style=\"text-align: right;\">\n",
              "      <th></th>\n",
              "      <th>movie_title</th>\n",
              "      <th>production_budget</th>\n",
              "      <th>worldwide_gross</th>\n",
              "      <th>title_year</th>\n",
              "      <th>aspect_ratio</th>\n",
              "      <th>duration</th>\n",
              "      <th>duration.1</th>\n",
              "      <th>cast_total_facebook_likes</th>\n",
              "      <th>budget</th>\n",
              "      <th>imdb_score</th>\n",
              "      <th>gross</th>\n",
              "    </tr>\n",
              "  </thead>\n",
              "  <tbody>\n",
              "    <tr>\n",
              "      <th>False</th>\n",
              "      <td>NaN</td>\n",
              "      <td>NaN</td>\n",
              "      <td>281</td>\n",
              "      <td>NaN</td>\n",
              "      <td>NaN</td>\n",
              "      <td>NaN</td>\n",
              "      <td>NaN</td>\n",
              "      <td>27</td>\n",
              "      <td>NaN</td>\n",
              "      <td>NaN</td>\n",
              "      <td>NaN</td>\n",
              "    </tr>\n",
              "    <tr>\n",
              "      <th>True</th>\n",
              "      <td>4385.0</td>\n",
              "      <td>4385.0</td>\n",
              "      <td>4104</td>\n",
              "      <td>4385.0</td>\n",
              "      <td>4385.0</td>\n",
              "      <td>4385.0</td>\n",
              "      <td>4385.0</td>\n",
              "      <td>4358</td>\n",
              "      <td>4385.0</td>\n",
              "      <td>4385.0</td>\n",
              "      <td>4385.0</td>\n",
              "    </tr>\n",
              "  </tbody>\n",
              "</table>\n",
              "</div>"
            ],
            "text/plain": [
              "       movie_title  production_budget  ...  imdb_score   gross\n",
              "False          NaN                NaN  ...         NaN     NaN\n",
              "True        4385.0             4385.0  ...      4385.0  4385.0\n",
              "\n",
              "[2 rows x 11 columns]"
            ]
          },
          "metadata": {
            "tags": []
          },
          "execution_count": 235
        }
      ]
    },
    {
      "cell_type": "code",
      "metadata": {
        "id": "fExWkGdB5XWd",
        "colab_type": "code",
        "colab": {}
      },
      "source": [
        "available = ((movies_v2 != 0) & (movies_v2.notnull()))"
      ],
      "execution_count": 0,
      "outputs": []
    },
    {
      "cell_type": "code",
      "metadata": {
        "id": "4I3mclaH5yZd",
        "colab_type": "code",
        "colab": {
          "base_uri": "https://localhost:8080/",
          "height": 419
        },
        "outputId": "a900ad4f-544b-4456-c5e4-d9b1a4bfd468"
      },
      "source": [
        "available"
      ],
      "execution_count": 237,
      "outputs": [
        {
          "output_type": "execute_result",
          "data": {
            "text/html": [
              "<div>\n",
              "<style scoped>\n",
              "    .dataframe tbody tr th:only-of-type {\n",
              "        vertical-align: middle;\n",
              "    }\n",
              "\n",
              "    .dataframe tbody tr th {\n",
              "        vertical-align: top;\n",
              "    }\n",
              "\n",
              "    .dataframe thead th {\n",
              "        text-align: right;\n",
              "    }\n",
              "</style>\n",
              "<table border=\"1\" class=\"dataframe\">\n",
              "  <thead>\n",
              "    <tr style=\"text-align: right;\">\n",
              "      <th></th>\n",
              "      <th>movie_title</th>\n",
              "      <th>production_budget</th>\n",
              "      <th>worldwide_gross</th>\n",
              "      <th>title_year</th>\n",
              "      <th>aspect_ratio</th>\n",
              "      <th>duration</th>\n",
              "      <th>duration.1</th>\n",
              "      <th>cast_total_facebook_likes</th>\n",
              "      <th>budget</th>\n",
              "      <th>imdb_score</th>\n",
              "      <th>gross</th>\n",
              "    </tr>\n",
              "  </thead>\n",
              "  <tbody>\n",
              "    <tr>\n",
              "      <th>0</th>\n",
              "      <td>True</td>\n",
              "      <td>True</td>\n",
              "      <td>True</td>\n",
              "      <td>True</td>\n",
              "      <td>True</td>\n",
              "      <td>True</td>\n",
              "      <td>True</td>\n",
              "      <td>True</td>\n",
              "      <td>True</td>\n",
              "      <td>True</td>\n",
              "      <td>True</td>\n",
              "    </tr>\n",
              "    <tr>\n",
              "      <th>1</th>\n",
              "      <td>True</td>\n",
              "      <td>True</td>\n",
              "      <td>True</td>\n",
              "      <td>False</td>\n",
              "      <td>False</td>\n",
              "      <td>False</td>\n",
              "      <td>False</td>\n",
              "      <td>True</td>\n",
              "      <td>False</td>\n",
              "      <td>True</td>\n",
              "      <td>False</td>\n",
              "    </tr>\n",
              "    <tr>\n",
              "      <th>2</th>\n",
              "      <td>True</td>\n",
              "      <td>True</td>\n",
              "      <td>True</td>\n",
              "      <td>True</td>\n",
              "      <td>True</td>\n",
              "      <td>True</td>\n",
              "      <td>True</td>\n",
              "      <td>True</td>\n",
              "      <td>True</td>\n",
              "      <td>True</td>\n",
              "      <td>True</td>\n",
              "    </tr>\n",
              "    <tr>\n",
              "      <th>3</th>\n",
              "      <td>True</td>\n",
              "      <td>True</td>\n",
              "      <td>True</td>\n",
              "      <td>True</td>\n",
              "      <td>True</td>\n",
              "      <td>True</td>\n",
              "      <td>True</td>\n",
              "      <td>True</td>\n",
              "      <td>True</td>\n",
              "      <td>True</td>\n",
              "      <td>True</td>\n",
              "    </tr>\n",
              "    <tr>\n",
              "      <th>4</th>\n",
              "      <td>True</td>\n",
              "      <td>True</td>\n",
              "      <td>True</td>\n",
              "      <td>True</td>\n",
              "      <td>True</td>\n",
              "      <td>True</td>\n",
              "      <td>True</td>\n",
              "      <td>True</td>\n",
              "      <td>True</td>\n",
              "      <td>True</td>\n",
              "      <td>True</td>\n",
              "    </tr>\n",
              "    <tr>\n",
              "      <th>...</th>\n",
              "      <td>...</td>\n",
              "      <td>...</td>\n",
              "      <td>...</td>\n",
              "      <td>...</td>\n",
              "      <td>...</td>\n",
              "      <td>...</td>\n",
              "      <td>...</td>\n",
              "      <td>...</td>\n",
              "      <td>...</td>\n",
              "      <td>...</td>\n",
              "      <td>...</td>\n",
              "    </tr>\n",
              "    <tr>\n",
              "      <th>4380</th>\n",
              "      <td>True</td>\n",
              "      <td>True</td>\n",
              "      <td>True</td>\n",
              "      <td>True</td>\n",
              "      <td>False</td>\n",
              "      <td>True</td>\n",
              "      <td>True</td>\n",
              "      <td>True</td>\n",
              "      <td>True</td>\n",
              "      <td>True</td>\n",
              "      <td>False</td>\n",
              "    </tr>\n",
              "    <tr>\n",
              "      <th>4381</th>\n",
              "      <td>True</td>\n",
              "      <td>True</td>\n",
              "      <td>False</td>\n",
              "      <td>True</td>\n",
              "      <td>False</td>\n",
              "      <td>True</td>\n",
              "      <td>True</td>\n",
              "      <td>True</td>\n",
              "      <td>False</td>\n",
              "      <td>True</td>\n",
              "      <td>False</td>\n",
              "    </tr>\n",
              "    <tr>\n",
              "      <th>4382</th>\n",
              "      <td>True</td>\n",
              "      <td>True</td>\n",
              "      <td>True</td>\n",
              "      <td>True</td>\n",
              "      <td>True</td>\n",
              "      <td>True</td>\n",
              "      <td>True</td>\n",
              "      <td>True</td>\n",
              "      <td>False</td>\n",
              "      <td>True</td>\n",
              "      <td>True</td>\n",
              "    </tr>\n",
              "    <tr>\n",
              "      <th>4383</th>\n",
              "      <td>True</td>\n",
              "      <td>True</td>\n",
              "      <td>False</td>\n",
              "      <td>True</td>\n",
              "      <td>False</td>\n",
              "      <td>True</td>\n",
              "      <td>True</td>\n",
              "      <td>False</td>\n",
              "      <td>True</td>\n",
              "      <td>True</td>\n",
              "      <td>False</td>\n",
              "    </tr>\n",
              "    <tr>\n",
              "      <th>4384</th>\n",
              "      <td>True</td>\n",
              "      <td>True</td>\n",
              "      <td>True</td>\n",
              "      <td>True</td>\n",
              "      <td>True</td>\n",
              "      <td>True</td>\n",
              "      <td>True</td>\n",
              "      <td>True</td>\n",
              "      <td>True</td>\n",
              "      <td>True</td>\n",
              "      <td>True</td>\n",
              "    </tr>\n",
              "  </tbody>\n",
              "</table>\n",
              "<p>4385 rows × 11 columns</p>\n",
              "</div>"
            ],
            "text/plain": [
              "      movie_title  production_budget  ...  imdb_score  gross\n",
              "0            True               True  ...        True   True\n",
              "1            True               True  ...        True  False\n",
              "2            True               True  ...        True   True\n",
              "3            True               True  ...        True   True\n",
              "4            True               True  ...        True   True\n",
              "...           ...                ...  ...         ...    ...\n",
              "4380         True               True  ...        True  False\n",
              "4381         True               True  ...        True  False\n",
              "4382         True               True  ...        True   True\n",
              "4383         True               True  ...        True  False\n",
              "4384         True               True  ...        True   True\n",
              "\n",
              "[4385 rows x 11 columns]"
            ]
          },
          "metadata": {
            "tags": []
          },
          "execution_count": 237
        }
      ]
    },
    {
      "cell_type": "code",
      "metadata": {
        "id": "FE-0Ukv-6MBZ",
        "colab_type": "code",
        "colab": {
          "base_uri": "https://localhost:8080/",
          "height": 68
        },
        "outputId": "8a856c1b-1d47-4bcd-f60c-e761c6125132"
      },
      "source": [
        "# Revisa las columnas en cada una de los registros o líneas si hay valores faltantes\n",
        "available.all(axis=1).value_counts()\n",
        "\n",
        "# Con los que obtenemos 977 líneas con valores falsos"
      ],
      "execution_count": 238,
      "outputs": [
        {
          "output_type": "execute_result",
          "data": {
            "text/plain": [
              "True     3408\n",
              "False     977\n",
              "dtype: int64"
            ]
          },
          "metadata": {
            "tags": []
          },
          "execution_count": 238
        }
      ]
    },
    {
      "cell_type": "markdown",
      "metadata": {
        "id": "uYG0cF8r65gU",
        "colab_type": "text"
      },
      "source": [
        "> No podemos entrenar nuestro algoritmo con datos cuya variable objetivo no esta definida o sea nula (valor falso). Eliminemos esas líneas."
      ]
    },
    {
      "cell_type": "code",
      "metadata": {
        "id": "lGzk9xOg65OA",
        "colab_type": "code",
        "colab": {
          "base_uri": "https://localhost:8080/",
          "height": 221
        },
        "outputId": "eb19d13d-cd64-4f0c-ce62-e38e3737a908"
      },
      "source": [
        "# Obtenemos los datos disponibles en la variable objetivo (worldwide_gross)\n",
        "mask_completes = available['worldwide_gross']\n",
        "mask_completes"
      ],
      "execution_count": 239,
      "outputs": [
        {
          "output_type": "execute_result",
          "data": {
            "text/plain": [
              "0        True\n",
              "1        True\n",
              "2        True\n",
              "3        True\n",
              "4        True\n",
              "        ...  \n",
              "4380     True\n",
              "4381    False\n",
              "4382     True\n",
              "4383    False\n",
              "4384     True\n",
              "Name: worldwide_gross, Length: 4385, dtype: bool"
            ]
          },
          "metadata": {
            "tags": []
          },
          "execution_count": 239
        }
      ]
    },
    {
      "cell_type": "code",
      "metadata": {
        "id": "m-v1zYG-7UBY",
        "colab_type": "code",
        "colab": {}
      },
      "source": [
        "movies_v2 = movies_v2[mask_completes]"
      ],
      "execution_count": 0,
      "outputs": []
    },
    {
      "cell_type": "code",
      "metadata": {
        "id": "dPB4r7eD78GZ",
        "colab_type": "code",
        "colab": {
          "base_uri": "https://localhost:8080/",
          "height": 51
        },
        "outputId": "e5a1993c-6ad5-40a8-ccac-b45855fa2acf"
      },
      "source": [
        "# Ya con esto nuestra variable objetivo está completamente limpia\n",
        "((movies_v2 != 0) & (movies_v2.notnull())).worldwide_gross.value_counts()"
      ],
      "execution_count": 241,
      "outputs": [
        {
          "output_type": "execute_result",
          "data": {
            "text/plain": [
              "True    4104\n",
              "Name: worldwide_gross, dtype: int64"
            ]
          },
          "metadata": {
            "tags": []
          },
          "execution_count": 241
        }
      ]
    },
    {
      "cell_type": "markdown",
      "metadata": {
        "id": "GmlgZRAh8gwa",
        "colab_type": "text"
      },
      "source": [
        "> En el caso de las features que no son la variable objetivo una mejor solución para lidiar con los datos faltantes es **remplazar estos datos por otros que sean manejables** y no afecten la calidad de las predicciones. \n",
        "\n",
        "* _La estrategia más comun es utilizar la media de todos los ejemplos para la feature dada._ Usando sklearn con la estrategia `strategy='mean'`"
      ]
    },
    {
      "cell_type": "code",
      "metadata": {
        "id": "7F78dcBf8Ma7",
        "colab_type": "code",
        "colab": {}
      },
      "source": [
        "from sklearn.impute import SimpleImputer\n",
        "imputer = SimpleImputer(missing_values=np.nan, strategy='mean')"
      ],
      "execution_count": 0,
      "outputs": []
    },
    {
      "cell_type": "code",
      "metadata": {
        "id": "QphsSfVo85SX",
        "colab_type": "code",
        "colab": {
          "base_uri": "https://localhost:8080/",
          "height": 592
        },
        "outputId": "1a8a9225-806d-48a2-bdbf-fa1c38894a67"
      },
      "source": [
        "movies_v2"
      ],
      "execution_count": 243,
      "outputs": [
        {
          "output_type": "execute_result",
          "data": {
            "text/html": [
              "<div>\n",
              "<style scoped>\n",
              "    .dataframe tbody tr th:only-of-type {\n",
              "        vertical-align: middle;\n",
              "    }\n",
              "\n",
              "    .dataframe tbody tr th {\n",
              "        vertical-align: top;\n",
              "    }\n",
              "\n",
              "    .dataframe thead th {\n",
              "        text-align: right;\n",
              "    }\n",
              "</style>\n",
              "<table border=\"1\" class=\"dataframe\">\n",
              "  <thead>\n",
              "    <tr style=\"text-align: right;\">\n",
              "      <th></th>\n",
              "      <th>movie_title</th>\n",
              "      <th>production_budget</th>\n",
              "      <th>worldwide_gross</th>\n",
              "      <th>title_year</th>\n",
              "      <th>aspect_ratio</th>\n",
              "      <th>duration</th>\n",
              "      <th>duration.1</th>\n",
              "      <th>cast_total_facebook_likes</th>\n",
              "      <th>budget</th>\n",
              "      <th>imdb_score</th>\n",
              "      <th>gross</th>\n",
              "    </tr>\n",
              "  </thead>\n",
              "  <tbody>\n",
              "    <tr>\n",
              "      <th>0</th>\n",
              "      <td>Avatar</td>\n",
              "      <td>425000000</td>\n",
              "      <td>2783918982</td>\n",
              "      <td>2009.0</td>\n",
              "      <td>1.78</td>\n",
              "      <td>178.0</td>\n",
              "      <td>178.0</td>\n",
              "      <td>4834</td>\n",
              "      <td>237000000.0</td>\n",
              "      <td>7.9</td>\n",
              "      <td>760505847.0</td>\n",
              "    </tr>\n",
              "    <tr>\n",
              "      <th>1</th>\n",
              "      <td>Star Wars: Episode VII - The Force Awakens    ...</td>\n",
              "      <td>306000000</td>\n",
              "      <td>2058662225</td>\n",
              "      <td>NaN</td>\n",
              "      <td>NaN</td>\n",
              "      <td>NaN</td>\n",
              "      <td>NaN</td>\n",
              "      <td>143</td>\n",
              "      <td>NaN</td>\n",
              "      <td>7.1</td>\n",
              "      <td>NaN</td>\n",
              "    </tr>\n",
              "    <tr>\n",
              "      <th>2</th>\n",
              "      <td>Pirates of the Caribbean: At World's End</td>\n",
              "      <td>300000000</td>\n",
              "      <td>963420425</td>\n",
              "      <td>2007.0</td>\n",
              "      <td>2.35</td>\n",
              "      <td>169.0</td>\n",
              "      <td>169.0</td>\n",
              "      <td>48350</td>\n",
              "      <td>300000000.0</td>\n",
              "      <td>7.1</td>\n",
              "      <td>309404152.0</td>\n",
              "    </tr>\n",
              "    <tr>\n",
              "      <th>3</th>\n",
              "      <td>Spectre</td>\n",
              "      <td>300000000</td>\n",
              "      <td>879620923</td>\n",
              "      <td>2015.0</td>\n",
              "      <td>2.35</td>\n",
              "      <td>148.0</td>\n",
              "      <td>148.0</td>\n",
              "      <td>11700</td>\n",
              "      <td>245000000.0</td>\n",
              "      <td>6.8</td>\n",
              "      <td>200074175.0</td>\n",
              "    </tr>\n",
              "    <tr>\n",
              "      <th>4</th>\n",
              "      <td>The Dark Knight Rises</td>\n",
              "      <td>275000000</td>\n",
              "      <td>1084439099</td>\n",
              "      <td>2012.0</td>\n",
              "      <td>2.35</td>\n",
              "      <td>164.0</td>\n",
              "      <td>164.0</td>\n",
              "      <td>106759</td>\n",
              "      <td>250000000.0</td>\n",
              "      <td>8.5</td>\n",
              "      <td>448130642.0</td>\n",
              "    </tr>\n",
              "    <tr>\n",
              "      <th>...</th>\n",
              "      <td>...</td>\n",
              "      <td>...</td>\n",
              "      <td>...</td>\n",
              "      <td>...</td>\n",
              "      <td>...</td>\n",
              "      <td>...</td>\n",
              "      <td>...</td>\n",
              "      <td>...</td>\n",
              "      <td>...</td>\n",
              "      <td>...</td>\n",
              "      <td>...</td>\n",
              "    </tr>\n",
              "    <tr>\n",
              "      <th>4378</th>\n",
              "      <td>Primer</td>\n",
              "      <td>7000</td>\n",
              "      <td>841926</td>\n",
              "      <td>2004.0</td>\n",
              "      <td>1.85</td>\n",
              "      <td>77.0</td>\n",
              "      <td>77.0</td>\n",
              "      <td>368</td>\n",
              "      <td>7000.0</td>\n",
              "      <td>7.0</td>\n",
              "      <td>424760.0</td>\n",
              "    </tr>\n",
              "    <tr>\n",
              "      <th>4379</th>\n",
              "      <td>Cavite</td>\n",
              "      <td>7000</td>\n",
              "      <td>71644</td>\n",
              "      <td>2005.0</td>\n",
              "      <td>NaN</td>\n",
              "      <td>80.0</td>\n",
              "      <td>80.0</td>\n",
              "      <td>0</td>\n",
              "      <td>7000.0</td>\n",
              "      <td>6.3</td>\n",
              "      <td>70071.0</td>\n",
              "    </tr>\n",
              "    <tr>\n",
              "      <th>4380</th>\n",
              "      <td>The Mongol King</td>\n",
              "      <td>7000</td>\n",
              "      <td>900</td>\n",
              "      <td>2005.0</td>\n",
              "      <td>NaN</td>\n",
              "      <td>84.0</td>\n",
              "      <td>84.0</td>\n",
              "      <td>93</td>\n",
              "      <td>3250.0</td>\n",
              "      <td>7.8</td>\n",
              "      <td>NaN</td>\n",
              "    </tr>\n",
              "    <tr>\n",
              "      <th>4382</th>\n",
              "      <td>Shanghai Calling</td>\n",
              "      <td>3967</td>\n",
              "      <td>10443</td>\n",
              "      <td>2012.0</td>\n",
              "      <td>2.35</td>\n",
              "      <td>100.0</td>\n",
              "      <td>100.0</td>\n",
              "      <td>2386</td>\n",
              "      <td>NaN</td>\n",
              "      <td>6.3</td>\n",
              "      <td>10443.0</td>\n",
              "    </tr>\n",
              "    <tr>\n",
              "      <th>4384</th>\n",
              "      <td>My Date with Drew</td>\n",
              "      <td>1100</td>\n",
              "      <td>181041</td>\n",
              "      <td>2004.0</td>\n",
              "      <td>1.85</td>\n",
              "      <td>90.0</td>\n",
              "      <td>90.0</td>\n",
              "      <td>163</td>\n",
              "      <td>1100.0</td>\n",
              "      <td>6.6</td>\n",
              "      <td>85222.0</td>\n",
              "    </tr>\n",
              "  </tbody>\n",
              "</table>\n",
              "<p>4104 rows × 11 columns</p>\n",
              "</div>"
            ],
            "text/plain": [
              "                                            movie_title  ...        gross\n",
              "0                                               Avatar   ...  760505847.0\n",
              "1     Star Wars: Episode VII - The Force Awakens    ...  ...          NaN\n",
              "2             Pirates of the Caribbean: At World's End   ...  309404152.0\n",
              "3                                              Spectre   ...  200074175.0\n",
              "4                                The Dark Knight Rises   ...  448130642.0\n",
              "...                                                 ...  ...          ...\n",
              "4378                                            Primer   ...     424760.0\n",
              "4379                                            Cavite   ...      70071.0\n",
              "4380                                   The Mongol King   ...          NaN\n",
              "4382                                  Shanghai Calling   ...      10443.0\n",
              "4384                                 My Date with Drew   ...      85222.0\n",
              "\n",
              "[4104 rows x 11 columns]"
            ]
          },
          "metadata": {
            "tags": []
          },
          "execution_count": 243
        }
      ]
    },
    {
      "cell_type": "code",
      "metadata": {
        "id": "YwwUr3xu-38Q",
        "colab_type": "code",
        "colab": {}
      },
      "source": [
        "# Eliminamos las columnas de movie_title y el duplicado de duration\n",
        "movies_v2 = movies_v2.drop('movie_title', axis=1)"
      ],
      "execution_count": 0,
      "outputs": []
    },
    {
      "cell_type": "code",
      "metadata": {
        "id": "i_lRKX-j_98j",
        "colab_type": "code",
        "colab": {}
      },
      "source": [
        "movies_v2 = movies_v2.drop('duration.1', axis=1)"
      ],
      "execution_count": 0,
      "outputs": []
    },
    {
      "cell_type": "code",
      "metadata": {
        "id": "0Zra1ChgAAh8",
        "colab_type": "code",
        "colab": {
          "base_uri": "https://localhost:8080/",
          "height": 204
        },
        "outputId": "5441a259-a5b9-4f0e-e42d-5dcb6c835157"
      },
      "source": [
        "movies_v2.head()"
      ],
      "execution_count": 246,
      "outputs": [
        {
          "output_type": "execute_result",
          "data": {
            "text/html": [
              "<div>\n",
              "<style scoped>\n",
              "    .dataframe tbody tr th:only-of-type {\n",
              "        vertical-align: middle;\n",
              "    }\n",
              "\n",
              "    .dataframe tbody tr th {\n",
              "        vertical-align: top;\n",
              "    }\n",
              "\n",
              "    .dataframe thead th {\n",
              "        text-align: right;\n",
              "    }\n",
              "</style>\n",
              "<table border=\"1\" class=\"dataframe\">\n",
              "  <thead>\n",
              "    <tr style=\"text-align: right;\">\n",
              "      <th></th>\n",
              "      <th>production_budget</th>\n",
              "      <th>worldwide_gross</th>\n",
              "      <th>title_year</th>\n",
              "      <th>aspect_ratio</th>\n",
              "      <th>duration</th>\n",
              "      <th>cast_total_facebook_likes</th>\n",
              "      <th>budget</th>\n",
              "      <th>imdb_score</th>\n",
              "      <th>gross</th>\n",
              "    </tr>\n",
              "  </thead>\n",
              "  <tbody>\n",
              "    <tr>\n",
              "      <th>0</th>\n",
              "      <td>425000000</td>\n",
              "      <td>2783918982</td>\n",
              "      <td>2009.0</td>\n",
              "      <td>1.78</td>\n",
              "      <td>178.0</td>\n",
              "      <td>4834</td>\n",
              "      <td>237000000.0</td>\n",
              "      <td>7.9</td>\n",
              "      <td>760505847.0</td>\n",
              "    </tr>\n",
              "    <tr>\n",
              "      <th>1</th>\n",
              "      <td>306000000</td>\n",
              "      <td>2058662225</td>\n",
              "      <td>NaN</td>\n",
              "      <td>NaN</td>\n",
              "      <td>NaN</td>\n",
              "      <td>143</td>\n",
              "      <td>NaN</td>\n",
              "      <td>7.1</td>\n",
              "      <td>NaN</td>\n",
              "    </tr>\n",
              "    <tr>\n",
              "      <th>2</th>\n",
              "      <td>300000000</td>\n",
              "      <td>963420425</td>\n",
              "      <td>2007.0</td>\n",
              "      <td>2.35</td>\n",
              "      <td>169.0</td>\n",
              "      <td>48350</td>\n",
              "      <td>300000000.0</td>\n",
              "      <td>7.1</td>\n",
              "      <td>309404152.0</td>\n",
              "    </tr>\n",
              "    <tr>\n",
              "      <th>3</th>\n",
              "      <td>300000000</td>\n",
              "      <td>879620923</td>\n",
              "      <td>2015.0</td>\n",
              "      <td>2.35</td>\n",
              "      <td>148.0</td>\n",
              "      <td>11700</td>\n",
              "      <td>245000000.0</td>\n",
              "      <td>6.8</td>\n",
              "      <td>200074175.0</td>\n",
              "    </tr>\n",
              "    <tr>\n",
              "      <th>4</th>\n",
              "      <td>275000000</td>\n",
              "      <td>1084439099</td>\n",
              "      <td>2012.0</td>\n",
              "      <td>2.35</td>\n",
              "      <td>164.0</td>\n",
              "      <td>106759</td>\n",
              "      <td>250000000.0</td>\n",
              "      <td>8.5</td>\n",
              "      <td>448130642.0</td>\n",
              "    </tr>\n",
              "  </tbody>\n",
              "</table>\n",
              "</div>"
            ],
            "text/plain": [
              "   production_budget  worldwide_gross  ...  imdb_score        gross\n",
              "0          425000000       2783918982  ...         7.9  760505847.0\n",
              "1          306000000       2058662225  ...         7.1          NaN\n",
              "2          300000000        963420425  ...         7.1  309404152.0\n",
              "3          300000000        879620923  ...         6.8  200074175.0\n",
              "4          275000000       1084439099  ...         8.5  448130642.0\n",
              "\n",
              "[5 rows x 9 columns]"
            ]
          },
          "metadata": {
            "tags": []
          },
          "execution_count": 246
        }
      ]
    },
    {
      "cell_type": "code",
      "metadata": {
        "id": "1CPdO0qcAdNd",
        "colab_type": "code",
        "colab": {}
      },
      "source": [
        "values = imputer.fit_transform(movies_v2)"
      ],
      "execution_count": 0,
      "outputs": []
    },
    {
      "cell_type": "code",
      "metadata": {
        "id": "bvh3tzdfCWST",
        "colab_type": "code",
        "colab": {
          "base_uri": "https://localhost:8080/",
          "height": 238
        },
        "outputId": "42c13c09-e148-407f-85f6-187306b84377"
      },
      "source": [
        "values"
      ],
      "execution_count": 250,
      "outputs": [
        {
          "output_type": "execute_result",
          "data": {
            "text/plain": [
              "array([[4.25000000e+08, 2.78391898e+09, 2.00900000e+03, ...,\n",
              "        2.37000000e+08, 7.90000000e+00, 7.60505847e+08],\n",
              "       [3.06000000e+08, 2.05866222e+09, 2.00213073e+03, ...,\n",
              "        4.04553863e+07, 7.10000000e+00, 4.83193329e+07],\n",
              "       [3.00000000e+08, 9.63420425e+08, 2.00700000e+03, ...,\n",
              "        3.00000000e+08, 7.10000000e+00, 3.09404152e+08],\n",
              "       ...,\n",
              "       [7.00000000e+03, 9.00000000e+02, 2.00500000e+03, ...,\n",
              "        3.25000000e+03, 7.80000000e+00, 4.83193329e+07],\n",
              "       [3.96700000e+03, 1.04430000e+04, 2.01200000e+03, ...,\n",
              "        4.04553863e+07, 6.30000000e+00, 1.04430000e+04],\n",
              "       [1.10000000e+03, 1.81041000e+05, 2.00400000e+03, ...,\n",
              "        1.10000000e+03, 6.60000000e+00, 8.52220000e+04]])"
            ]
          },
          "metadata": {
            "tags": []
          },
          "execution_count": 250
        }
      ]
    },
    {
      "cell_type": "code",
      "metadata": {
        "id": "SK27ZZdkCjrD",
        "colab_type": "code",
        "colab": {
          "base_uri": "https://localhost:8080/",
          "height": 238
        },
        "outputId": "69d37d06-cbb9-4c3f-8ec9-40fc95f6b60c"
      },
      "source": [
        "movies_v2.values"
      ],
      "execution_count": 251,
      "outputs": [
        {
          "output_type": "execute_result",
          "data": {
            "text/plain": [
              "array([[4.25000000e+08, 2.78391898e+09, 2.00900000e+03, ...,\n",
              "        2.37000000e+08, 7.90000000e+00, 7.60505847e+08],\n",
              "       [3.06000000e+08, 2.05866222e+09,            nan, ...,\n",
              "                   nan, 7.10000000e+00,            nan],\n",
              "       [3.00000000e+08, 9.63420425e+08, 2.00700000e+03, ...,\n",
              "        3.00000000e+08, 7.10000000e+00, 3.09404152e+08],\n",
              "       ...,\n",
              "       [7.00000000e+03, 9.00000000e+02, 2.00500000e+03, ...,\n",
              "        3.25000000e+03, 7.80000000e+00,            nan],\n",
              "       [3.96700000e+03, 1.04430000e+04, 2.01200000e+03, ...,\n",
              "                   nan, 6.30000000e+00, 1.04430000e+04],\n",
              "       [1.10000000e+03, 1.81041000e+05, 2.00400000e+03, ...,\n",
              "        1.10000000e+03, 6.60000000e+00, 8.52220000e+04]])"
            ]
          },
          "metadata": {
            "tags": []
          },
          "execution_count": 251
        }
      ]
    },
    {
      "cell_type": "code",
      "metadata": {
        "id": "W16X7RO2CnMq",
        "colab_type": "code",
        "colab": {}
      },
      "source": [
        "# Creamos el dataframe para los nuevos datos asignados en la media\n",
        "X = pd.DataFrame(values)"
      ],
      "execution_count": 0,
      "outputs": []
    },
    {
      "cell_type": "code",
      "metadata": {
        "id": "MKtFti_NC6HC",
        "colab_type": "code",
        "colab": {}
      },
      "source": [
        "X.columns = movies_v2.columns"
      ],
      "execution_count": 0,
      "outputs": []
    },
    {
      "cell_type": "code",
      "metadata": {
        "id": "n7YkdQHzC-Lo",
        "colab_type": "code",
        "colab": {}
      },
      "source": [
        "X.index = movies_v2.index"
      ],
      "execution_count": 0,
      "outputs": []
    },
    {
      "cell_type": "code",
      "metadata": {
        "id": "IR9wXZVLDBdp",
        "colab_type": "code",
        "colab": {
          "base_uri": "https://localhost:8080/",
          "height": 204
        },
        "outputId": "f27b7cee-2b44-4a9c-d348-afa13951bb21"
      },
      "source": [
        "# Estos ya sería los datos limpios que se tendrían para trabajar en la siguiente etapa\n",
        "X.head()"
      ],
      "execution_count": 255,
      "outputs": [
        {
          "output_type": "execute_result",
          "data": {
            "text/html": [
              "<div>\n",
              "<style scoped>\n",
              "    .dataframe tbody tr th:only-of-type {\n",
              "        vertical-align: middle;\n",
              "    }\n",
              "\n",
              "    .dataframe tbody tr th {\n",
              "        vertical-align: top;\n",
              "    }\n",
              "\n",
              "    .dataframe thead th {\n",
              "        text-align: right;\n",
              "    }\n",
              "</style>\n",
              "<table border=\"1\" class=\"dataframe\">\n",
              "  <thead>\n",
              "    <tr style=\"text-align: right;\">\n",
              "      <th></th>\n",
              "      <th>production_budget</th>\n",
              "      <th>worldwide_gross</th>\n",
              "      <th>title_year</th>\n",
              "      <th>aspect_ratio</th>\n",
              "      <th>duration</th>\n",
              "      <th>cast_total_facebook_likes</th>\n",
              "      <th>budget</th>\n",
              "      <th>imdb_score</th>\n",
              "      <th>gross</th>\n",
              "    </tr>\n",
              "  </thead>\n",
              "  <tbody>\n",
              "    <tr>\n",
              "      <th>0</th>\n",
              "      <td>425000000.0</td>\n",
              "      <td>2.783919e+09</td>\n",
              "      <td>2009.000000</td>\n",
              "      <td>1.780000</td>\n",
              "      <td>178.000000</td>\n",
              "      <td>4834.0</td>\n",
              "      <td>2.370000e+08</td>\n",
              "      <td>7.9</td>\n",
              "      <td>7.605058e+08</td>\n",
              "    </tr>\n",
              "    <tr>\n",
              "      <th>1</th>\n",
              "      <td>306000000.0</td>\n",
              "      <td>2.058662e+09</td>\n",
              "      <td>2002.130733</td>\n",
              "      <td>2.126976</td>\n",
              "      <td>108.577186</td>\n",
              "      <td>143.0</td>\n",
              "      <td>4.045539e+07</td>\n",
              "      <td>7.1</td>\n",
              "      <td>4.831933e+07</td>\n",
              "    </tr>\n",
              "    <tr>\n",
              "      <th>2</th>\n",
              "      <td>300000000.0</td>\n",
              "      <td>9.634204e+08</td>\n",
              "      <td>2007.000000</td>\n",
              "      <td>2.350000</td>\n",
              "      <td>169.000000</td>\n",
              "      <td>48350.0</td>\n",
              "      <td>3.000000e+08</td>\n",
              "      <td>7.1</td>\n",
              "      <td>3.094042e+08</td>\n",
              "    </tr>\n",
              "    <tr>\n",
              "      <th>3</th>\n",
              "      <td>300000000.0</td>\n",
              "      <td>8.796209e+08</td>\n",
              "      <td>2015.000000</td>\n",
              "      <td>2.350000</td>\n",
              "      <td>148.000000</td>\n",
              "      <td>11700.0</td>\n",
              "      <td>2.450000e+08</td>\n",
              "      <td>6.8</td>\n",
              "      <td>2.000742e+08</td>\n",
              "    </tr>\n",
              "    <tr>\n",
              "      <th>4</th>\n",
              "      <td>275000000.0</td>\n",
              "      <td>1.084439e+09</td>\n",
              "      <td>2012.000000</td>\n",
              "      <td>2.350000</td>\n",
              "      <td>164.000000</td>\n",
              "      <td>106759.0</td>\n",
              "      <td>2.500000e+08</td>\n",
              "      <td>8.5</td>\n",
              "      <td>4.481306e+08</td>\n",
              "    </tr>\n",
              "  </tbody>\n",
              "</table>\n",
              "</div>"
            ],
            "text/plain": [
              "   production_budget  worldwide_gross  ...  imdb_score         gross\n",
              "0        425000000.0     2.783919e+09  ...         7.9  7.605058e+08\n",
              "1        306000000.0     2.058662e+09  ...         7.1  4.831933e+07\n",
              "2        300000000.0     9.634204e+08  ...         7.1  3.094042e+08\n",
              "3        300000000.0     8.796209e+08  ...         6.8  2.000742e+08\n",
              "4        275000000.0     1.084439e+09  ...         8.5  4.481306e+08\n",
              "\n",
              "[5 rows x 9 columns]"
            ]
          },
          "metadata": {
            "tags": []
          },
          "execution_count": 255
        }
      ]
    },
    {
      "cell_type": "code",
      "metadata": {
        "id": "Qnx2Qze3DEYw",
        "colab_type": "code",
        "colab": {}
      },
      "source": [
        "# Guardamos los resultados obtenidos, recomendado colocar index=False\n",
        "X.to_csv('drive/My Drive/Colab Notebooks/datasets/machine_learning_python/intermediate_results/X.csv', index=False)"
      ],
      "execution_count": 0,
      "outputs": []
    }
  ]
}