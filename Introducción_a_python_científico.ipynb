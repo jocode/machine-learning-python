{
  "nbformat": 4,
  "nbformat_minor": 0,
  "metadata": {
    "colab": {
      "name": "Introducción a python científico.ipynb",
      "provenance": [],
      "authorship_tag": "ABX9TyP+UMaqzN0qzfnCp/Bb42XK"
    },
    "kernelspec": {
      "name": "python3",
      "display_name": "Python 3"
    }
  },
  "cells": [
    {
      "cell_type": "markdown",
      "metadata": {
        "id": "p_XejbFjBaJr",
        "colab_type": "text"
      },
      "source": [
        "# Crear Arrays\n",
        "\n",
        "\n"
      ]
    },
    {
      "cell_type": "code",
      "metadata": {
        "id": "MIjYL8mWBo1D",
        "colab_type": "code",
        "colab": {}
      },
      "source": [
        "# Importar la librería\n",
        "import numpy as np"
      ],
      "execution_count": 0,
      "outputs": []
    },
    {
      "cell_type": "code",
      "metadata": {
        "id": "Duv4l6deBso2",
        "colab_type": "code",
        "outputId": "3977c3b4-4def-43d3-cab5-65d64342ceab",
        "colab": {
          "base_uri": "https://localhost:8080/",
          "height": 34
        }
      },
      "source": [
        "a1 = np.array([1,2,3,4])    # Con una lista\n",
        "type(a1)"
      ],
      "execution_count": 3,
      "outputs": [
        {
          "output_type": "execute_result",
          "data": {
            "text/plain": [
              "numpy.ndarray"
            ]
          },
          "metadata": {
            "tags": []
          },
          "execution_count": 3
        }
      ]
    },
    {
      "cell_type": "code",
      "metadata": {
        "id": "52g4eGPZCUj7",
        "colab_type": "code",
        "outputId": "d82237ce-426a-4f83-f914-977046716615",
        "colab": {
          "base_uri": "https://localhost:8080/",
          "height": 34
        }
      },
      "source": [
        "a2 = np.arange(10)     # np.arange es un método similar a list\n",
        "a2"
      ],
      "execution_count": 4,
      "outputs": [
        {
          "output_type": "execute_result",
          "data": {
            "text/plain": [
              "array([0, 1, 2, 3, 4, 5, 6, 7, 8, 9])"
            ]
          },
          "metadata": {
            "tags": []
          },
          "execution_count": 4
        }
      ]
    },
    {
      "cell_type": "code",
      "metadata": {
        "id": "ETnd2enICnWn",
        "colab_type": "code",
        "colab": {}
      },
      "source": [
        "a3 = np.zeros((2,3))  # crear una listta de 2 dimensiones, pre-rellenada con zeros\n",
        "a4 = np.ones((2,3))   # Crear una lista de dos dimensiones, pre-rellenada con unos"
      ],
      "execution_count": 0,
      "outputs": []
    },
    {
      "cell_type": "code",
      "metadata": {
        "id": "-xSmhDZfDH5g",
        "colab_type": "code",
        "outputId": "6d617823-d655-488f-9ac4-d6971ba4d9ea",
        "colab": {
          "base_uri": "https://localhost:8080/",
          "height": 85
        }
      },
      "source": [
        "from IPython.display import display\n",
        "display(a3); display(a4);"
      ],
      "execution_count": 6,
      "outputs": [
        {
          "output_type": "display_data",
          "data": {
            "text/plain": [
              "array([[0., 0., 0.],\n",
              "       [0., 0., 0.]])"
            ]
          },
          "metadata": {
            "tags": []
          }
        },
        {
          "output_type": "display_data",
          "data": {
            "text/plain": [
              "array([[1., 1., 1.],\n",
              "       [1., 1., 1.]])"
            ]
          },
          "metadata": {
            "tags": []
          }
        }
      ]
    },
    {
      "cell_type": "markdown",
      "metadata": {
        "id": "75FTjNq6DnLR",
        "colab_type": "text"
      },
      "source": [
        "\n",
        "`np.linspace(a,b,n)` es una función que permite crear arrays de una dimensión, de largo n, y que contienen puntos entre a y b, distanciados de forma regular. La distancia entre cada punto sera de $(b-a)/(n-1)$.\n"
      ]
    },
    {
      "cell_type": "code",
      "metadata": {
        "id": "pl2icDgiFnP5",
        "colab_type": "code",
        "outputId": "67b7d92c-63e1-442a-e5a4-18b5a559a1f7",
        "colab": {
          "base_uri": "https://localhost:8080/",
          "height": 51
        }
      },
      "source": [
        "a5 = np.linspace(0,1,10)\n",
        "display(a5)"
      ],
      "execution_count": 7,
      "outputs": [
        {
          "output_type": "display_data",
          "data": {
            "text/plain": [
              "array([0.        , 0.11111111, 0.22222222, 0.33333333, 0.44444444,\n",
              "       0.55555556, 0.66666667, 0.77777778, 0.88888889, 1.        ])"
            ]
          },
          "metadata": {
            "tags": []
          }
        }
      ]
    },
    {
      "cell_type": "code",
      "metadata": {
        "id": "g0SjbCoUFz2T",
        "colab_type": "code",
        "outputId": "357d88e4-ffe6-42ba-8810-e820ffc28a5b",
        "colab": {
          "base_uri": "https://localhost:8080/",
          "height": 34
        }
      },
      "source": [
        "# Dtypes\n",
        "a5.dtype"
      ],
      "execution_count": 8,
      "outputs": [
        {
          "output_type": "execute_result",
          "data": {
            "text/plain": [
              "dtype('float64')"
            ]
          },
          "metadata": {
            "tags": []
          },
          "execution_count": 8
        }
      ]
    },
    {
      "cell_type": "markdown",
      "metadata": {
        "id": "mNlaWDBWCaYg",
        "colab_type": "text"
      },
      "source": [
        "# Dimensión de un Array"
      ]
    },
    {
      "cell_type": "code",
      "metadata": {
        "id": "HVgRjratCdVs",
        "colab_type": "code",
        "outputId": "4e58574e-b663-45ae-d41b-c6b08fd492a3",
        "colab": {
          "base_uri": "https://localhost:8080/",
          "height": 34
        }
      },
      "source": [
        "display(a1)"
      ],
      "execution_count": 9,
      "outputs": [
        {
          "output_type": "display_data",
          "data": {
            "text/plain": [
              "array([1, 2, 3, 4])"
            ]
          },
          "metadata": {
            "tags": []
          }
        }
      ]
    },
    {
      "cell_type": "code",
      "metadata": {
        "id": "1OKo3LciCi-r",
        "colab_type": "code",
        "outputId": "6f33a956-a7a5-4b87-8f16-4e9bd60a16cb",
        "colab": {
          "base_uri": "https://localhost:8080/",
          "height": 34
        }
      },
      "source": [
        "a1.shape"
      ],
      "execution_count": 10,
      "outputs": [
        {
          "output_type": "execute_result",
          "data": {
            "text/plain": [
              "(4,)"
            ]
          },
          "metadata": {
            "tags": []
          },
          "execution_count": 10
        }
      ]
    },
    {
      "cell_type": "code",
      "metadata": {
        "id": "O1jJvRxnQ-Wn",
        "colab_type": "code",
        "outputId": "b5973559-8e62-4c9b-b394-e385c1db4e46",
        "colab": {
          "base_uri": "https://localhost:8080/",
          "height": 51
        }
      },
      "source": [
        "display(a3)"
      ],
      "execution_count": 11,
      "outputs": [
        {
          "output_type": "display_data",
          "data": {
            "text/plain": [
              "array([[0., 0., 0.],\n",
              "       [0., 0., 0.]])"
            ]
          },
          "metadata": {
            "tags": []
          }
        }
      ]
    },
    {
      "cell_type": "code",
      "metadata": {
        "id": "7Wchnjt3RDaw",
        "colab_type": "code",
        "outputId": "2ef8c9c7-b107-4ccd-c92b-86903ea41de4",
        "colab": {
          "base_uri": "https://localhost:8080/",
          "height": 34
        }
      },
      "source": [
        "a3.shape"
      ],
      "execution_count": 12,
      "outputs": [
        {
          "output_type": "execute_result",
          "data": {
            "text/plain": [
              "(2, 3)"
            ]
          },
          "metadata": {
            "tags": []
          },
          "execution_count": 12
        }
      ]
    },
    {
      "cell_type": "code",
      "metadata": {
        "id": "1C8CT_fXRFdW",
        "colab_type": "code",
        "outputId": "cfed93cd-c892-4b84-be23-d407f2bb6d6c",
        "colab": {
          "base_uri": "https://localhost:8080/",
          "height": 51
        }
      },
      "source": [
        "a1D = np.array([1,2,3])\n",
        "a2D = np.array([[1,2,3]])\n",
        "display(a1D.shape)\n",
        "display(a2D.shape)"
      ],
      "execution_count": 13,
      "outputs": [
        {
          "output_type": "display_data",
          "data": {
            "text/plain": [
              "(3,)"
            ]
          },
          "metadata": {
            "tags": []
          }
        },
        {
          "output_type": "display_data",
          "data": {
            "text/plain": [
              "(1, 3)"
            ]
          },
          "metadata": {
            "tags": []
          }
        }
      ]
    },
    {
      "cell_type": "code",
      "metadata": {
        "id": "TOV8_83eRZef",
        "colab_type": "code",
        "outputId": "d2af4fc0-ba9e-49a7-cd68-3bbf3028da6c",
        "colab": {
          "base_uri": "https://localhost:8080/",
          "height": 34
        }
      },
      "source": [
        "# Son los dos arrays Iguales?\n",
        "np.array_equal(a1D, a2D)"
      ],
      "execution_count": 14,
      "outputs": [
        {
          "output_type": "execute_result",
          "data": {
            "text/plain": [
              "False"
            ]
          },
          "metadata": {
            "tags": []
          },
          "execution_count": 14
        }
      ]
    },
    {
      "cell_type": "code",
      "metadata": {
        "id": "InfK-InoRlrd",
        "colab_type": "code",
        "colab": {}
      },
      "source": [
        "# Reshaping\n",
        "new_dims = (1, a1D.shape[0])\n",
        "a = a1D.reshape(new_dims)"
      ],
      "execution_count": 0,
      "outputs": []
    },
    {
      "cell_type": "code",
      "metadata": {
        "id": "LVFXlV_yRyrZ",
        "colab_type": "code",
        "outputId": "f0d84222-60ee-40c1-b7f9-2ba2824bfee3",
        "colab": {
          "base_uri": "https://localhost:8080/",
          "height": 34
        }
      },
      "source": [
        "np.array_equal(a, a2D)"
      ],
      "execution_count": 16,
      "outputs": [
        {
          "output_type": "execute_result",
          "data": {
            "text/plain": [
              "True"
            ]
          },
          "metadata": {
            "tags": []
          },
          "execution_count": 16
        }
      ]
    },
    {
      "cell_type": "markdown",
      "metadata": {
        "id": "e8x-xu7ISEaa",
        "colab_type": "text"
      },
      "source": [
        "# Acceso a Elementos y Slicing"
      ]
    },
    {
      "cell_type": "code",
      "metadata": {
        "id": "z21LdKNrSJZB",
        "colab_type": "code",
        "outputId": "fb2ff7ea-6439-4305-f951-f1ce1d8a1dc9",
        "colab": {
          "base_uri": "https://localhost:8080/",
          "height": 68
        }
      },
      "source": [
        "a = np.array([[1,0,3],[4,3,5],[6,10,-1]])\n",
        "a"
      ],
      "execution_count": 17,
      "outputs": [
        {
          "output_type": "execute_result",
          "data": {
            "text/plain": [
              "array([[ 1,  0,  3],\n",
              "       [ 4,  3,  5],\n",
              "       [ 6, 10, -1]])"
            ]
          },
          "metadata": {
            "tags": []
          },
          "execution_count": 17
        }
      ]
    },
    {
      "cell_type": "code",
      "metadata": {
        "id": "YcYE1AsASWFr",
        "colab_type": "code",
        "outputId": "cbf28ab0-0de9-406b-e8d3-91577357b8f9",
        "colab": {
          "base_uri": "https://localhost:8080/",
          "height": 34
        }
      },
      "source": [
        "a[2,1]"
      ],
      "execution_count": 18,
      "outputs": [
        {
          "output_type": "execute_result",
          "data": {
            "text/plain": [
              "10"
            ]
          },
          "metadata": {
            "tags": []
          },
          "execution_count": 18
        }
      ]
    },
    {
      "cell_type": "markdown",
      "metadata": {
        "id": "L24ddqTsSoPl",
        "colab_type": "text"
      },
      "source": [
        "Para acceder a un elemento de un array de dimensión n, la síntaxis es $array[i1, i2, i3,...iN]$.\n",
        "\n",
        "En este curso y frecuentemente en ML trabajaremos con arrays de dimensión 1 o dimensión 2, por lo que:\n",
        "\n",
        "- Para un array de 1D: $a[index]$\n",
        "- Para un array de 2D: $a[index1, index2]$"
      ]
    },
    {
      "cell_type": "code",
      "metadata": {
        "id": "5zLAVEEGUPnw",
        "colab_type": "code",
        "outputId": "62918f46-7ecf-4774-cb78-d70cdb402a62",
        "colab": {
          "base_uri": "https://localhost:8080/",
          "height": 85
        }
      },
      "source": [
        "a = np.arange(10)\n",
        "b = np.eye(3)\n",
        "display(a); display(b)"
      ],
      "execution_count": 19,
      "outputs": [
        {
          "output_type": "display_data",
          "data": {
            "text/plain": [
              "array([0, 1, 2, 3, 4, 5, 6, 7, 8, 9])"
            ]
          },
          "metadata": {
            "tags": []
          }
        },
        {
          "output_type": "display_data",
          "data": {
            "text/plain": [
              "array([[1., 0., 0.],\n",
              "       [0., 1., 0.],\n",
              "       [0., 0., 1.]])"
            ]
          },
          "metadata": {
            "tags": []
          }
        }
      ]
    },
    {
      "cell_type": "code",
      "metadata": {
        "id": "Aqv7a46wUeIS",
        "colab_type": "code",
        "outputId": "9f889cdf-ef06-4d87-afbc-3808e1393bce",
        "colab": {
          "base_uri": "https://localhost:8080/",
          "height": 34
        }
      },
      "source": [
        "a[:5] # 5 primeros elementos del array"
      ],
      "execution_count": 20,
      "outputs": [
        {
          "output_type": "execute_result",
          "data": {
            "text/plain": [
              "array([0, 1, 2, 3, 4])"
            ]
          },
          "metadata": {
            "tags": []
          },
          "execution_count": 20
        }
      ]
    },
    {
      "cell_type": "code",
      "metadata": {
        "id": "1gcastlrUrRn",
        "colab_type": "code",
        "outputId": "79e203b0-5306-47ab-b0e8-1b67530ef09c",
        "colab": {
          "base_uri": "https://localhost:8080/",
          "height": 34
        }
      },
      "source": [
        "b[0:3, 1] # Obtiene los elementos de la segunda columna del array b(fila, columna)"
      ],
      "execution_count": 21,
      "outputs": [
        {
          "output_type": "execute_result",
          "data": {
            "text/plain": [
              "array([0., 1., 0.])"
            ]
          },
          "metadata": {
            "tags": []
          },
          "execution_count": 21
        }
      ]
    },
    {
      "cell_type": "code",
      "metadata": {
        "id": "jbHoDQFoU4U2",
        "colab_type": "code",
        "outputId": "4a81d051-8d86-45f8-f6e0-fcef61e88fc3",
        "colab": {
          "base_uri": "https://localhost:8080/",
          "height": 34
        }
      },
      "source": [
        "b[2, 0:3] # Obtiene la 3ra fila del array b"
      ],
      "execution_count": 22,
      "outputs": [
        {
          "output_type": "execute_result",
          "data": {
            "text/plain": [
              "array([0., 0., 1.])"
            ]
          },
          "metadata": {
            "tags": []
          },
          "execution_count": 22
        }
      ]
    },
    {
      "cell_type": "code",
      "metadata": {
        "id": "ig_YwMZhVEtm",
        "colab_type": "code",
        "outputId": "142f5dc3-1f06-461d-aea5-18ef901b7d92",
        "colab": {
          "base_uri": "https://localhost:8080/",
          "height": 68
        }
      },
      "source": [
        "b[:,:]  # Obtiene todo el array de b"
      ],
      "execution_count": 23,
      "outputs": [
        {
          "output_type": "execute_result",
          "data": {
            "text/plain": [
              "array([[1., 0., 0.],\n",
              "       [0., 1., 0.],\n",
              "       [0., 0., 1.]])"
            ]
          },
          "metadata": {
            "tags": []
          },
          "execution_count": 23
        }
      ]
    },
    {
      "cell_type": "code",
      "metadata": {
        "id": "B3tgam36VQBG",
        "colab_type": "code",
        "outputId": "a4a3c154-13dc-4cd8-dc2d-a545df7f8051",
        "colab": {
          "base_uri": "https://localhost:8080/",
          "height": 34
        }
      },
      "source": [
        "a[::-1] # Seleeciona los vectores desde el último hasta el primero, en orden inverso\n",
        "  "
      ],
      "execution_count": 24,
      "outputs": [
        {
          "output_type": "execute_result",
          "data": {
            "text/plain": [
              "array([9, 8, 7, 6, 5, 4, 3, 2, 1, 0])"
            ]
          },
          "metadata": {
            "tags": []
          },
          "execution_count": 24
        }
      ]
    },
    {
      "cell_type": "markdown",
      "metadata": {
        "id": "-4K9N0jSBRPS",
        "colab_type": "text"
      },
      "source": [
        "# Operaciones sobre arrays"
      ]
    },
    {
      "cell_type": "code",
      "metadata": {
        "id": "Zn37IY0CBUJF",
        "colab_type": "code",
        "colab": {
          "base_uri": "https://localhost:8080/",
          "height": 170
        },
        "outputId": "5b3adad2-68f8-4242-aef4-927374fdefae"
      },
      "source": [
        "# Aritmética\n",
        "a = np.arange(4)\n",
        "\n",
        "print(\"a  = \",a)\n",
        "print(\"a + 5  = \", a + 5)\n",
        "print(\"a - 5 = \", a - 5)\n",
        "print(\"a * 5 = \", a * 5)\n",
        "print(\"a / 2 = \", a / 2)\n",
        "print(\"a // 2 = \", a // 2)\n",
        "print(\"-a = \", -a)\n",
        "print(\"a ** 2 = \", a ** 2)\n",
        "print(\"a % 2 = \", a % 2)"
      ],
      "execution_count": 25,
      "outputs": [
        {
          "output_type": "stream",
          "text": [
            "a  =  [0 1 2 3]\n",
            "a + 5  =  [5 6 7 8]\n",
            "a - 5 =  [-5 -4 -3 -2]\n",
            "a * 5 =  [ 0  5 10 15]\n",
            "a / 2 =  [0.  0.5 1.  1.5]\n",
            "a // 2 =  [0 0 1 1]\n",
            "-a =  [ 0 -1 -2 -3]\n",
            "a ** 2 =  [0 1 4 9]\n",
            "a % 2 =  [0 1 0 1]\n"
          ],
          "name": "stdout"
        }
      ]
    },
    {
      "cell_type": "markdown",
      "metadata": {
        "id": "QEIqx6bfCqdj",
        "colab_type": "text"
      },
      "source": [
        "\n",
        "Operator\t| ufunc\n",
        "----------|---------\n",
        "`+`\t| np.add\n",
        "`-`\t| np.subtract\n",
        "`*`\t| np.multiply\n",
        "\n",
        "`ufunc` quiere decir **universal functions**. Y las librerías de numpy corren en código de compilado de C, por lo que es más rápido en la ejecución que con el intérprete de python."
      ]
    },
    {
      "cell_type": "code",
      "metadata": {
        "id": "NFYODOq_Deup",
        "colab_type": "code",
        "colab": {
          "base_uri": "https://localhost:8080/",
          "height": 119
        },
        "outputId": "a7628300-5502-4eca-fa96-ea24c8dc4908"
      },
      "source": [
        "# Otras ufuncs interesantes\n",
        "a = np.arange(4)\n",
        "b = np.arange(1,5)\n",
        "\n",
        "display(a); display(b)\n",
        "display(np.exp(a))    # Exponencial\n",
        "display(np.log(b))    # logaritmo natural\n",
        "display(np.sqrt(a))   # raíz cuadrada\n",
        "display(np.greater(a, b)) # superior o igual punto a punto"
      ],
      "execution_count": 28,
      "outputs": [
        {
          "output_type": "display_data",
          "data": {
            "text/plain": [
              "array([0, 1, 2, 3])"
            ]
          },
          "metadata": {
            "tags": []
          }
        },
        {
          "output_type": "display_data",
          "data": {
            "text/plain": [
              "array([1, 2, 3, 4])"
            ]
          },
          "metadata": {
            "tags": []
          }
        },
        {
          "output_type": "display_data",
          "data": {
            "text/plain": [
              "array([ 1.        ,  2.71828183,  7.3890561 , 20.08553692])"
            ]
          },
          "metadata": {
            "tags": []
          }
        },
        {
          "output_type": "display_data",
          "data": {
            "text/plain": [
              "array([0.        , 0.69314718, 1.09861229, 1.38629436])"
            ]
          },
          "metadata": {
            "tags": []
          }
        },
        {
          "output_type": "display_data",
          "data": {
            "text/plain": [
              "array([0.        , 1.        , 1.41421356, 1.73205081])"
            ]
          },
          "metadata": {
            "tags": []
          }
        },
        {
          "output_type": "display_data",
          "data": {
            "text/plain": [
              "array([False, False, False, False])"
            ]
          },
          "metadata": {
            "tags": []
          }
        }
      ]
    },
    {
      "cell_type": "markdown",
      "metadata": {
        "id": "K7NW6mD6G8i4",
        "colab_type": "text"
      },
      "source": [
        "\n",
        "# Rendimiento\n",
        "\n",
        "Las `ufunc` corren a velocidad de código compilado C.\n",
        "\n",
        "De poder utilizarse se deberían preferir al uso de for loops.\n",
        "\n",
        "Un código Numpy solo con funciones nativas, sin bucles, se llama código vectorizado."
      ]
    },
    {
      "cell_type": "code",
      "metadata": {
        "id": "EgrZpiezHaZH",
        "colab_type": "code",
        "colab": {
          "base_uri": "https://localhost:8080/",
          "height": 34
        },
        "outputId": "7cc4e676-ff24-4995-a2b3-698af1461962"
      },
      "source": [
        "# Usando la suma nativa, de elemento a elemento mediante el bucle for\n",
        "%%timeit\n",
        "a = np.arange(1000000)\n",
        "b = np.zeros(1000000)\n",
        "i = 0\n",
        "for item in a:\n",
        "  b[i] = item+item\n",
        "  i+=1"
      ],
      "execution_count": 33,
      "outputs": [
        {
          "output_type": "stream",
          "text": [
            "1 loop, best of 3: 326 ms per loop\n"
          ],
          "name": "stdout"
        }
      ]
    },
    {
      "cell_type": "code",
      "metadata": {
        "id": "ix24hgXdHybm",
        "colab_type": "code",
        "colab": {
          "base_uri": "https://localhost:8080/",
          "height": 51
        },
        "outputId": "748014b1-97cd-46f1-dbce-f574c2ccb072"
      },
      "source": [
        "# Usando la suma en Numpy\n",
        "%%timeit\n",
        "a+a"
      ],
      "execution_count": 34,
      "outputs": [
        {
          "output_type": "stream",
          "text": [
            "The slowest run took 52.52 times longer than the fastest. This could mean that an intermediate result is being cached.\n",
            "1000000 loops, best of 3: 512 ns per loop\n"
          ],
          "name": "stdout"
        }
      ]
    },
    {
      "cell_type": "markdown",
      "metadata": {
        "id": "zEFOsnAkIZHH",
        "colab_type": "text"
      },
      "source": [
        "\n",
        "# Estadística y aleatoriedad"
      ]
    },
    {
      "cell_type": "code",
      "metadata": {
        "id": "YYiGMdbNIeJ3",
        "colab_type": "code",
        "colab": {
          "base_uri": "https://localhost:8080/",
          "height": 34
        },
        "outputId": "afaa670b-e8a9-4dd8-8e29-55aa4f36ca02"
      },
      "source": [
        "# Estadística\n",
        "a = np.arange(10)\n",
        "\n",
        "display(np.mean(a))    # Promedio\n",
        "display(np.median(a))  # Mediana"
      ],
      "execution_count": 36,
      "outputs": [
        {
          "output_type": "execute_result",
          "data": {
            "text/plain": [
              "4.5"
            ]
          },
          "metadata": {
            "tags": []
          },
          "execution_count": 36
        }
      ]
    },
    {
      "cell_type": "code",
      "metadata": {
        "id": "mwwdJQmKIvSM",
        "colab_type": "code",
        "colab": {
          "base_uri": "https://localhost:8080/",
          "height": 34
        },
        "outputId": "2df00b42-c8ab-4234-a236-5cacf3af879f"
      },
      "source": [
        "np.percentile(a,40)  # Percentil\n",
        "\n"
      ],
      "execution_count": 38,
      "outputs": [
        {
          "output_type": "execute_result",
          "data": {
            "text/plain": [
              "3.6"
            ]
          },
          "metadata": {
            "tags": []
          },
          "execution_count": 38
        }
      ]
    },
    {
      "cell_type": "code",
      "metadata": {
        "id": "4b6_KcDiJImu",
        "colab_type": "code",
        "colab": {
          "base_uri": "https://localhost:8080/",
          "height": 51
        },
        "outputId": "b3d85be7-62d2-4802-c961-c424836bbe56"
      },
      "source": [
        "np.random.random(10) # Aleatoriedad"
      ],
      "execution_count": 39,
      "outputs": [
        {
          "output_type": "execute_result",
          "data": {
            "text/plain": [
              "array([0.39689985, 0.20872186, 0.36629375, 0.25756478, 0.4224997 ,\n",
              "       0.2672212 , 0.18495401, 0.41865217, 0.76773385, 0.17030816])"
            ]
          },
          "metadata": {
            "tags": []
          },
          "execution_count": 39
        }
      ]
    },
    {
      "cell_type": "code",
      "metadata": {
        "id": "LQSUCNj3JWM8",
        "colab_type": "code",
        "colab": {}
      },
      "source": [
        ""
      ],
      "execution_count": 0,
      "outputs": []
    }
  ]
}