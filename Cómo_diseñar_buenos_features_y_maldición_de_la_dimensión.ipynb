{
  "nbformat": 4,
  "nbformat_minor": 0,
  "metadata": {
    "colab": {
      "name": "Cómo diseñar buenos features y maldición de la dimensión.ipynb",
      "provenance": [],
      "collapsed_sections": [],
      "mount_file_id": "1H6LW-KVLqVLNLgIb4BiS1S4FdFMsCyu9",
      "authorship_tag": "ABX9TyO0zVnBm2VqL4CrrWof2QKV"
    },
    "kernelspec": {
      "name": "python3",
      "display_name": "Python 3"
    }
  },
  "cells": [
    {
      "cell_type": "markdown",
      "metadata": {
        "id": "EzhF7cInvjUT",
        "colab_type": "text"
      },
      "source": [
        "> Mejorar la performance de nuestros modelos no solo pasa por optimizar sus parametros.\n",
        "Una de las partes clave, y según algunos expertos la más importante, es la de **diseñar la representación en la que se entregan los datos a los modelos** para que estos los procesen.\n",
        "Esto equivale, en palabras más simples, en definir de forma inteligente las features (columnas) de nuestras tablas de datos."
      ]
    },
    {
      "cell_type": "markdown",
      "metadata": {
        "id": "ZxExy9F-vsYP",
        "colab_type": "text"
      },
      "source": [
        "**Ejemplo de feature engineering:**\n",
        "\n",
        "*El problema:*\n",
        "\n",
        "Supongamos que estamos tratando de resolver el problema siguiente.\n",
        "\n",
        "- Tenemos un problema de reconocer si ciertos datos con una sola feature son de una clase 1 o de una clase 2 (por ejemplo \"el producto esta deficiente\" o \"el producto esta funcional\").\n",
        "- Por lo tanto estamos resolviendo una **clasificación**.\n",
        "- Para esta clasificación decidimos tomar un SVM, que es un modelo poderoso que funciona buscando la \"mejor\" recta que separa los puntos de cada clase.\n",
        "\n",
        "![Clasificación feature 1](https://github.com/JuanPabloMF/machine-learning-platzi/raw/8c90f12d2f94ba2b58d725d2eb232a8d654cfc22/img/classif_1_feature.png)\n",
        "\n",
        "\n",
        "*Como podemos ver no existe un separador óptimo. Debemos para resolver el problema buscar un modelo aún más poderoso? No necesariamente.*\n",
        "\n",
        "Agregemos una nueva feature:\n",
        "\n",
        "$X[columna_2] = X[columna_1]^2$\n",
        "\n",
        "![Clasificación feature 2](https://github.com/JuanPabloMF/machine-learning-platzi/raw/8c90f12d2f94ba2b58d725d2eb232a8d654cfc22/img/classif_2_features.png)\n",
        "\n",
        "*Claramente con esta nueva feature vemos que existe una recta que separa los espacios de puntos.\n",
        "Esta recta tendra un score ampliamente mejor que cualquier solucion al primer problema.*\n"
      ]
    },
    {
      "cell_type": "markdown",
      "metadata": {
        "id": "wZHBRAzZw4Vc",
        "colab_type": "text"
      },
      "source": [
        "# Principios de diseño de Features\n",
        "\n",
        "Diseñar tus features es un arte más que una ciencia (por lo que en general te recomendamos ganar experiencia leyendo articulos cientificos y viendo soluciones\n",
        "\n",
        "1. **Features Informativas:** Tus features son más utiles mientras más correlación tengan tu variable objetivo.\n",
        "2. **Features Independientes:** Para no tener redudancias tus features deberían ser lo más independientes posible entre ellas.\n",
        "3. **Cantidad de Features controlada:** Nuestra intuición nos falla en dimensiones superiores a 3 (ver video maldicion de la dimensionalidad). En la mayoría de los casos aumentar la cantidad de features afecta negativamente la performance si no contamos con una gran cantidad de datos. Por ultimo pocas features aseguran una mejor interpretabilidad de los modelos\n",
        "\n",
        "> **Recomendación.** No utilizar demasiadas features\n",
        "\n",
        "\n",
        "**Ejemplo de Feature informativa y Feature no informativa**\n",
        "\n",
        "* _Predecir el **precio de una casa** en **función de sus metros cuadrados**._\n",
        "\n",
        "* _Predecir el **precio de una casa** en **función de la temperatura del mar**._\n",
        "\n",
        "Es importante entender la correlación entre la feature y la variable objetivo. Más sobre esto en los siguientes videos.\n",
        "\n",
        "**Visualizar interdepencia entre variables**"
      ]
    },
    {
      "cell_type": "code",
      "metadata": {
        "id": "La-wiatDxzBN",
        "colab_type": "code",
        "colab": {}
      },
      "source": [
        "# Visualización de la independencia de los features. Usamos la visualización de la matriz de correlación de los features\n",
        "import pandas as pd\n",
        "X = pd.read_csv('drive/My Drive/Colab Notebooks/datasets/machine_learning_python/intermediate_results/X.csv')"
      ],
      "execution_count": 0,
      "outputs": []
    },
    {
      "cell_type": "code",
      "metadata": {
        "id": "bOycPd-pvO4N",
        "colab_type": "code",
        "outputId": "d769a23e-71b3-48de-e62e-d7e0d3f27e4d",
        "colab": {
          "base_uri": "https://localhost:8080/",
          "height": 328
        }
      },
      "source": [
        "import seaborn as sns\n",
        "%matplotlib inline\n",
        "\n",
        "# Mostramos la tabla, si es 1, la correlacción en perfecta\n",
        "X.corr()"
      ],
      "execution_count": 0,
      "outputs": [
        {
          "output_type": "execute_result",
          "data": {
            "text/html": [
              "<div>\n",
              "<style scoped>\n",
              "    .dataframe tbody tr th:only-of-type {\n",
              "        vertical-align: middle;\n",
              "    }\n",
              "\n",
              "    .dataframe tbody tr th {\n",
              "        vertical-align: top;\n",
              "    }\n",
              "\n",
              "    .dataframe thead th {\n",
              "        text-align: right;\n",
              "    }\n",
              "</style>\n",
              "<table border=\"1\" class=\"dataframe\">\n",
              "  <thead>\n",
              "    <tr style=\"text-align: right;\">\n",
              "      <th></th>\n",
              "      <th>production_budget</th>\n",
              "      <th>worldwide_gross</th>\n",
              "      <th>title_year</th>\n",
              "      <th>aspect_ratio</th>\n",
              "      <th>duration</th>\n",
              "      <th>cast_total_facebook_likes</th>\n",
              "      <th>budget</th>\n",
              "      <th>imdb_score</th>\n",
              "      <th>gross</th>\n",
              "    </tr>\n",
              "  </thead>\n",
              "  <tbody>\n",
              "    <tr>\n",
              "      <th>production_budget</th>\n",
              "      <td>1.000000</td>\n",
              "      <td>0.735318</td>\n",
              "      <td>0.207884</td>\n",
              "      <td>0.077459</td>\n",
              "      <td>0.276407</td>\n",
              "      <td>0.236820</td>\n",
              "      <td>0.185357</td>\n",
              "      <td>0.033154</td>\n",
              "      <td>0.642562</td>\n",
              "    </tr>\n",
              "    <tr>\n",
              "      <th>worldwide_gross</th>\n",
              "      <td>0.735318</td>\n",
              "      <td>1.000000</td>\n",
              "      <td>0.111144</td>\n",
              "      <td>0.033700</td>\n",
              "      <td>0.253027</td>\n",
              "      <td>0.205110</td>\n",
              "      <td>0.125527</td>\n",
              "      <td>0.193667</td>\n",
              "      <td>0.897468</td>\n",
              "    </tr>\n",
              "    <tr>\n",
              "      <th>title_year</th>\n",
              "      <td>0.207884</td>\n",
              "      <td>0.111144</td>\n",
              "      <td>1.000000</td>\n",
              "      <td>0.130532</td>\n",
              "      <td>-0.137662</td>\n",
              "      <td>0.124693</td>\n",
              "      <td>0.048664</td>\n",
              "      <td>-0.178685</td>\n",
              "      <td>0.014154</td>\n",
              "    </tr>\n",
              "    <tr>\n",
              "      <th>aspect_ratio</th>\n",
              "      <td>0.077459</td>\n",
              "      <td>0.033700</td>\n",
              "      <td>0.130532</td>\n",
              "      <td>1.000000</td>\n",
              "      <td>-0.012645</td>\n",
              "      <td>0.020656</td>\n",
              "      <td>0.011340</td>\n",
              "      <td>0.037765</td>\n",
              "      <td>0.030225</td>\n",
              "    </tr>\n",
              "    <tr>\n",
              "      <th>duration</th>\n",
              "      <td>0.276407</td>\n",
              "      <td>0.253027</td>\n",
              "      <td>-0.137662</td>\n",
              "      <td>-0.012645</td>\n",
              "      <td>1.000000</td>\n",
              "      <td>0.121918</td>\n",
              "      <td>0.064252</td>\n",
              "      <td>0.315642</td>\n",
              "      <td>0.238216</td>\n",
              "    </tr>\n",
              "    <tr>\n",
              "      <th>cast_total_facebook_likes</th>\n",
              "      <td>0.236820</td>\n",
              "      <td>0.205110</td>\n",
              "      <td>0.124693</td>\n",
              "      <td>0.020656</td>\n",
              "      <td>0.121918</td>\n",
              "      <td>1.000000</td>\n",
              "      <td>0.032591</td>\n",
              "      <td>0.096663</td>\n",
              "      <td>0.208941</td>\n",
              "    </tr>\n",
              "    <tr>\n",
              "      <th>budget</th>\n",
              "      <td>0.185357</td>\n",
              "      <td>0.125527</td>\n",
              "      <td>0.048664</td>\n",
              "      <td>0.011340</td>\n",
              "      <td>0.064252</td>\n",
              "      <td>0.032591</td>\n",
              "      <td>1.000000</td>\n",
              "      <td>0.019417</td>\n",
              "      <td>0.102666</td>\n",
              "    </tr>\n",
              "    <tr>\n",
              "      <th>imdb_score</th>\n",
              "      <td>0.033154</td>\n",
              "      <td>0.193667</td>\n",
              "      <td>-0.178685</td>\n",
              "      <td>0.037765</td>\n",
              "      <td>0.315642</td>\n",
              "      <td>0.096663</td>\n",
              "      <td>0.019417</td>\n",
              "      <td>1.000000</td>\n",
              "      <td>0.201331</td>\n",
              "    </tr>\n",
              "    <tr>\n",
              "      <th>gross</th>\n",
              "      <td>0.642562</td>\n",
              "      <td>0.897468</td>\n",
              "      <td>0.014154</td>\n",
              "      <td>0.030225</td>\n",
              "      <td>0.238216</td>\n",
              "      <td>0.208941</td>\n",
              "      <td>0.102666</td>\n",
              "      <td>0.201331</td>\n",
              "      <td>1.000000</td>\n",
              "    </tr>\n",
              "  </tbody>\n",
              "</table>\n",
              "</div>"
            ],
            "text/plain": [
              "                           production_budget  ...     gross\n",
              "production_budget                   1.000000  ...  0.642562\n",
              "worldwide_gross                     0.735318  ...  0.897468\n",
              "title_year                          0.207884  ...  0.014154\n",
              "aspect_ratio                        0.077459  ...  0.030225\n",
              "duration                            0.276407  ...  0.238216\n",
              "cast_total_facebook_likes           0.236820  ...  0.208941\n",
              "budget                              0.185357  ...  0.102666\n",
              "imdb_score                          0.033154  ...  0.201331\n",
              "gross                               0.642562  ...  1.000000\n",
              "\n",
              "[9 rows x 9 columns]"
            ]
          },
          "metadata": {
            "tags": []
          },
          "execution_count": 6
        }
      ]
    },
    {
      "cell_type": "code",
      "metadata": {
        "id": "DaBqxnXRy0Cq",
        "colab_type": "code",
        "outputId": "258847fd-3108-49ab-cb63-ca75531cc074",
        "colab": {
          "base_uri": "https://localhost:8080/",
          "height": 403
        }
      },
      "source": [
        "# Visualizamos la correlación en un gráfico. Mientras mas cerca al 1, es mejor la correlación.\n",
        "sns.heatmap(X.corr())"
      ],
      "execution_count": 0,
      "outputs": [
        {
          "output_type": "execute_result",
          "data": {
            "text/plain": [
              "<matplotlib.axes._subplots.AxesSubplot at 0x7fcccbb40a90>"
            ]
          },
          "metadata": {
            "tags": []
          },
          "execution_count": 5
        },
        {
          "output_type": "display_data",
          "data": {
            "image/png": "[encoded data removed]",
            "text/plain": [
              "<Figure size 432x288 with 2 Axes>"
            ]
          },
          "metadata": {
            "tags": [],
            "needs_background": "light"
          }
        }
      ]
    },
    {
      "cell_type": "markdown",
      "metadata": {
        "id": "k_8Qck7RzdIH",
        "colab_type": "text"
      },
      "source": [
        "# La maldición de la dimensión\n",
        "\n",
        "*Datasaurus Dozen y Anscombe's quartet:*\n",
        "\n",
        "Utilidad de la capacidad de entender los datos en 1, 2 y 3 dimensiones del ojo humano.\n",
        "\n",
        "*Maldición de la dimensionalidad:*\n",
        "\n",
        "En **dimensión superior o igual a 4**, nuestra capacidad de entender los datos se pierde, **y aún peor fenomenos extraños/contraproducentes ocurren**\n",
        "\n",
        "\n",
        "***Ejemplo 1***\n",
        "\n",
        "Que largo debe tener cada arista de un hypercubo de dimension p que capture 10% del volumen de un hypercubo de volumen 1 que lo contiene?\n",
        "\n",
        "![Cubo dimensión 3](https://github.com/JuanPabloMF/machine-learning-platzi/raw/8c90f12d2f94ba2b58d725d2eb232a8d654cfc22/img/cube.png)\n",
        "\n",
        "\n",
        "$$ V_{hypercubo} = a^p\\ y\\ si\\ V_{hypercubo} = 0.1 \\implies a = 0.1^{1/p}$$$$$$"
      ]
    },
    {
      "cell_type": "code",
      "metadata": {
        "id": "uEJFW4AKzO9u",
        "colab_type": "code",
        "outputId": "db0c3e24-3082-424c-9abc-fd06fed2cf59",
        "colab": {
          "base_uri": "https://localhost:8080/",
          "height": 282
        }
      },
      "source": [
        "import matplotlib.pyplot as plt\n",
        "import numpy as np\n",
        "\n",
        "x = np.arange(1,15)\n",
        "y = np.power(0.1,1/x)\n",
        "plt.plot(x,y)"
      ],
      "execution_count": 0,
      "outputs": [
        {
          "output_type": "execute_result",
          "data": {
            "text/plain": [
              "[<matplotlib.lines.Line2D at 0x7fccc61c9fd0>]"
            ]
          },
          "metadata": {
            "tags": []
          },
          "execution_count": 7
        },
        {
          "output_type": "display_data",
          "data": {
            "image/png": "[encoded data removed]",
            "text/plain": [
              "<Figure size 432x288 with 1 Axes>"
            ]
          },
          "metadata": {
            "tags": [],
            "needs_background": "light"
          }
        }
      ]
    },
    {
      "cell_type": "markdown",
      "metadata": {
        "id": "a7528qLa2OVA",
        "colab_type": "text"
      },
      "source": [
        "**En dimensión 10:** Necesitamos un hypercubo que cubra 80% de cada una de las aristas para solamente obtener 10% del volumen!\n",
        "\n",
        "> En alta dimensión es muy poco probable que tus ejemplos cubran todo el espacio de forma densa.\n",
        "Por ende en **alta dimensión necesitas una cantidad de datos que crece exponencialmente para poder entrenar tus modelos**.\n",
        "Te recomendamos tener cuidado al aumentar la dimensión de tus datos, no esta prohibido, pero hacerlo de forma exagerada te puede llevar hacia estos problemas."
      ]
    }
  ]
}