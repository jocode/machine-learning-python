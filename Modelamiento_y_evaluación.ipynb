{
  "nbformat": 4,
  "nbformat_minor": 0,
  "metadata": {
    "colab": {
      "name": "Modelamiento y evaluación.ipynb",
      "provenance": [],
      "collapsed_sections": [],
      "mount_file_id": "1Hp3_ittMjzrA7djJB0iLok-GYW3WMinf",
      "authorship_tag": "ABX9TyPHGOnE99heDcDByASKIWBH"
    },
    "kernelspec": {
      "name": "python3",
      "display_name": "Python 3"
    }
  },
  "cells": [
    {
      "cell_type": "markdown",
      "metadata": {
        "id": "98jVryIVR0ZK",
        "colab_type": "text"
      },
      "source": [
        "# Antes de entrenar un modelo, es necesario saber el funcionamiento y la API se scikit-learn\n"
      ]
    },
    {
      "cell_type": "code",
      "metadata": {
        "id": "H8WbWFgSRe-5",
        "colab_type": "code",
        "colab": {}
      },
      "source": [
        "import numpy as np\n",
        "import pandas as pd"
      ],
      "execution_count": 0,
      "outputs": []
    },
    {
      "cell_type": "markdown",
      "metadata": {
        "id": "ldnc_VySSEoQ",
        "colab_type": "text"
      },
      "source": [
        "> Scikit-learn es la librería más usada de Machine Learning tradicional [Ver ranking de Github](https://github.com/showcases/machine-learning). La librería incluye funcionalidades de:\n",
        "- Preprocesamiento de datos en  `sklearn.preprocessing` \n",
        "- Algoritmos de Machine Learning en `sklearn.linear_model`, `sklearn.svm`, `sklearn.ensemble`, y muchos más.\n",
        "- Evaluación de modelos en `sklearn.model_selection` y `sklearn.metrics`"
      ]
    },
    {
      "cell_type": "markdown",
      "metadata": {
        "id": "X3vi1MFRS46P",
        "colab_type": "text"
      },
      "source": [
        "Scikit-learn sigue muy de cerca los resultados de la investigación e implementa los resultados más maduros y probados en sus modulos. La [documentación](http://scikit-learn.org/stable/modules/ensemble.html#forests-of-randomized-trees) extensa muestra como la librería es un compendio de conocimiento en Machine Learning llevado a software"
      ]
    },
    {
      "cell_type": "markdown",
      "metadata": {
        "id": "U7yO7b3iTD0v",
        "colab_type": "text"
      },
      "source": [
        "---\n",
        "*Una estructura de datos esencial en scikit-learn es el Estimator*\n",
        "\n",
        "---\n",
        "\n",
        "![Estimador](https://github.com/JuanPabloMF/machine-learning-platzi/raw/8c90f12d2f94ba2b58d725d2eb232a8d654cfc22/img/estimator.png)"
      ]
    },
    {
      "cell_type": "markdown",
      "metadata": {
        "id": "IK-BkueJXfPH",
        "colab_type": "text"
      },
      "source": [
        "![Flujo de evaluación](https://github.com/JuanPabloMF/machine-learning-platzi/blob/master/img/evaluation_flow.png?raw=true)\n",
        "\n",
        "----\n",
        "\n",
        "![Mapa de Modelos de Machibe learning](https://github.com/JuanPabloMF/machine-learning-platzi/blob/master/img/ml_map.png?raw=true)"
      ]
    },
    {
      "cell_type": "markdown",
      "metadata": {
        "id": "ebaOira5QdlY",
        "colab_type": "text"
      },
      "source": [
        "# Implementemos un modelo simple de regresión primero"
      ]
    },
    {
      "cell_type": "code",
      "metadata": {
        "id": "080Bz08xXyFp",
        "colab_type": "code",
        "colab": {}
      },
      "source": [
        "X = pd.read_csv('drive/My Drive/Colab Notebooks/datasets/machine_learning_python/intermediate_results/X.csv')"
      ],
      "execution_count": 0,
      "outputs": []
    },
    {
      "cell_type": "code",
      "metadata": {
        "id": "3VK1fPloQ-nx",
        "colab_type": "code",
        "colab": {}
      },
      "source": [
        "y = X['worldwide_gross']"
      ],
      "execution_count": 0,
      "outputs": []
    },
    {
      "cell_type": "code",
      "metadata": {
        "id": "ciyoipsGRGFK",
        "colab_type": "code",
        "colab": {}
      },
      "source": [
        "X = X.drop('worldwide_gross', axis=1)"
      ],
      "execution_count": 0,
      "outputs": []
    },
    {
      "cell_type": "code",
      "metadata": {
        "id": "3ZDj_niERbmA",
        "colab_type": "code",
        "colab": {}
      },
      "source": [
        "# Importamos SckitLearn\n",
        "from sklearn.model_selection import train_test_split\n",
        "\n",
        "X_train, X_test, y_train, y_test = train_test_split(X, y, test_size=0.4, random_state=11)"
      ],
      "execution_count": 0,
      "outputs": []
    },
    {
      "cell_type": "code",
      "metadata": {
        "id": "b3IY5UrKRcy8",
        "colab_type": "code",
        "colab": {
          "base_uri": "https://localhost:8080/",
          "height": 68
        },
        "outputId": "676e326c-55b4-43b1-e460-7f1e40a91f35"
      },
      "source": [
        "print(len(X))\n",
        "print(len(X_train))\n",
        "print(len(X_test))"
      ],
      "execution_count": 24,
      "outputs": [
        {
          "output_type": "stream",
          "text": [
            "4104\n",
            "2462\n",
            "1642\n"
          ],
          "name": "stdout"
        }
      ]
    },
    {
      "cell_type": "code",
      "metadata": {
        "id": "sgsweFZOSCid",
        "colab_type": "code",
        "colab": {
          "base_uri": "https://localhost:8080/",
          "height": 80
        },
        "outputId": "f71d29e1-fbcc-455f-deca-705d276f7383"
      },
      "source": [
        "X.head(1)"
      ],
      "execution_count": 25,
      "outputs": [
        {
          "output_type": "execute_result",
          "data": {
            "text/html": [
              "<div>\n",
              "<style scoped>\n",
              "    .dataframe tbody tr th:only-of-type {\n",
              "        vertical-align: middle;\n",
              "    }\n",
              "\n",
              "    .dataframe tbody tr th {\n",
              "        vertical-align: top;\n",
              "    }\n",
              "\n",
              "    .dataframe thead th {\n",
              "        text-align: right;\n",
              "    }\n",
              "</style>\n",
              "<table border=\"1\" class=\"dataframe\">\n",
              "  <thead>\n",
              "    <tr style=\"text-align: right;\">\n",
              "      <th></th>\n",
              "      <th>production_budget</th>\n",
              "      <th>title_year</th>\n",
              "      <th>aspect_ratio</th>\n",
              "      <th>duration</th>\n",
              "      <th>cast_total_facebook_likes</th>\n",
              "      <th>budget</th>\n",
              "      <th>imdb_score</th>\n",
              "      <th>gross</th>\n",
              "    </tr>\n",
              "  </thead>\n",
              "  <tbody>\n",
              "    <tr>\n",
              "      <th>0</th>\n",
              "      <td>425000000.0</td>\n",
              "      <td>2009.0</td>\n",
              "      <td>1.78</td>\n",
              "      <td>178.0</td>\n",
              "      <td>4834.0</td>\n",
              "      <td>237000000.0</td>\n",
              "      <td>7.9</td>\n",
              "      <td>760505847.0</td>\n",
              "    </tr>\n",
              "  </tbody>\n",
              "</table>\n",
              "</div>"
            ],
            "text/plain": [
              "   production_budget  title_year  ...  imdb_score        gross\n",
              "0        425000000.0      2009.0  ...         7.9  760505847.0\n",
              "\n",
              "[1 rows x 8 columns]"
            ]
          },
          "metadata": {
            "tags": []
          },
          "execution_count": 25
        }
      ]
    },
    {
      "cell_type": "code",
      "metadata": {
        "id": "96PBrg-6SQO_",
        "colab_type": "code",
        "colab": {}
      },
      "source": [
        "# Implementación del Modelo usando una regresión lasso\n",
        "from sklearn.linear_model import Lasso\n",
        "\n",
        "# Se instancia el modelo Lasso\n",
        "model = Lasso()"
      ],
      "execution_count": 0,
      "outputs": []
    },
    {
      "cell_type": "code",
      "metadata": {
        "id": "CKWs9SZPSht-",
        "colab_type": "code",
        "colab": {
          "base_uri": "https://localhost:8080/",
          "height": 68
        },
        "outputId": "a3e19019-4ce0-4242-e4ca-1f1b96e60b88"
      },
      "source": [
        "model.fit(X_train, y_train)"
      ],
      "execution_count": 27,
      "outputs": [
        {
          "output_type": "execute_result",
          "data": {
            "text/plain": [
              "Lasso(alpha=1.0, copy_X=True, fit_intercept=True, max_iter=1000,\n",
              "      normalize=False, positive=False, precompute=False, random_state=None,\n",
              "      selection='cyclic', tol=0.0001, warm_start=False)"
            ]
          },
          "metadata": {
            "tags": []
          },
          "execution_count": 27
        }
      ]
    },
    {
      "cell_type": "code",
      "metadata": {
        "id": "BMI7R5PNSk_m",
        "colab_type": "code",
        "colab": {}
      },
      "source": [
        "predicted = model.predict(X_test)"
      ],
      "execution_count": 0,
      "outputs": []
    },
    {
      "cell_type": "code",
      "metadata": {
        "id": "t4VFQUiWSw5-",
        "colab_type": "code",
        "colab": {
          "base_uri": "https://localhost:8080/",
          "height": 34
        },
        "outputId": "3c81114c-3d2e-4cad-cea6-870b33aeda82"
      },
      "source": [
        "predicted.shape"
      ],
      "execution_count": 29,
      "outputs": [
        {
          "output_type": "execute_result",
          "data": {
            "text/plain": [
              "(1642,)"
            ]
          },
          "metadata": {
            "tags": []
          },
          "execution_count": 29
        }
      ]
    },
    {
      "cell_type": "code",
      "metadata": {
        "id": "Y1asuPLPSy2x",
        "colab_type": "code",
        "colab": {
          "base_uri": "https://localhost:8080/",
          "height": 278
        },
        "outputId": "187a53e1-7738-4320-d9af-1d27324af529"
      },
      "source": [
        "import matplotlib.pyplot as plt\n",
        "%matplotlib inline\n",
        "\n",
        "plt.hist([predicted, y_test]);"
      ],
      "execution_count": 30,
      "outputs": [
        {
          "output_type": "display_data",
          "data": {
            "image/png": "[encoded data removed]",
            "text/plain": [
              "<Figure size 432x288 with 1 Axes>"
            ]
          },
          "metadata": {
            "tags": [],
            "needs_background": "light"
          }
        }
      ]
    },
    {
      "cell_type": "markdown",
      "metadata": {
        "id": "Sq8Z1lq1krib",
        "colab_type": "text"
      },
      "source": [
        "# Evaluemos de forma más fina el comportamiento de nuestro modelo\n",
        "\n",
        "Los estimadores y las funciones de sklearn vienen con el máximo de argumentos con valores por defecto que suelen ser las mejores opciones si no tenemos algun conocimiento particular el problema. En este caso particular la función `estimator.score` ya viene con una de las métricas de `sklearn.metrics`, que es la métrica `sklearn.metric.r2_score`\n",
        "\n",
        "> El score **R2** de una regresión es una de las formas más comunes de entender su poder predictivo. Este **_mientras más cerca de 1 este, mejor es_**\n",
        "\n",
        "> Los valores que puede tomar son de -infinito hasta 1. Un score R2 negativo es malo, ya que esto indica que la regresión es peor que si simplemente eligieramos un valor fijo como predicción para todos los puntos, la media."
      ]
    },
    {
      "cell_type": "code",
      "metadata": {
        "id": "K7htZZqAT-WI",
        "colab_type": "code",
        "colab": {
          "base_uri": "https://localhost:8080/",
          "height": 34
        },
        "outputId": "1743c128-1abb-481a-8175-4a6bb4fde038"
      },
      "source": [
        "model.score(X_test, y_test)"
      ],
      "execution_count": 31,
      "outputs": [
        {
          "output_type": "execute_result",
          "data": {
            "text/plain": [
              "0.8149257769549056"
            ]
          },
          "metadata": {
            "tags": []
          },
          "execution_count": 31
        }
      ]
    },
    {
      "cell_type": "markdown",
      "metadata": {
        "id": "iQ1hS42gmGtv",
        "colab_type": "text"
      },
      "source": [
        "Bastante bien para un primer modelo!\n",
        "\n",
        "Un buen score R2 es importante para una regresión. Pero no lo es todo. De forma general los scores hay que complementarlos con visualizaciones de los datos ya que una métrica no logra siempre encodear todas las caracteristicas de una distribución de probabilidades. Un ejemplo es el siguiente:\n",
        "\n",
        "![Datasaurus Dozen](https://github.com/JuanPabloMF/machine-learning-platzi/blob/master/img/datasaurus_dozen.png?raw=true)\n",
        "\n",
        "> **Siempre visualiza tus resultados**, aunque tengas un buen score de performance."
      ]
    },
    {
      "cell_type": "code",
      "metadata": {
        "id": "zAPDZ3DtlU7C",
        "colab_type": "code",
        "colab": {}
      },
      "source": [
        "# Los residuales son la diferencia entre la predicción y el valor real\n",
        "residuals = y_test - predicted"
      ],
      "execution_count": 0,
      "outputs": []
    },
    {
      "cell_type": "code",
      "metadata": {
        "id": "2l6dV1MDshJ1",
        "colab_type": "code",
        "colab": {
          "base_uri": "https://localhost:8080/",
          "height": 306
        },
        "outputId": "a2f970ac-a7b4-469d-effd-143667ade428"
      },
      "source": [
        "plt.scatter(y_test, residuals)"
      ],
      "execution_count": 33,
      "outputs": [
        {
          "output_type": "execute_result",
          "data": {
            "text/plain": [
              "<matplotlib.collections.PathCollection at 0x7febe47090b8>"
            ]
          },
          "metadata": {
            "tags": []
          },
          "execution_count": 33
        },
        {
          "output_type": "display_data",
          "data": {
            "image/png": "[encoded data removed]",
            "text/plain": [
              "<Figure size 432x288 with 1 Axes>"
            ]
          },
          "metadata": {
            "tags": [],
            "needs_background": "light"
          }
        }
      ]
    },
    {
      "cell_type": "code",
      "metadata": {
        "id": "t7pRHvLKsmUh",
        "colab_type": "code",
        "colab": {}
      },
      "source": [
        "# Normalizamos los datos usando los valores absolutos\n",
        "ap_residuals = np.abs(residuals) / y_test"
      ],
      "execution_count": 0,
      "outputs": []
    },
    {
      "cell_type": "code",
      "metadata": {
        "id": "8tFTNGros6ZO",
        "colab_type": "code",
        "colab": {
          "base_uri": "https://localhost:8080/",
          "height": 295
        },
        "outputId": "62d66bed-9200-4e00-85dc-12e9e22a912a"
      },
      "source": [
        "plt.scatter(y_test, ap_residuals)"
      ],
      "execution_count": 35,
      "outputs": [
        {
          "output_type": "execute_result",
          "data": {
            "text/plain": [
              "<matplotlib.collections.PathCollection at 0x7febe46c9828>"
            ]
          },
          "metadata": {
            "tags": []
          },
          "execution_count": 35
        },
        {
          "output_type": "display_data",
          "data": {
            "image/png": "[encoded data removed]",
            "text/plain": [
              "<Figure size 432x288 with 1 Axes>"
            ]
          },
          "metadata": {
            "tags": [],
            "needs_background": "light"
          }
        }
      ]
    },
    {
      "cell_type": "code",
      "metadata": {
        "id": "wcc15hHTtP4-",
        "colab_type": "code",
        "colab": {}
      },
      "source": [
        "# Usamos una escala logarítmica\n",
        "lap_residuals = np.log(ap_residuals)"
      ],
      "execution_count": 0,
      "outputs": []
    },
    {
      "cell_type": "code",
      "metadata": {
        "id": "plfXOLvktcp0",
        "colab_type": "code",
        "colab": {
          "base_uri": "https://localhost:8080/",
          "height": 295
        },
        "outputId": "372c0414-80ec-4b84-f6cb-bf9416fe5880"
      },
      "source": [
        "plt.scatter(y_test, lap_residuals)"
      ],
      "execution_count": 37,
      "outputs": [
        {
          "output_type": "execute_result",
          "data": {
            "text/plain": [
              "<matplotlib.collections.PathCollection at 0x7febe4498fd0>"
            ]
          },
          "metadata": {
            "tags": []
          },
          "execution_count": 37
        },
        {
          "output_type": "display_data",
          "data": {
            "image/png": "[encoded data removed]",
            "text/plain": [
              "<Figure size 432x288 with 1 Axes>"
            ]
          },
          "metadata": {
            "tags": [],
            "needs_background": "light"
          }
        }
      ]
    },
    {
      "cell_type": "code",
      "metadata": {
        "id": "BIZD3KvTti8J",
        "colab_type": "code",
        "colab": {
          "base_uri": "https://localhost:8080/",
          "height": 265
        },
        "outputId": "2a4d87f4-4984-43bd-eb02-b67971696ca2"
      },
      "source": [
        "# Evaluación numérica de los erroes\n",
        "plt.hist(lap_residuals, bins=100, density=1, histtype='step', cumulative=True);"
      ],
      "execution_count": 44,
      "outputs": [
        {
          "output_type": "display_data",
          "data": {
            "image/png": "[encoded data removed]",
            "text/plain": [
              "<Figure size 432x288 with 1 Axes>"
            ]
          },
          "metadata": {
            "tags": [],
            "needs_background": "light"
          }
        }
      ]
    },
    {
      "cell_type": "code",
      "metadata": {
        "id": "tAHwhlPxt6NZ",
        "colab_type": "code",
        "colab": {
          "base_uri": "https://localhost:8080/",
          "height": 286
        },
        "outputId": "f1c20c17-b607-47df-c844-c4d40e7545f0"
      },
      "source": [
        "# Hacemos zooom a los datps\n",
        "plt.hist(lap_residuals, bins=100, density=1, histtype='step', cumulative=True);\n",
        "plt.axis([-2, 0, 0, 1])\n",
        "np.power(np.exp(1)*np.ones(5), np.linspace(-2, 0, 5))"
      ],
      "execution_count": 45,
      "outputs": [
        {
          "output_type": "execute_result",
          "data": {
            "text/plain": [
              "array([0.13533528, 0.22313016, 0.36787944, 0.60653066, 1.        ])"
            ]
          },
          "metadata": {
            "tags": []
          },
          "execution_count": 45
        },
        {
          "output_type": "display_data",
          "data": {
            "image/png": "[encoded data removed]",
            "text/plain": [
              "<Figure size 432x288 with 1 Axes>"
            ]
          },
          "metadata": {
            "tags": [],
            "needs_background": "light"
          }
        }
      ]
    }
  ]
}